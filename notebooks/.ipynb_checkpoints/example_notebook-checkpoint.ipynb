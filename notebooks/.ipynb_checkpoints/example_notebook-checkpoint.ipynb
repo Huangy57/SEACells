{
 "cells": [
  {
   "cell_type": "markdown",
   "metadata": {},
   "source": [
    "# Imports"
   ]
  },
  {
   "cell_type": "code",
   "execution_count": 1,
   "metadata": {},
   "outputs": [],
   "source": [
    "%load_ext autoreload\n",
    "%autoreload 2"
   ]
  },
  {
   "cell_type": "code",
   "execution_count": 2,
   "metadata": {},
   "outputs": [],
   "source": [
    "import numpy as np\n",
    "import pandas as pd\n",
    "import scanpy as sc\n",
    "\n",
    "from importlib import reload\n",
    "import sys\n",
    "import os\n",
    "sys.path.insert(1, os.path.join(sys.path[0], '..'))\n",
    "\n",
    "import matplotlib.pyplot as plt\n",
    "import seaborn as sns\n",
    "\n",
    "%matplotlib inline"
   ]
  },
  {
   "cell_type": "markdown",
   "metadata": {},
   "source": [
    "# Load Data\n",
    "\n",
    "We recommend the use of scanpy Anndata objects as the preferred mode of loading and filtering data.\n",
    "\n",
    "A sample dataset is provided and can be accessed using the ```load_data()``` method"
   ]
  },
  {
   "cell_type": "code",
   "execution_count": 3,
   "metadata": {},
   "outputs": [
    {
     "name": "stderr",
     "output_type": "stream",
     "text": [
      "findfont: Font family ['Raleway'] not found. Falling back to DejaVu Sans.\n",
      "findfont: Font family ['Lato'] not found. Falling back to DejaVu Sans.\n"
     ]
    }
   ],
   "source": [
    "from SEACells.utils import load_data"
   ]
  },
  {
   "cell_type": "code",
   "execution_count": 4,
   "metadata": {},
   "outputs": [],
   "source": [
    "ad = load_data()"
   ]
  },
  {
   "cell_type": "markdown",
   "metadata": {},
   "source": [
    "# Pre-processing\n",
    "\n",
    "The following section describes basic pre-processing steps for scRNA-seq. For scATAC-seq, we provide a pipeline for pre-processing in  in example notebook `preprocessing-ATAC.ipynb`"
   ]
  },
  {
   "cell_type": "code",
   "execution_count": 5,
   "metadata": {},
   "outputs": [],
   "source": [
    "# First we remove any genes which have counts for fewer than 5 cells\n",
    "non_zero_entries =  np.count_nonzero(ad.to_df(), axis=0)\n",
    "keep_genes = ad.var_names[non_zero_entries>=5]\n",
    "ad = ad[:, keep_genes]\n",
    "\n",
    "# We drop any cells with zero expression as well\n",
    "keep_cells = ad.obs_names[ad.to_df().sum(1) > 0]\n",
    "ad = ad[keep_cells, :]"
   ]
  },
  {
   "cell_type": "code",
   "execution_count": 6,
   "metadata": {},
   "outputs": [
    {
     "name": "stderr",
     "output_type": "stream",
     "text": [
      "Trying to set attribute `.obs` of view, copying.\n"
     ]
    }
   ],
   "source": [
    "# We now generate principal components, which will be later used to run Metacells.\n",
    "# \n",
    "\n",
    "# Normalize cells and compute highly variable genes\n",
    "sc.pp.normalize_per_cell(ad)\n",
    "sc.pp.highly_variable_genes(ad)\n",
    "\n",
    "# Compute principal components - \n",
    "# Here we use 50 components. This number may also be selected by examining variance explaint\n",
    "sc.tl.pca(ad, n_comps=50, use_highly_variable=True)"
   ]
  },
  {
   "cell_type": "markdown",
   "metadata": {},
   "source": [
    "# Running SEACells"
   ]
  },
  {
   "cell_type": "code",
   "execution_count": 7,
   "metadata": {},
   "outputs": [],
   "source": [
    "## User defined parameters\n",
    "\n",
    "## Core parameters \n",
    "n_SEACells = 10\n",
    "build_kernel_on = 'X_pca' # key in ad.obsm to use for computing metacells\n",
    "\n",
    "## Additional parameters\n",
    "n_waypoint_eigs = 10 # Number of eigenvalues to consider when initializing metacells\n",
    "waypoint_proportion = 1 # Proportion of metacells to initialize using waypoint analysis, \n",
    "                        # the remainder of cells are selected by greedy selection\n",
    "\n",
    "\n"
   ]
  },
  {
   "cell_type": "code",
   "execution_count": 8,
   "metadata": {},
   "outputs": [
    {
     "name": "stdout",
     "output_type": "stream",
     "text": [
      "Building kernel...\n",
      "Computing kNN graph using scanpy NN ...\n",
      "Computing radius for adaptive bandwidth kernel...\n"
     ]
    },
    {
     "data": {
      "application/vnd.jupyter.widget-view+json": {
       "model_id": "4d728925058d4985a21d5757cbdb4e8c",
       "version_major": 2,
       "version_minor": 0
      },
      "text/plain": [
       "HBox(children=(FloatProgress(value=0.0, max=350.0), HTML(value='')))"
      ]
     },
     "metadata": {},
     "output_type": "display_data"
    },
    {
     "name": "stdout",
     "output_type": "stream",
     "text": [
      "\n",
      "Making graph symmetric...\n",
      "Computing RBF kernel...\n"
     ]
    },
    {
     "data": {
      "application/vnd.jupyter.widget-view+json": {
       "model_id": "13fcc3793aa945918c4be46b592fa0bb",
       "version_major": 2,
       "version_minor": 0
      },
      "text/plain": [
       "HBox(children=(FloatProgress(value=0.0, max=350.0), HTML(value='')))"
      ]
     },
     "metadata": {},
     "output_type": "display_data"
    },
    {
     "name": "stdout",
     "output_type": "stream",
     "text": [
      "\n",
      "Building similarity LIL matrix...\n"
     ]
    },
    {
     "data": {
      "application/vnd.jupyter.widget-view+json": {
       "model_id": "1d9cd9ff0e4e407c803fc00decc75925",
       "version_major": 2,
       "version_minor": 0
      },
      "text/plain": [
       "HBox(children=(FloatProgress(value=0.0, max=350.0), HTML(value='')))"
      ]
     },
     "metadata": {},
     "output_type": "display_data"
    },
    {
     "name": "stdout",
     "output_type": "stream",
     "text": [
      "\n",
      "Constructing CSR matrix...\n",
      "Building kernel on X_pca\n",
      "Computing diffusion components from X_pca for waypoint initialization ... \n",
      "Determing nearest neighbor graph...\n",
      "Done.\n",
      "Sampling waypoints ...\n",
      "Done.\n",
      "Selecting 9 cells from waypoint initialization.\n",
      "Initializing residual matrix using greedy column selection\n",
      "Initializing f and g...\n"
     ]
    },
    {
     "data": {
      "application/vnd.jupyter.widget-view+json": {
       "model_id": "ce66ccf14b15473db08d727ac4789ee8",
       "version_major": 2,
       "version_minor": 0
      },
      "text/plain": [
       "HBox(children=(FloatProgress(value=0.0, max=11.0), HTML(value='')))"
      ]
     },
     "metadata": {},
     "output_type": "display_data"
    },
    {
     "name": "stdout",
     "output_type": "stream",
     "text": [
      "\n",
      "Selecting 1 cells from greedy initialization.\n",
      "Randomly initialized A matrix.\n",
      "Setting convergence threshold at 0.005159428826467081\n",
      "Starting iteration 1.\n",
      "Completed iteration 1.\n",
      "Contains 10 SEACells after 1 iterations.\n",
      "Contains 10 SEACells after 2 iterations.\n",
      "Contains 10 SEACells after 3 iterations.\n",
      "Contains 10 SEACells after 4 iterations.\n",
      "Contains 10 SEACells after 5 iterations.\n",
      "Contains 10 SEACells after 6 iterations.\n",
      "Contains 10 SEACells after 7 iterations.\n",
      "Contains 10 SEACells after 8 iterations.\n",
      "Contains 10 SEACells after 9 iterations.\n",
      "Starting iteration 10.\n",
      "Completed iteration 10.\n",
      "Contains 10 SEACells after 10 iterations.\n",
      "Contains 10 SEACells after 11 iterations.\n",
      "Contains 10 SEACells after 12 iterations.\n",
      "Contains 10 SEACells after 13 iterations.\n",
      "Contains 10 SEACells after 14 iterations.\n",
      "Contains 10 SEACells after 15 iterations.\n",
      "Contains 10 SEACells after 16 iterations.\n",
      "Contains 10 SEACells after 17 iterations.\n",
      "Contains 10 SEACells after 18 iterations.\n",
      "Contains 10 SEACells after 19 iterations.\n",
      "Starting iteration 20.\n",
      "Completed iteration 20.\n",
      "Contains 10 SEACells after 20 iterations.\n",
      "Contains 10 SEACells after 21 iterations.\n",
      "Contains 10 SEACells after 22 iterations.\n",
      "Contains 10 SEACells after 23 iterations.\n",
      "Contains 10 SEACells after 24 iterations.\n",
      "Contains 10 SEACells after 25 iterations.\n",
      "Contains 10 SEACells after 26 iterations.\n",
      "Contains 10 SEACells after 27 iterations.\n",
      "Contains 10 SEACells after 28 iterations.\n",
      "Contains 10 SEACells after 29 iterations.\n",
      "Starting iteration 30.\n",
      "Completed iteration 30.\n",
      "Contains 10 SEACells after 30 iterations.\n",
      "Contains 10 SEACells after 31 iterations.\n",
      "Contains 10 SEACells after 32 iterations.\n",
      "Contains 10 SEACells after 33 iterations.\n",
      "Contains 10 SEACells after 34 iterations.\n",
      "Contains 10 SEACells after 35 iterations.\n",
      "Contains 10 SEACells after 36 iterations.\n",
      "Contains 10 SEACells after 37 iterations.\n",
      "Contains 10 SEACells after 38 iterations.\n",
      "Contains 10 SEACells after 39 iterations.\n",
      "Starting iteration 40.\n",
      "Completed iteration 40.\n",
      "Contains 10 SEACells after 40 iterations.\n",
      "Contains 10 SEACells after 41 iterations.\n",
      "Contains 10 SEACells after 42 iterations.\n",
      "Contains 10 SEACells after 43 iterations.\n",
      "Contains 10 SEACells after 44 iterations.\n",
      "Contains 10 SEACells after 45 iterations.\n",
      "Contains 10 SEACells after 46 iterations.\n",
      "Contains 10 SEACells after 47 iterations.\n",
      "Contains 10 SEACells after 48 iterations.\n",
      "Contains 10 SEACells after 49 iterations.\n",
      "Starting iteration 50.\n",
      "Completed iteration 50.\n",
      "Contains 10 SEACells after 50 iterations.\n",
      "Contains 10 SEACells after 51 iterations.\n",
      "Contains 10 SEACells after 52 iterations.\n",
      "Contains 10 SEACells after 53 iterations.\n",
      "Contains 10 SEACells after 54 iterations.\n",
      "Contains 10 SEACells after 55 iterations.\n",
      "Contains 10 SEACells after 56 iterations.\n",
      "Contains 10 SEACells after 57 iterations.\n",
      "Contains 10 SEACells after 58 iterations.\n",
      "Contains 10 SEACells after 59 iterations.\n",
      "Starting iteration 60.\n",
      "Completed iteration 60.\n",
      "Contains 10 SEACells after 60 iterations.\n",
      "Contains 10 SEACells after 61 iterations.\n",
      "Contains 10 SEACells after 62 iterations.\n",
      "Contains 10 SEACells after 63 iterations.\n",
      "Contains 10 SEACells after 64 iterations.\n",
      "Contains 10 SEACells after 65 iterations.\n",
      "Contains 10 SEACells after 66 iterations.\n",
      "Contains 10 SEACells after 67 iterations.\n",
      "Contains 10 SEACells after 68 iterations.\n",
      "Contains 10 SEACells after 69 iterations.\n",
      "Starting iteration 70.\n",
      "Completed iteration 70.\n",
      "Contains 10 SEACells after 70 iterations.\n",
      "Contains 10 SEACells after 71 iterations.\n",
      "Contains 10 SEACells after 72 iterations.\n",
      "Contains 10 SEACells after 73 iterations.\n",
      "Contains 10 SEACells after 74 iterations.\n",
      "Contains 10 SEACells after 75 iterations.\n",
      "Contains 10 SEACells after 76 iterations.\n",
      "Contains 10 SEACells after 77 iterations.\n",
      "Contains 10 SEACells after 78 iterations.\n",
      "Contains 10 SEACells after 79 iterations.\n",
      "Starting iteration 80.\n",
      "Completed iteration 80.\n",
      "Contains 10 SEACells after 80 iterations.\n",
      "Contains 10 SEACells after 81 iterations.\n",
      "Contains 10 SEACells after 82 iterations.\n",
      "Contains 10 SEACells after 83 iterations.\n",
      "Contains 10 SEACells after 84 iterations.\n",
      "Contains 10 SEACells after 85 iterations.\n",
      "Contains 10 SEACells after 86 iterations.\n",
      "Contains 10 SEACells after 87 iterations.\n",
      "Contains 10 SEACells after 88 iterations.\n",
      "Contains 10 SEACells after 89 iterations.\n",
      "Starting iteration 90.\n",
      "Completed iteration 90.\n",
      "Contains 10 SEACells after 90 iterations.\n",
      "Contains 10 SEACells after 91 iterations.\n",
      "Contains 10 SEACells after 92 iterations.\n",
      "Contains 10 SEACells after 93 iterations.\n",
      "Contains 10 SEACells after 94 iterations.\n",
      "Contains 10 SEACells after 95 iterations.\n",
      "Contains 10 SEACells after 96 iterations.\n",
      "Contains 10 SEACells after 97 iterations.\n",
      "Contains 10 SEACells after 98 iterations.\n",
      "Contains 10 SEACells after 99 iterations.\n",
      "Starting iteration 100.\n",
      "Completed iteration 100.\n",
      "Contains 10 SEACells after 100 iterations.\n",
      "Converged after 100 iterations.\n",
      "TODO: ENTROPY NOT THE BEST MEASURE.\n"
     ]
    }
   ],
   "source": [
    "from SEACells.core import SEACells\n",
    "\n",
    "\n",
    "model = SEACells(ad, \n",
    "                  build_kernel_on=build_kernel_on, \n",
    "                  n_SEACells=n_SEACells, \n",
    "                  n_waypoint_eigs=n_waypoint_eigs,\n",
    "                  convergence_epsilon = 1e-5)\n",
    "\n",
    "model.fit(n_iter=100)\n"
   ]
  },
  {
   "cell_type": "markdown",
   "metadata": {},
   "source": [
    "# Accessing results"
   ]
  },
  {
   "cell_type": "markdown",
   "metadata": {},
   "source": [
    "### Model Parameters\n",
    "\n",
    "The SEACells model oject has the following attributes"
   ]
  },
  {
   "cell_type": "markdown",
   "metadata": {},
   "source": [
    "### Model Convergence"
   ]
  },
  {
   "cell_type": "code",
   "execution_count": 9,
   "metadata": {},
   "outputs": [
    {
     "data": {
      "image/png": "[encoded data removed]",
      "text/plain": [
       "<Figure size 432x288 with 1 Axes>"
      ]
     },
     "metadata": {},
     "output_type": "display_data"
    }
   ],
   "source": [
    "%matplotlib inline\n",
    "# Check for convergence \n",
    "model.plot_convergence()"
   ]
  },
  {
   "cell_type": "markdown",
   "metadata": {},
   "source": [
    "### SEACell Assignments\n",
    "\n",
    "These can be accessed as folows:\n",
    "- in the modified anndata object in `.obs['SEAell']`\n",
    "- from the model using `.get_assignments()`\n"
   ]
  },
  {
   "cell_type": "code",
   "execution_count": 10,
   "metadata": {},
   "outputs": [
    {
     "data": {
      "text/html": [
       "<div>\n",
       "<style scoped>\n",
       "    .dataframe tbody tr th:only-of-type {\n",
       "        vertical-align: middle;\n",
       "    }\n",
       "\n",
       "    .dataframe tbody tr th {\n",
       "        vertical-align: top;\n",
       "    }\n",
       "\n",
       "    .dataframe thead th {\n",
       "        text-align: right;\n",
       "    }\n",
       "</style>\n",
       "<table border=\"1\" class=\"dataframe\">\n",
       "  <thead>\n",
       "    <tr style=\"text-align: right;\">\n",
       "      <th></th>\n",
       "      <th>SEACell</th>\n",
       "    </tr>\n",
       "    <tr>\n",
       "      <th>index</th>\n",
       "      <th></th>\n",
       "    </tr>\n",
       "  </thead>\n",
       "  <tbody>\n",
       "    <tr>\n",
       "      <th>cd34_multiome_rep1#AAACAGCCACTCGCTC-1</th>\n",
       "      <td>cd34_multiome_rep1#AACTGTTCACAAGCCT-1</td>\n",
       "    </tr>\n",
       "    <tr>\n",
       "      <th>cd34_multiome_rep1#AAACAGCCACTGACCG-1</th>\n",
       "      <td>cd34_multiome_rep1#AAAGCGGGTATTCGCT-1</td>\n",
       "    </tr>\n",
       "    <tr>\n",
       "      <th>cd34_multiome_rep1#AAACAGCCATAATCAC-1</th>\n",
       "      <td>cd34_multiome_rep1#AACTGTTCACAAGCCT-1</td>\n",
       "    </tr>\n",
       "    <tr>\n",
       "      <th>cd34_multiome_rep1#AAACATGCAAATTCGT-1</th>\n",
       "      <td>cd34_multiome_rep1#AACTGTTCACAAGCCT-1</td>\n",
       "    </tr>\n",
       "    <tr>\n",
       "      <th>cd34_multiome_rep1#AAACATGCAGCATGTC-1</th>\n",
       "      <td>cd34_multiome_rep1#AATGAAGGTAGCTGGT-1</td>\n",
       "    </tr>\n",
       "  </tbody>\n",
       "</table>\n",
       "</div>"
      ],
      "text/plain": [
       "                                                                     SEACell\n",
       "index                                                                       \n",
       "cd34_multiome_rep1#AAACAGCCACTCGCTC-1  cd34_multiome_rep1#AACTGTTCACAAGCCT-1\n",
       "cd34_multiome_rep1#AAACAGCCACTGACCG-1  cd34_multiome_rep1#AAAGCGGGTATTCGCT-1\n",
       "cd34_multiome_rep1#AAACAGCCATAATCAC-1  cd34_multiome_rep1#AACTGTTCACAAGCCT-1\n",
       "cd34_multiome_rep1#AAACATGCAAATTCGT-1  cd34_multiome_rep1#AACTGTTCACAAGCCT-1\n",
       "cd34_multiome_rep1#AAACATGCAGCATGTC-1  cd34_multiome_rep1#AATGAAGGTAGCTGGT-1"
      ]
     },
     "execution_count": 10,
     "metadata": {},
     "output_type": "execute_result"
    }
   ],
   "source": [
    "ad.obs[['SEACell']].head()"
   ]
  },
  {
   "cell_type": "code",
   "execution_count": 11,
   "metadata": {},
   "outputs": [
    {
     "data": {
      "text/html": [
       "<div>\n",
       "<style scoped>\n",
       "    .dataframe tbody tr th:only-of-type {\n",
       "        vertical-align: middle;\n",
       "    }\n",
       "\n",
       "    .dataframe tbody tr th {\n",
       "        vertical-align: top;\n",
       "    }\n",
       "\n",
       "    .dataframe thead th {\n",
       "        text-align: right;\n",
       "    }\n",
       "</style>\n",
       "<table border=\"1\" class=\"dataframe\">\n",
       "  <thead>\n",
       "    <tr style=\"text-align: right;\">\n",
       "      <th></th>\n",
       "      <th>SEACell</th>\n",
       "    </tr>\n",
       "    <tr>\n",
       "      <th>index</th>\n",
       "      <th></th>\n",
       "    </tr>\n",
       "  </thead>\n",
       "  <tbody>\n",
       "    <tr>\n",
       "      <th>cd34_multiome_rep1#AAACAGCCACTCGCTC-1</th>\n",
       "      <td>cd34_multiome_rep1#AACTGTTCACAAGCCT-1</td>\n",
       "    </tr>\n",
       "    <tr>\n",
       "      <th>cd34_multiome_rep1#AAACAGCCACTGACCG-1</th>\n",
       "      <td>cd34_multiome_rep1#AAAGCGGGTATTCGCT-1</td>\n",
       "    </tr>\n",
       "    <tr>\n",
       "      <th>cd34_multiome_rep1#AAACAGCCATAATCAC-1</th>\n",
       "      <td>cd34_multiome_rep1#AACTGTTCACAAGCCT-1</td>\n",
       "    </tr>\n",
       "    <tr>\n",
       "      <th>cd34_multiome_rep1#AAACATGCAAATTCGT-1</th>\n",
       "      <td>cd34_multiome_rep1#AACTGTTCACAAGCCT-1</td>\n",
       "    </tr>\n",
       "    <tr>\n",
       "      <th>cd34_multiome_rep1#AAACATGCAGCATGTC-1</th>\n",
       "      <td>cd34_multiome_rep1#AATGAAGGTAGCTGGT-1</td>\n",
       "    </tr>\n",
       "  </tbody>\n",
       "</table>\n",
       "</div>"
      ],
      "text/plain": [
       "                                                                     SEACell\n",
       "index                                                                       \n",
       "cd34_multiome_rep1#AAACAGCCACTCGCTC-1  cd34_multiome_rep1#AACTGTTCACAAGCCT-1\n",
       "cd34_multiome_rep1#AAACAGCCACTGACCG-1  cd34_multiome_rep1#AAAGCGGGTATTCGCT-1\n",
       "cd34_multiome_rep1#AAACAGCCATAATCAC-1  cd34_multiome_rep1#AACTGTTCACAAGCCT-1\n",
       "cd34_multiome_rep1#AAACATGCAAATTCGT-1  cd34_multiome_rep1#AACTGTTCACAAGCCT-1\n",
       "cd34_multiome_rep1#AAACATGCAGCATGTC-1  cd34_multiome_rep1#AATGAAGGTAGCTGGT-1"
      ]
     },
     "execution_count": 11,
     "metadata": {},
     "output_type": "execute_result"
    }
   ],
   "source": [
    "model.get_assignments().head()"
   ]
  },
  {
   "cell_type": "markdown",
   "metadata": {},
   "source": [
    "# Summarizing data\n",
    "\n",
    "- `.summarize_by_metacell()`\n",
    "\n",
    "Datasets can be summarized by metacell by aggregating cells within each metacell - either averaging or summing over all raw data for all cells belonging to a metacell. The output of this function is an anndata object of shape n_metacells x original_data_dimension \n",
    "\n"
   ]
  },
  {
   "cell_type": "code",
   "execution_count": 13,
   "metadata": {},
   "outputs": [
    {
     "ename": "AttributeError",
     "evalue": "'SEACells' object has no attribute 'summarize_by_SEACell'",
     "output_type": "error",
     "traceback": [
      "\u001b[0;31m---------------------------------------------------------------------------\u001b[0m",
      "\u001b[0;31mAttributeError\u001b[0m                            Traceback (most recent call last)",
      "\u001b[0;32m<ipython-input-13-0ef18ad6d952>\u001b[0m in \u001b[0;36m<module>\u001b[0;34m\u001b[0m\n\u001b[0;32m----> 1\u001b[0;31m \u001b[0mmetacell_ad\u001b[0m \u001b[0;34m=\u001b[0m \u001b[0mmodel\u001b[0m\u001b[0;34m.\u001b[0m\u001b[0msummarize_by_SEACell\u001b[0m\u001b[0;34m(\u001b[0m\u001b[0maggregate_by\u001b[0m\u001b[0;34m=\u001b[0m\u001b[0;34m'sum'\u001b[0m\u001b[0;34m)\u001b[0m\u001b[0;34m\u001b[0m\u001b[0;34m\u001b[0m\u001b[0m\n\u001b[0m\u001b[1;32m      2\u001b[0m \u001b[0mmetacell_ad\u001b[0m\u001b[0;34m\u001b[0m\u001b[0;34m\u001b[0m\u001b[0m\n",
      "\u001b[0;31mAttributeError\u001b[0m: 'SEACells' object has no attribute 'summarize_by_SEACell'"
     ]
    }
   ],
   "source": [
    "metacell_ad = model.summarize_by_SEACell(aggregate_by='sum')\n",
    "metacell_ad"
   ]
  },
  {
   "cell_type": "code",
   "execution_count": 18,
   "metadata": {},
   "outputs": [
    {
     "ename": "ValueError",
     "evalue": "Value passed for key 'raw' is of incorrect shape. Values of layers must match dimensions (0, 1) of parent. Value had shape (350, 14273) while it should have had (350, 12186).",
     "output_type": "error",
     "traceback": [
      "\u001b[0;31m---------------------------------------------------------------------------\u001b[0m",
      "\u001b[0;31mValueError\u001b[0m                                Traceback (most recent call last)",
      "\u001b[0;32m<ipython-input-18-01aca84c373e>\u001b[0m in \u001b[0;36m<module>\u001b[0;34m\u001b[0m\n\u001b[0;32m----> 1\u001b[0;31m \u001b[0mad\u001b[0m\u001b[0;34m.\u001b[0m\u001b[0mlayers\u001b[0m\u001b[0;34m[\u001b[0m\u001b[0;34m'raw'\u001b[0m\u001b[0;34m]\u001b[0m \u001b[0;34m=\u001b[0m \u001b[0mad\u001b[0m\u001b[0;34m.\u001b[0m\u001b[0mraw\u001b[0m\u001b[0;34m.\u001b[0m\u001b[0mX\u001b[0m\u001b[0;34m\u001b[0m\u001b[0;34m\u001b[0m\u001b[0m\n\u001b[0m\u001b[1;32m      2\u001b[0m \u001b[0;34m\u001b[0m\u001b[0m\n\u001b[1;32m      3\u001b[0m \u001b[0;32mimport\u001b[0m \u001b[0manndata\u001b[0m\u001b[0;34m\u001b[0m\u001b[0;34m\u001b[0m\u001b[0m\n\u001b[1;32m      4\u001b[0m \u001b[0mdf\u001b[0m \u001b[0;34m=\u001b[0m \u001b[0mannata\u001b[0m\u001b[0;34m.\u001b[0m\u001b[0mAnnData\u001b[0m\u001b[0;34m(\u001b[0m\u001b[0mad\u001b[0m\u001b[0;34m.\u001b[0m\u001b[0mlayers\u001b[0m\u001b[0;34m[\u001b[0m\u001b[0;34m'raw'\u001b[0m\u001b[0;34m]\u001b[0m\u001b[0;34m)\u001b[0m\u001b[0;34m\u001b[0m\u001b[0;34m\u001b[0m\u001b[0m\n",
      "\u001b[0;32m~/opt/anaconda3/lib/python3.8/site-packages/anndata/_core/aligned_mapping.py\u001b[0m in \u001b[0;36m__setitem__\u001b[0;34m(self, key, value)\u001b[0m\n\u001b[1;32m    149\u001b[0m \u001b[0;34m\u001b[0m\u001b[0m\n\u001b[1;32m    150\u001b[0m     \u001b[0;32mdef\u001b[0m \u001b[0m__setitem__\u001b[0m\u001b[0;34m(\u001b[0m\u001b[0mself\u001b[0m\u001b[0;34m,\u001b[0m \u001b[0mkey\u001b[0m\u001b[0;34m:\u001b[0m \u001b[0mstr\u001b[0m\u001b[0;34m,\u001b[0m \u001b[0mvalue\u001b[0m\u001b[0;34m:\u001b[0m \u001b[0mV\u001b[0m\u001b[0;34m)\u001b[0m\u001b[0;34m:\u001b[0m\u001b[0;34m\u001b[0m\u001b[0;34m\u001b[0m\u001b[0m\n\u001b[0;32m--> 151\u001b[0;31m         \u001b[0mvalue\u001b[0m \u001b[0;34m=\u001b[0m \u001b[0mself\u001b[0m\u001b[0;34m.\u001b[0m\u001b[0m_validate_value\u001b[0m\u001b[0;34m(\u001b[0m\u001b[0mvalue\u001b[0m\u001b[0;34m,\u001b[0m \u001b[0mkey\u001b[0m\u001b[0;34m)\u001b[0m\u001b[0;34m\u001b[0m\u001b[0;34m\u001b[0m\u001b[0m\n\u001b[0m\u001b[1;32m    152\u001b[0m         \u001b[0mself\u001b[0m\u001b[0;34m.\u001b[0m\u001b[0m_data\u001b[0m\u001b[0;34m[\u001b[0m\u001b[0mkey\u001b[0m\u001b[0;34m]\u001b[0m \u001b[0;34m=\u001b[0m \u001b[0mvalue\u001b[0m\u001b[0;34m\u001b[0m\u001b[0;34m\u001b[0m\u001b[0m\n\u001b[1;32m    153\u001b[0m \u001b[0;34m\u001b[0m\u001b[0m\n",
      "\u001b[0;32m~/opt/anaconda3/lib/python3.8/site-packages/anndata/_core/aligned_mapping.py\u001b[0m in \u001b[0;36m_validate_value\u001b[0;34m(self, val, key)\u001b[0m\n\u001b[1;32m     50\u001b[0m             \u001b[0;32mif\u001b[0m \u001b[0mself\u001b[0m\u001b[0;34m.\u001b[0m\u001b[0mparent\u001b[0m\u001b[0;34m.\u001b[0m\u001b[0mshape\u001b[0m\u001b[0;34m[\u001b[0m\u001b[0maxis\u001b[0m\u001b[0;34m]\u001b[0m \u001b[0;34m!=\u001b[0m \u001b[0mval\u001b[0m\u001b[0;34m.\u001b[0m\u001b[0mshape\u001b[0m\u001b[0;34m[\u001b[0m\u001b[0mi\u001b[0m\u001b[0;34m]\u001b[0m\u001b[0;34m:\u001b[0m\u001b[0;34m\u001b[0m\u001b[0;34m\u001b[0m\u001b[0m\n\u001b[1;32m     51\u001b[0m                 \u001b[0mright_shape\u001b[0m \u001b[0;34m=\u001b[0m \u001b[0mtuple\u001b[0m\u001b[0;34m(\u001b[0m\u001b[0mself\u001b[0m\u001b[0;34m.\u001b[0m\u001b[0mparent\u001b[0m\u001b[0;34m.\u001b[0m\u001b[0mshape\u001b[0m\u001b[0;34m[\u001b[0m\u001b[0ma\u001b[0m\u001b[0;34m]\u001b[0m \u001b[0;32mfor\u001b[0m \u001b[0ma\u001b[0m \u001b[0;32min\u001b[0m \u001b[0mself\u001b[0m\u001b[0;34m.\u001b[0m\u001b[0maxes\u001b[0m\u001b[0;34m)\u001b[0m\u001b[0;34m\u001b[0m\u001b[0;34m\u001b[0m\u001b[0m\n\u001b[0;32m---> 52\u001b[0;31m                 raise ValueError(\n\u001b[0m\u001b[1;32m     53\u001b[0m                     \u001b[0;34mf\"Value passed for key {key!r} is of incorrect shape. \"\u001b[0m\u001b[0;34m\u001b[0m\u001b[0;34m\u001b[0m\u001b[0m\n\u001b[1;32m     54\u001b[0m                     \u001b[0;34mf\"Values of {self.attrname} must match dimensions \"\u001b[0m\u001b[0;34m\u001b[0m\u001b[0;34m\u001b[0m\u001b[0m\n",
      "\u001b[0;31mValueError\u001b[0m: Value passed for key 'raw' is of incorrect shape. Values of layers must match dimensions (0, 1) of parent. Value had shape (350, 14273) while it should have had (350, 12186)."
     ]
    }
   ],
   "source": [
    "ad.layers['raw'] = ad.raw.X\n",
    "\n",
    "import anndata\n",
    "df = annata.AnnData(ad.layers['raw'])"
   ]
  },
  {
   "cell_type": "markdown",
   "metadata": {},
   "source": [
    "# Evaluating Results\n",
    "\n",
    "We provide several methods for evaluating metacell assignments:"
   ]
  },
  {
   "cell_type": "markdown",
   "metadata": {},
   "source": [
    "## 1.Visualizing Results\n",
    "\n",
    "Metacells also implements methods for visualizing the results of the Metacells algorithm \n",
    "    <ul> \n",
    "        <li>```.plot_2D()``` provides an interface for viewing metacell assignments on any 2-dimensional embedding in ad.obsm. Plots can also be coloured by metacell assignment.\n",
    "        <li>```.plot_metacell_sizes()``` can be used to view the distribution of number of cells assigned to each metacell\n",
    "        <li>```.plot_assignment_entropy(ad)``` returns the entropy of assignment probabilities across metacells for each metacell. These values should ideally be low, indicating strong memmbership within a metacell. This function also optionally plots the entropy distribution.\n",
    "    </ul>\n",
    "    \n",
    "            "
   ]
  },
  {
   "cell_type": "code",
   "execution_count": 42,
   "metadata": {},
   "outputs": [],
   "source": [
    "# Load the plotting functions as plot\n",
    "from SEACells import plot\n",
    "sns.set(style=\"white\")"
   ]
  },
  {
   "cell_type": "code",
   "execution_count": 49,
   "metadata": {},
   "outputs": [
    {
     "data": {
      "image/png": "[encoded data removed]",
      "text/plain": [
       "<Figure size 360x360 with 1 Axes>"
      ]
     },
     "metadata": {},
     "output_type": "display_data"
    }
   ],
   "source": [
    "plot.plot_2D(ad, key='X_FDL', colour_metacells=False)"
   ]
  },
  {
   "cell_type": "code",
   "execution_count": 48,
   "metadata": {},
   "outputs": [
    {
     "data": {
      "image/png": "[encoded data removed]",
      "text/plain": [
       "<Figure size 360x360 with 1 Axes>"
      ]
     },
     "metadata": {},
     "output_type": "display_data"
    }
   ],
   "source": [
    "plot.plot_2D(ad, key = 'X_umap', colour_metacells=True)"
   ]
  },
  {
   "cell_type": "code",
   "execution_count": null,
   "metadata": {},
   "outputs": [],
   "source": [
    "plot.plot_SEACell_sizes(ad, bins=5)"
   ]
  },
  {
   "cell_type": "code",
   "execution_count": null,
   "metadata": {},
   "outputs": [],
   "source": [
    "plot.plot_assignment_entropy(ad)"
   ]
  },
  {
   "cell_type": "code",
   "execution_count": null,
   "metadata": {},
   "outputs": [],
   "source": [
    "# This entropy can be visualized in 2D using standard scanpy plotting functions, as well\n",
    "sc.pl.umap(ad, color='Metacell_Entropy',s=50)"
   ]
  },
  {
   "cell_type": "markdown",
   "metadata": {},
   "source": [
    "## 2. Quantifying Results\n",
    "\n",
    "Metacells also implements methods for visualizing the results of the Metacells algorithm \n",
    "    <ul> \n",
    "        <li>```.compute_celltype_purity(ad, col_name)``` computes the purity of different celltype labels within a SEACell metacell. Typically, col_name='celltype' or similar. Returns a pd.DataFrame of length n_SEACells.\n",
    "        <li>```.diffusion_component_variance(ad, low_dim_embedding)``` computes the per-SEAcell variance in diffusion components. ```low_dim_embedding``` is a string specifying the low dimensional embedding with which diffusion components are calculated, typically 'X_pca' for RNA or 'X_svd' for ATAC. Lower values of compactness suggest more compact/lower variance metacells.\n",
    "        <li>```diffusion_component_dist_to_NN(ad, low_dim_embedding,nth_nbr=1,cluster=None)``` computes the diffusion distance between a SEACell and its ```nth_nbr```. As before, ```low_dim_embedding``` is a string specifying the low dimensional embedding with which diffusion components are calculated, typically 'X_pca' for RNA or 'X_svd' for ATAC. If ```cluster``` is provided as a string, e.g. 'celltype', nearest neighbors are restricted to have the same celltype value.  Higher values of separation suggest better distinction between metacells.\n",
    "    </ul>\n",
    "    \n"
   ]
  },
  {
   "cell_type": "code",
   "execution_count": 29,
   "metadata": {},
   "outputs": [],
   "source": [
    "from SEACells import evaluate\n",
    "\n",
    "sns.set(style='white')\n",
    "%matplotlib inline"
   ]
  },
  {
   "cell_type": "code",
   "execution_count": 32,
   "metadata": {},
   "outputs": [
    {
     "data": {
      "image/png": "[encoded data removed]",
      "text/plain": [
       "<Figure size 288x288 with 1 Axes>"
      ]
     },
     "metadata": {
      "needs_background": "light"
     },
     "output_type": "display_data"
    },
    {
     "data": {
      "text/html": [
       "<div>\n",
       "<style scoped>\n",
       "    .dataframe tbody tr th:only-of-type {\n",
       "        vertical-align: middle;\n",
       "    }\n",
       "\n",
       "    .dataframe tbody tr th {\n",
       "        vertical-align: top;\n",
       "    }\n",
       "\n",
       "    .dataframe thead th {\n",
       "        text-align: right;\n",
       "    }\n",
       "</style>\n",
       "<table border=\"1\" class=\"dataframe\">\n",
       "  <thead>\n",
       "    <tr style=\"text-align: right;\">\n",
       "      <th></th>\n",
       "      <th>celltype</th>\n",
       "      <th>celltype_purity</th>\n",
       "    </tr>\n",
       "    <tr>\n",
       "      <th>SEACell</th>\n",
       "      <th></th>\n",
       "      <th></th>\n",
       "    </tr>\n",
       "  </thead>\n",
       "  <tbody>\n",
       "    <tr>\n",
       "      <th>cd34_multiome_rep1#AAAGCACCACCAGCAT-1</th>\n",
       "      <td>HMP</td>\n",
       "      <td>0.636364</td>\n",
       "    </tr>\n",
       "    <tr>\n",
       "      <th>cd34_multiome_rep1#AAAGCGGGTATTCGCT-1</th>\n",
       "      <td>Mono</td>\n",
       "      <td>0.789474</td>\n",
       "    </tr>\n",
       "    <tr>\n",
       "      <th>cd34_multiome_rep1#AACTGTTCACAAGCCT-1</th>\n",
       "      <td>HSC</td>\n",
       "      <td>0.414530</td>\n",
       "    </tr>\n",
       "    <tr>\n",
       "      <th>cd34_multiome_rep1#AAGTTACGTCATGAGC-1</th>\n",
       "      <td>HMP</td>\n",
       "      <td>0.500000</td>\n",
       "    </tr>\n",
       "    <tr>\n",
       "      <th>cd34_multiome_rep1#AAGTTAGCAGCTTACA-1</th>\n",
       "      <td>HMP</td>\n",
       "      <td>0.642857</td>\n",
       "    </tr>\n",
       "  </tbody>\n",
       "</table>\n",
       "</div>"
      ],
      "text/plain": [
       "                                      celltype  celltype_purity\n",
       "SEACell                                                        \n",
       "cd34_multiome_rep1#AAAGCACCACCAGCAT-1      HMP         0.636364\n",
       "cd34_multiome_rep1#AAAGCGGGTATTCGCT-1     Mono         0.789474\n",
       "cd34_multiome_rep1#AACTGTTCACAAGCCT-1      HSC         0.414530\n",
       "cd34_multiome_rep1#AAGTTACGTCATGAGC-1      HMP         0.500000\n",
       "cd34_multiome_rep1#AAGTTAGCAGCTTACA-1      HMP         0.642857"
      ]
     },
     "execution_count": 32,
     "metadata": {},
     "output_type": "execute_result"
    }
   ],
   "source": [
    "SEACell_purity = evaluate.compute_celltype_purity(ad, 'celltype')\n",
    "\n",
    "plt.figure(figsize=(4,4))\n",
    "sns.boxplot(data=SEACell_purity, y='celltype_purity')\n",
    "plt.title('Celltype Purity')\n",
    "sns.despine()\n",
    "plt.show()\n",
    "plt.close()\n",
    "\n",
    "SEACell_purity.head()"
   ]
  },
  {
   "cell_type": "code",
   "execution_count": 33,
   "metadata": {},
   "outputs": [
    {
     "name": "stdout",
     "output_type": "stream",
     "text": [
      "Determing nearest neighbor graph...\n"
     ]
    },
    {
     "data": {
      "image/png": "[encoded data removed]",
      "text/plain": [
       "<Figure size 288x288 with 1 Axes>"
      ]
     },
     "metadata": {
      "needs_background": "light"
     },
     "output_type": "display_data"
    },
    {
     "data": {
      "text/html": [
       "<div>\n",
       "<style scoped>\n",
       "    .dataframe tbody tr th:only-of-type {\n",
       "        vertical-align: middle;\n",
       "    }\n",
       "\n",
       "    .dataframe tbody tr th {\n",
       "        vertical-align: top;\n",
       "    }\n",
       "\n",
       "    .dataframe thead th {\n",
       "        text-align: right;\n",
       "    }\n",
       "</style>\n",
       "<table border=\"1\" class=\"dataframe\">\n",
       "  <thead>\n",
       "    <tr style=\"text-align: right;\">\n",
       "      <th></th>\n",
       "      <th>compactness</th>\n",
       "    </tr>\n",
       "    <tr>\n",
       "      <th>SEACell</th>\n",
       "      <th></th>\n",
       "    </tr>\n",
       "  </thead>\n",
       "  <tbody>\n",
       "    <tr>\n",
       "      <th>cd34_multiome_rep1#AAAGCACCACCAGCAT-1</th>\n",
       "      <td>0.000279</td>\n",
       "    </tr>\n",
       "    <tr>\n",
       "      <th>cd34_multiome_rep1#AAAGCGGGTATTCGCT-1</th>\n",
       "      <td>0.000392</td>\n",
       "    </tr>\n",
       "    <tr>\n",
       "      <th>cd34_multiome_rep1#AACTGTTCACAAGCCT-1</th>\n",
       "      <td>0.000958</td>\n",
       "    </tr>\n",
       "    <tr>\n",
       "      <th>cd34_multiome_rep1#AAGTTACGTCATGAGC-1</th>\n",
       "      <td>0.000411</td>\n",
       "    </tr>\n",
       "    <tr>\n",
       "      <th>cd34_multiome_rep1#AAGTTAGCAGCTTACA-1</th>\n",
       "      <td>0.000390</td>\n",
       "    </tr>\n",
       "  </tbody>\n",
       "</table>\n",
       "</div>"
      ],
      "text/plain": [
       "                                       compactness\n",
       "SEACell                                           \n",
       "cd34_multiome_rep1#AAAGCACCACCAGCAT-1     0.000279\n",
       "cd34_multiome_rep1#AAAGCGGGTATTCGCT-1     0.000392\n",
       "cd34_multiome_rep1#AACTGTTCACAAGCCT-1     0.000958\n",
       "cd34_multiome_rep1#AAGTTACGTCATGAGC-1     0.000411\n",
       "cd34_multiome_rep1#AAGTTAGCAGCTTACA-1     0.000390"
      ]
     },
     "execution_count": 33,
     "metadata": {},
     "output_type": "execute_result"
    }
   ],
   "source": [
    "compactness = evaluate.diffusion_component_variance(ad, 'X_pca')\n",
    "\n",
    "plt.figure(figsize=(4,4))\n",
    "sns.boxplot(data=compactness, y='compactness')\n",
    "plt.title('Compactness')\n",
    "sns.despine()\n",
    "plt.show()\n",
    "plt.close()\n",
    "\n",
    "compactness.head()"
   ]
  },
  {
   "cell_type": "code",
   "execution_count": 41,
   "metadata": {},
   "outputs": [
    {
     "name": "stdout",
     "output_type": "stream",
     "text": [
      "Determing nearest neighbor graph...\n"
     ]
    },
    {
     "data": {
      "image/png": "[encoded data removed]",
      "text/plain": [
       "<Figure size 288x288 with 1 Axes>"
      ]
     },
     "metadata": {
      "needs_background": "light"
     },
     "output_type": "display_data"
    },
    {
     "data": {
      "text/html": [
       "<div>\n",
       "<style scoped>\n",
       "    .dataframe tbody tr th:only-of-type {\n",
       "        vertical-align: middle;\n",
       "    }\n",
       "\n",
       "    .dataframe tbody tr th {\n",
       "        vertical-align: top;\n",
       "    }\n",
       "\n",
       "    .dataframe thead th {\n",
       "        text-align: right;\n",
       "    }\n",
       "</style>\n",
       "<table border=\"1\" class=\"dataframe\">\n",
       "  <thead>\n",
       "    <tr style=\"text-align: right;\">\n",
       "      <th></th>\n",
       "      <th>separation</th>\n",
       "    </tr>\n",
       "    <tr>\n",
       "      <th>SEACell</th>\n",
       "      <th></th>\n",
       "    </tr>\n",
       "  </thead>\n",
       "  <tbody>\n",
       "    <tr>\n",
       "      <th>cd34_multiome_rep1#AAAGCACCACCAGCAT-1</th>\n",
       "      <td>0.031478</td>\n",
       "    </tr>\n",
       "    <tr>\n",
       "      <th>cd34_multiome_rep1#AAAGCGGGTATTCGCT-1</th>\n",
       "      <td>0.091538</td>\n",
       "    </tr>\n",
       "    <tr>\n",
       "      <th>cd34_multiome_rep1#AACTGTTCACAAGCCT-1</th>\n",
       "      <td>0.031478</td>\n",
       "    </tr>\n",
       "    <tr>\n",
       "      <th>cd34_multiome_rep1#AAGTTACGTCATGAGC-1</th>\n",
       "      <td>0.064064</td>\n",
       "    </tr>\n",
       "    <tr>\n",
       "      <th>cd34_multiome_rep1#AAGTTAGCAGCTTACA-1</th>\n",
       "      <td>0.064973</td>\n",
       "    </tr>\n",
       "  </tbody>\n",
       "</table>\n",
       "</div>"
      ],
      "text/plain": [
       "                                       separation\n",
       "SEACell                                          \n",
       "cd34_multiome_rep1#AAAGCACCACCAGCAT-1    0.031478\n",
       "cd34_multiome_rep1#AAAGCGGGTATTCGCT-1    0.091538\n",
       "cd34_multiome_rep1#AACTGTTCACAAGCCT-1    0.031478\n",
       "cd34_multiome_rep1#AAGTTACGTCATGAGC-1    0.064064\n",
       "cd34_multiome_rep1#AAGTTAGCAGCTTACA-1    0.064973"
      ]
     },
     "execution_count": 41,
     "metadata": {},
     "output_type": "execute_result"
    }
   ],
   "source": [
    "separation = evaluate.diffusion_component_dist_to_NN(ad, 'X_pca',nth_nbr=1)\n",
    "\n",
    "plt.figure(figsize=(4,4))\n",
    "sns.boxplot(data=separation, y='separation')\n",
    "plt.title('Separation')\n",
    "sns.despine()\n",
    "plt.show()\n",
    "plt.close()\n",
    "\n",
    "separation.head()"
   ]
  },
  {
   "cell_type": "code",
   "execution_count": null,
   "metadata": {},
   "outputs": [],
   "source": []
  }
 ],
 "metadata": {
  "kernelspec": {
   "display_name": "Python 3",
   "language": "python",
   "name": "python3"
  },
  "language_info": {
   "codemirror_mode": {
    "name": "ipython",
    "version": 3
   },
   "file_extension": ".py",
   "mimetype": "text/x-python",
   "name": "python",
   "nbconvert_exporter": "python",
   "pygments_lexer": "ipython3",
   "version": "3.8.3"
  },
  "toc": {
   "base_numbering": 1,
   "nav_menu": {},
   "number_sections": true,
   "sideBar": true,
   "skip_h1_title": false,
   "title_cell": "Table of Contents",
   "title_sidebar": "Contents",
   "toc_cell": false,
   "toc_position": {},
   "toc_section_display": true,
   "toc_window_display": false
  }
 },
 "nbformat": 4,
 "nbformat_minor": 1
}
