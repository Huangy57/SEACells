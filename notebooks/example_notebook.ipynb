{
 "cells": [
  {
   "cell_type": "markdown",
   "metadata": {},
   "source": [
    "# Imports"
   ]
  },
  {
   "cell_type": "code",
   "execution_count": 1,
   "metadata": {},
   "outputs": [],
   "source": [
    "%load_ext autoreload\n",
    "%autoreload 2"
   ]
  },
  {
   "cell_type": "code",
   "execution_count": 2,
   "metadata": {},
   "outputs": [],
   "source": [
    "import numpy as np\n",
    "import pandas as pd\n",
    "import scanpy as sc\n",
    "\n",
    "from importlib import reload\n",
    "import sys\n",
    "import os\n",
    "sys.path.insert(1, os.path.join(sys.path[0], '..'))\n",
    "\n",
    "import matplotlib.pyplot as plt\n",
    "import seaborn as sns\n",
    "\n",
    "%matplotlib inline"
   ]
  },
  {
   "cell_type": "markdown",
   "metadata": {},
   "source": [
    "# Load Data\n",
    "\n",
    "We recommend the use of scanpy Anndata objects as the preferred mode of loading and filtering data.\n",
    "\n",
    "A sample dataset is provided and can be accessed using the ```load_data()``` method"
   ]
  },
  {
   "cell_type": "code",
   "execution_count": 3,
   "metadata": {},
   "outputs": [
    {
     "name": "stderr",
     "output_type": "stream",
     "text": [
      "findfont: Font family ['Raleway'] not found. Falling back to DejaVu Sans.\n",
      "findfont: Font family ['Lato'] not found. Falling back to DejaVu Sans.\n"
     ]
    }
   ],
   "source": [
    "from SEACells.utils import load_data"
   ]
  },
  {
   "cell_type": "code",
   "execution_count": 4,
   "metadata": {},
   "outputs": [],
   "source": [
    "ad = load_data()"
   ]
  },
  {
   "cell_type": "markdown",
   "metadata": {},
   "source": [
    "# Pre-processing\n",
    "\n",
    "The following section describes basic pre-processing steps for scRNA-seq. For scATAC-seq, we provide a pipeline for pre-processing in  in example notebook `preprocessing-ATAC.ipynb`"
   ]
  },
  {
   "cell_type": "code",
   "execution_count": 5,
   "metadata": {},
   "outputs": [
    {
     "name": "stderr",
     "output_type": "stream",
     "text": [
      "/Users/sitarapersad/opt/anaconda3/lib/python3.7/site-packages/pandas/core/arrays/categorical.py:2492: FutureWarning: The `inplace` parameter in pandas.Categorical.remove_unused_categories is deprecated and will be removed in a future version.\n",
      "  res = method(*args, **kwargs)\n",
      "/Users/sitarapersad/opt/anaconda3/lib/python3.7/site-packages/pandas/core/arrays/categorical.py:2492: FutureWarning: The `inplace` parameter in pandas.Categorical.remove_unused_categories is deprecated and will be removed in a future version.\n",
      "  res = method(*args, **kwargs)\n"
     ]
    }
   ],
   "source": [
    "# First we remove any genes which have counts for fewer than 5 cells\n",
    "non_zero_entries =  np.count_nonzero(ad.to_df(), axis=0)\n",
    "keep_genes = ad.var_names[non_zero_entries>=5]\n",
    "ad = ad[:, keep_genes]\n",
    "\n",
    "# We drop any cells with zero expression as well\n",
    "keep_cells = ad.obs_names[ad.to_df().sum(1) > 0]\n",
    "ad = ad[keep_cells, :]"
   ]
  },
  {
   "cell_type": "code",
   "execution_count": 6,
   "metadata": {},
   "outputs": [
    {
     "name": "stderr",
     "output_type": "stream",
     "text": [
      "Trying to set attribute `.obs` of view, copying.\n",
      "/Users/sitarapersad/opt/anaconda3/lib/python3.7/site-packages/pandas/core/arrays/categorical.py:2492: FutureWarning: The `inplace` parameter in pandas.Categorical.remove_unused_categories is deprecated and will be removed in a future version.\n",
      "  res = method(*args, **kwargs)\n"
     ]
    }
   ],
   "source": [
    "# We now generate principal components, which will be later used to run Metacells.\n",
    "# \n",
    "\n",
    "# Normalize cells and compute highly variable genes\n",
    "sc.pp.normalize_per_cell(ad)\n",
    "sc.pp.highly_variable_genes(ad)\n",
    "\n",
    "# Compute principal components - \n",
    "# Here we use 50 components. This number may also be selected by examining variance explaint\n",
    "sc.tl.pca(ad, n_comps=50, use_highly_variable=True)"
   ]
  },
  {
   "cell_type": "markdown",
   "metadata": {},
   "source": [
    "# Running SEACells"
   ]
  },
  {
   "cell_type": "code",
   "execution_count": 7,
   "metadata": {},
   "outputs": [],
   "source": [
    "## User defined parameters\n",
    "\n",
    "## Core parameters \n",
    "n_SEACells = 10\n",
    "build_kernel_on = 'X_pca' # key in ad.obsm to use for computing metacells\n",
    "\n",
    "## Additional parameters\n",
    "n_waypoint_eigs = 10 # Number of eigenvalues to consider when initializing metacells\n",
    "waypoint_proportion = 1 # Proportion of metacells to initialize using waypoint analysis, \n",
    "                        # the remainder of cells are selected by greedy selection\n",
    "\n",
    "\n"
   ]
  },
  {
   "cell_type": "code",
   "execution_count": 9,
   "metadata": {},
   "outputs": [
    {
     "name": "stderr",
     "output_type": "stream",
     "text": [
      "/Users/sitarapersad/opt/anaconda3/lib/python3.7/site-packages/pandas/core/arrays/categorical.py:2492: FutureWarning: The `inplace` parameter in pandas.Categorical.remove_unused_categories is deprecated and will be removed in a future version.\n",
      "  res = method(*args, **kwargs)\n"
     ]
    },
    {
     "name": "stdout",
     "output_type": "stream",
     "text": [
      "Building kernel...\n",
      "Computing kNN graph using scanpy NN ...\n",
      "Computing radius for adaptive bandwidth kernel...\n"
     ]
    },
    {
     "name": "stderr",
     "output_type": "stream",
     "text": [
      "[autoreload of SEACells.core failed: Traceback (most recent call last):\n",
      "  File \"/Users/sitarapersad/opt/anaconda3/lib/python3.7/site-packages/IPython/extensions/autoreload.py\", line 245, in check\n",
      "    superreload(m, reload, self.old_objects)\n",
      "  File \"/Users/sitarapersad/opt/anaconda3/lib/python3.7/site-packages/IPython/extensions/autoreload.py\", line 450, in superreload\n",
      "    update_generic(old_obj, new_obj)\n",
      "  File \"/Users/sitarapersad/opt/anaconda3/lib/python3.7/site-packages/IPython/extensions/autoreload.py\", line 387, in update_generic\n",
      "    update(a, b)\n",
      "  File \"/Users/sitarapersad/opt/anaconda3/lib/python3.7/site-packages/IPython/extensions/autoreload.py\", line 357, in update_class\n",
      "    update_instances(old, new)\n",
      "  File \"/Users/sitarapersad/opt/anaconda3/lib/python3.7/site-packages/IPython/extensions/autoreload.py\", line 317, in update_instances\n",
      "    update_instances(old, new, obj, visited)\n",
      "  File \"/Users/sitarapersad/opt/anaconda3/lib/python3.7/site-packages/IPython/extensions/autoreload.py\", line 317, in update_instances\n",
      "    update_instances(old, new, obj, visited)\n",
      "  File \"/Users/sitarapersad/opt/anaconda3/lib/python3.7/site-packages/IPython/extensions/autoreload.py\", line 317, in update_instances\n",
      "    update_instances(old, new, obj, visited)\n",
      "  [Previous line repeated 3 more times]\n",
      "RecursionError: maximum recursion depth exceeded in comparison\n",
      "]\n"
     ]
    },
    {
     "data": {
      "application/vnd.jupyter.widget-view+json": {
       "model_id": "95948a6e4db3449a9617b310b66714fd",
       "version_major": 2,
       "version_minor": 0
      },
      "text/plain": [
       "HBox(children=(IntProgress(value=0, max=350), HTML(value='')))"
      ]
     },
     "metadata": {},
     "output_type": "display_data"
    },
    {
     "name": "stdout",
     "output_type": "stream",
     "text": [
      "\n",
      "Making graph symmetric...\n",
      "Computing RBF kernel...\n"
     ]
    },
    {
     "data": {
      "application/vnd.jupyter.widget-view+json": {
       "model_id": "e29465c8544c4594b107682d2c8edeaf",
       "version_major": 2,
       "version_minor": 0
      },
      "text/plain": [
       "HBox(children=(IntProgress(value=0, max=350), HTML(value='')))"
      ]
     },
     "metadata": {},
     "output_type": "display_data"
    },
    {
     "name": "stdout",
     "output_type": "stream",
     "text": [
      "\n",
      "Building similarity LIL matrix...\n"
     ]
    },
    {
     "data": {
      "application/vnd.jupyter.widget-view+json": {
       "model_id": "b9a8f6e59016485998e82f763aeb0f47",
       "version_major": 2,
       "version_minor": 0
      },
      "text/plain": [
       "HBox(children=(IntProgress(value=0, max=350), HTML(value='')))"
      ]
     },
     "metadata": {},
     "output_type": "display_data"
    },
    {
     "name": "stdout",
     "output_type": "stream",
     "text": [
      "\n",
      "Constructing CSR matrix...\n",
      "Building kernel on X_pca\n",
      "Computing diffusion components from X_pca for waypoint initialization ... \n",
      "Determing nearest neighbor graph...\n",
      "Done.\n",
      "Sampling waypoints ...\n",
      "Done.\n",
      "Selecting 9 cells from waypoint initialization.\n",
      "Initializing residual matrix using greedy column selection\n",
      "Initializing f and g...\n"
     ]
    },
    {
     "data": {
      "application/vnd.jupyter.widget-view+json": {
       "model_id": "2c0bc83513ce4da2940ab8d681f72cc5",
       "version_major": 2,
       "version_minor": 0
      },
      "text/plain": [
       "HBox(children=(IntProgress(value=0, max=11), HTML(value='')))"
      ]
     },
     "metadata": {},
     "output_type": "display_data"
    },
    {
     "name": "stdout",
     "output_type": "stream",
     "text": [
      "\n",
      "Selecting 1 cells from greedy initialization.\n",
      "Randomly initialized A matrix.\n",
      "Setting convergence threshold at 0.004718979160237015\n",
      "Starting iteration 1.\n",
      "Completed iteration 1.\n",
      "Contains 10 SEACells after 1 iterations.\n",
      "Contains 10 SEACells after 2 iterations.\n",
      "Contains 10 SEACells after 3 iterations.\n",
      "Contains 10 SEACells after 4 iterations.\n",
      "Contains 10 SEACells after 5 iterations.\n",
      "Contains 10 SEACells after 6 iterations.\n",
      "Contains 10 SEACells after 7 iterations.\n",
      "Contains 10 SEACells after 8 iterations.\n",
      "Contains 10 SEACells after 9 iterations.\n",
      "Starting iteration 10.\n",
      "Completed iteration 10.\n",
      "Contains 10 SEACells after 10 iterations.\n",
      "Contains 10 SEACells after 11 iterations.\n",
      "Contains 10 SEACells after 12 iterations.\n",
      "Contains 10 SEACells after 13 iterations.\n",
      "Contains 10 SEACells after 14 iterations.\n",
      "Contains 10 SEACells after 15 iterations.\n",
      "Contains 10 SEACells after 16 iterations.\n",
      "Contains 10 SEACells after 17 iterations.\n",
      "Contains 10 SEACells after 18 iterations.\n",
      "Contains 10 SEACells after 19 iterations.\n",
      "Starting iteration 20.\n",
      "Completed iteration 20.\n",
      "Contains 10 SEACells after 20 iterations.\n",
      "Contains 10 SEACells after 21 iterations.\n",
      "Contains 10 SEACells after 22 iterations.\n",
      "Contains 10 SEACells after 23 iterations.\n",
      "Contains 10 SEACells after 24 iterations.\n",
      "Contains 10 SEACells after 25 iterations.\n",
      "Contains 10 SEACells after 26 iterations.\n",
      "Contains 10 SEACells after 27 iterations.\n",
      "Contains 10 SEACells after 28 iterations.\n",
      "Contains 10 SEACells after 29 iterations.\n",
      "Starting iteration 30.\n",
      "Completed iteration 30.\n",
      "Contains 10 SEACells after 30 iterations.\n",
      "Contains 10 SEACells after 31 iterations.\n",
      "Contains 10 SEACells after 32 iterations.\n",
      "Contains 10 SEACells after 33 iterations.\n",
      "Contains 10 SEACells after 34 iterations.\n",
      "Contains 10 SEACells after 35 iterations.\n",
      "Contains 10 SEACells after 36 iterations.\n",
      "Contains 10 SEACells after 37 iterations.\n",
      "Contains 10 SEACells after 38 iterations.\n",
      "Contains 10 SEACells after 39 iterations.\n",
      "Starting iteration 40.\n",
      "Completed iteration 40.\n",
      "Contains 10 SEACells after 40 iterations.\n",
      "Contains 10 SEACells after 41 iterations.\n",
      "Contains 10 SEACells after 42 iterations.\n",
      "Contains 10 SEACells after 43 iterations.\n",
      "Contains 10 SEACells after 44 iterations.\n",
      "Contains 10 SEACells after 45 iterations.\n",
      "Contains 10 SEACells after 46 iterations.\n",
      "Contains 10 SEACells after 47 iterations.\n",
      "Contains 10 SEACells after 48 iterations.\n",
      "Contains 10 SEACells after 49 iterations.\n",
      "Starting iteration 50.\n",
      "Completed iteration 50.\n",
      "Contains 10 SEACells after 50 iterations.\n",
      "Contains 10 SEACells after 51 iterations.\n",
      "Contains 10 SEACells after 52 iterations.\n",
      "Contains 10 SEACells after 53 iterations.\n",
      "Contains 10 SEACells after 54 iterations.\n",
      "Contains 10 SEACells after 55 iterations.\n",
      "Contains 10 SEACells after 56 iterations.\n",
      "Contains 10 SEACells after 57 iterations.\n",
      "Contains 10 SEACells after 58 iterations.\n",
      "Contains 10 SEACells after 59 iterations.\n",
      "Starting iteration 60.\n",
      "Completed iteration 60.\n",
      "Contains 10 SEACells after 60 iterations.\n",
      "Contains 10 SEACells after 61 iterations.\n",
      "Contains 10 SEACells after 62 iterations.\n",
      "Contains 10 SEACells after 63 iterations.\n",
      "Contains 10 SEACells after 64 iterations.\n",
      "Contains 10 SEACells after 65 iterations.\n",
      "Contains 10 SEACells after 66 iterations.\n",
      "Contains 10 SEACells after 67 iterations.\n",
      "Contains 10 SEACells after 68 iterations.\n",
      "Contains 10 SEACells after 69 iterations.\n",
      "Starting iteration 70.\n",
      "Completed iteration 70.\n",
      "Contains 10 SEACells after 70 iterations.\n",
      "Contains 10 SEACells after 71 iterations.\n",
      "Contains 10 SEACells after 72 iterations.\n",
      "Contains 10 SEACells after 73 iterations.\n",
      "Contains 10 SEACells after 74 iterations.\n",
      "Contains 10 SEACells after 75 iterations.\n",
      "Contains 10 SEACells after 76 iterations.\n",
      "Contains 10 SEACells after 77 iterations.\n",
      "Contains 10 SEACells after 78 iterations.\n",
      "Contains 10 SEACells after 79 iterations.\n",
      "Starting iteration 80.\n",
      "Completed iteration 80.\n",
      "Contains 10 SEACells after 80 iterations.\n",
      "Contains 10 SEACells after 81 iterations.\n",
      "Contains 10 SEACells after 82 iterations.\n",
      "Contains 10 SEACells after 83 iterations.\n",
      "Contains 10 SEACells after 84 iterations.\n",
      "Contains 10 SEACells after 85 iterations.\n",
      "Contains 10 SEACells after 86 iterations.\n",
      "Contains 10 SEACells after 87 iterations.\n",
      "Contains 10 SEACells after 88 iterations.\n",
      "Contains 10 SEACells after 89 iterations.\n",
      "Starting iteration 90.\n",
      "Completed iteration 90.\n",
      "Contains 10 SEACells after 90 iterations.\n",
      "Contains 10 SEACells after 91 iterations.\n",
      "Contains 10 SEACells after 92 iterations.\n",
      "Contains 10 SEACells after 93 iterations.\n",
      "Contains 10 SEACells after 94 iterations.\n",
      "Contains 10 SEACells after 95 iterations.\n",
      "Contains 10 SEACells after 96 iterations.\n",
      "Contains 10 SEACells after 97 iterations.\n",
      "Contains 10 SEACells after 98 iterations.\n",
      "Contains 10 SEACells after 99 iterations.\n",
      "Starting iteration 100.\n",
      "Completed iteration 100.\n",
      "Contains 10 SEACells after 100 iterations.\n",
      "Converged after 100 iterations.\n",
      "TODO: ENTROPY NOT THE BEST MEASURE.\n"
     ]
    }
   ],
   "source": [
    "from SEACells.core import SEACells\n",
    "\n",
    "\n",
    "model = SEACells(ad, \n",
    "                  build_kernel_on=build_kernel_on, \n",
    "                  n_SEACells=n_SEACells, \n",
    "                  n_waypoint_eigs=n_waypoint_eigs,\n",
    "                  convergence_epsilon = 1e-5)\n",
    "\n",
    "model.fit(n_iter=100)\n"
   ]
  },
  {
   "cell_type": "markdown",
   "metadata": {},
   "source": [
    "# Accessing results"
   ]
  },
  {
   "cell_type": "markdown",
   "metadata": {},
   "source": [
    "### Model Parameters\n",
    "\n",
    "The SEACells model oject has the following attributes"
   ]
  },
  {
   "cell_type": "markdown",
   "metadata": {},
   "source": [
    "### Model Convergence"
   ]
  },
  {
   "cell_type": "code",
   "execution_count": 10,
   "metadata": {},
   "outputs": [
    {
     "data": {
      "image/png": "[encoded data removed]",
      "text/plain": [
       "<Figure size 432x288 with 1 Axes>"
      ]
     },
     "metadata": {},
     "output_type": "display_data"
    }
   ],
   "source": [
    "%matplotlib inline\n",
    "# Check for convergence \n",
    "model.plot_convergence()"
   ]
  },
  {
   "cell_type": "markdown",
   "metadata": {},
   "source": [
    "### SEACell Assignments\n",
    "\n",
    "These can be accessed as folows:\n",
    "- in the modified anndata object in `.obs['SEAell']`\n",
    "- from the model using `.get_assignments()`\n"
   ]
  },
  {
   "cell_type": "code",
   "execution_count": 14,
   "metadata": {},
   "outputs": [
    {
     "data": {
      "text/html": [
       "<div>\n",
       "<style scoped>\n",
       "    .dataframe tbody tr th:only-of-type {\n",
       "        vertical-align: middle;\n",
       "    }\n",
       "\n",
       "    .dataframe tbody tr th {\n",
       "        vertical-align: top;\n",
       "    }\n",
       "\n",
       "    .dataframe thead th {\n",
       "        text-align: right;\n",
       "    }\n",
       "</style>\n",
       "<table border=\"1\" class=\"dataframe\">\n",
       "  <thead>\n",
       "    <tr style=\"text-align: right;\">\n",
       "      <th></th>\n",
       "      <th>SEACell</th>\n",
       "    </tr>\n",
       "    <tr>\n",
       "      <th>index</th>\n",
       "      <th></th>\n",
       "    </tr>\n",
       "  </thead>\n",
       "  <tbody>\n",
       "    <tr>\n",
       "      <th>cd34_multiome_rep1#AAACAGCCACTCGCTC-1</th>\n",
       "      <td>cd34_multiome_rep1#AATCCCTGTCAAGTAT-1</td>\n",
       "    </tr>\n",
       "    <tr>\n",
       "      <th>cd34_multiome_rep1#AAACAGCCACTGACCG-1</th>\n",
       "      <td>cd34_multiome_rep1#AAAGCGGGTATTCGCT-1</td>\n",
       "    </tr>\n",
       "    <tr>\n",
       "      <th>cd34_multiome_rep1#AAACAGCCATAATCAC-1</th>\n",
       "      <td>cd34_multiome_rep1#ACAACAGAGTGGACAA-1</td>\n",
       "    </tr>\n",
       "    <tr>\n",
       "      <th>cd34_multiome_rep1#AAACATGCAAATTCGT-1</th>\n",
       "      <td>cd34_multiome_rep1#ACAACAGAGTGGACAA-1</td>\n",
       "    </tr>\n",
       "    <tr>\n",
       "      <th>cd34_multiome_rep1#AAACATGCAGCATGTC-1</th>\n",
       "      <td>cd34_multiome_rep1#AATGAAGGTAGCTGGT-1</td>\n",
       "    </tr>\n",
       "  </tbody>\n",
       "</table>\n",
       "</div>"
      ],
      "text/plain": [
       "                                                                     SEACell\n",
       "index                                                                       \n",
       "cd34_multiome_rep1#AAACAGCCACTCGCTC-1  cd34_multiome_rep1#AATCCCTGTCAAGTAT-1\n",
       "cd34_multiome_rep1#AAACAGCCACTGACCG-1  cd34_multiome_rep1#AAAGCGGGTATTCGCT-1\n",
       "cd34_multiome_rep1#AAACAGCCATAATCAC-1  cd34_multiome_rep1#ACAACAGAGTGGACAA-1\n",
       "cd34_multiome_rep1#AAACATGCAAATTCGT-1  cd34_multiome_rep1#ACAACAGAGTGGACAA-1\n",
       "cd34_multiome_rep1#AAACATGCAGCATGTC-1  cd34_multiome_rep1#AATGAAGGTAGCTGGT-1"
      ]
     },
     "execution_count": 14,
     "metadata": {},
     "output_type": "execute_result"
    }
   ],
   "source": [
    "ad.obs[['SEACell']].head()"
   ]
  },
  {
   "cell_type": "code",
   "execution_count": 15,
   "metadata": {},
   "outputs": [
    {
     "data": {
      "text/html": [
       "<div>\n",
       "<style scoped>\n",
       "    .dataframe tbody tr th:only-of-type {\n",
       "        vertical-align: middle;\n",
       "    }\n",
       "\n",
       "    .dataframe tbody tr th {\n",
       "        vertical-align: top;\n",
       "    }\n",
       "\n",
       "    .dataframe thead th {\n",
       "        text-align: right;\n",
       "    }\n",
       "</style>\n",
       "<table border=\"1\" class=\"dataframe\">\n",
       "  <thead>\n",
       "    <tr style=\"text-align: right;\">\n",
       "      <th></th>\n",
       "      <th>SEACell</th>\n",
       "    </tr>\n",
       "    <tr>\n",
       "      <th>index</th>\n",
       "      <th></th>\n",
       "    </tr>\n",
       "  </thead>\n",
       "  <tbody>\n",
       "    <tr>\n",
       "      <th>cd34_multiome_rep1#AAACAGCCACTCGCTC-1</th>\n",
       "      <td>cd34_multiome_rep1#AATCCCTGTCAAGTAT-1</td>\n",
       "    </tr>\n",
       "    <tr>\n",
       "      <th>cd34_multiome_rep1#AAACAGCCACTGACCG-1</th>\n",
       "      <td>cd34_multiome_rep1#AAAGCGGGTATTCGCT-1</td>\n",
       "    </tr>\n",
       "    <tr>\n",
       "      <th>cd34_multiome_rep1#AAACAGCCATAATCAC-1</th>\n",
       "      <td>cd34_multiome_rep1#ACAACAGAGTGGACAA-1</td>\n",
       "    </tr>\n",
       "    <tr>\n",
       "      <th>cd34_multiome_rep1#AAACATGCAAATTCGT-1</th>\n",
       "      <td>cd34_multiome_rep1#ACAACAGAGTGGACAA-1</td>\n",
       "    </tr>\n",
       "    <tr>\n",
       "      <th>cd34_multiome_rep1#AAACATGCAGCATGTC-1</th>\n",
       "      <td>cd34_multiome_rep1#AATGAAGGTAGCTGGT-1</td>\n",
       "    </tr>\n",
       "  </tbody>\n",
       "</table>\n",
       "</div>"
      ],
      "text/plain": [
       "                                                                     SEACell\n",
       "index                                                                       \n",
       "cd34_multiome_rep1#AAACAGCCACTCGCTC-1  cd34_multiome_rep1#AATCCCTGTCAAGTAT-1\n",
       "cd34_multiome_rep1#AAACAGCCACTGACCG-1  cd34_multiome_rep1#AAAGCGGGTATTCGCT-1\n",
       "cd34_multiome_rep1#AAACAGCCATAATCAC-1  cd34_multiome_rep1#ACAACAGAGTGGACAA-1\n",
       "cd34_multiome_rep1#AAACATGCAAATTCGT-1  cd34_multiome_rep1#ACAACAGAGTGGACAA-1\n",
       "cd34_multiome_rep1#AAACATGCAGCATGTC-1  cd34_multiome_rep1#AATGAAGGTAGCTGGT-1"
      ]
     },
     "execution_count": 15,
     "metadata": {},
     "output_type": "execute_result"
    }
   ],
   "source": [
    "model.get_assignments().head()"
   ]
  },
  {
   "cell_type": "markdown",
   "metadata": {},
   "source": [
    "# Summarizing data\n",
    "\n",
    "- `.summarize_by_metacell()`\n",
    "\n",
    "Datasets can be summarized by metacell by aggregating cells within each metacell - either averaging or summing over all raw data for all cells belonging to a metacell. The output of this function is an anndata object of shape n_metacells x original_data_dimension \n",
    "\n"
   ]
  },
  {
   "cell_type": "code",
   "execution_count": null,
   "metadata": {},
   "outputs": [],
   "source": [
    "metacell_ad = model.summarize_by_metacell(aggregate_by='sum')\n",
    "metacell_ad"
   ]
  },
  {
   "cell_type": "markdown",
   "metadata": {},
   "source": [
    "# Evaluating Results\n",
    "\n",
    "We provide several methods for evaluating metacell assignments:"
   ]
  },
  {
   "cell_type": "markdown",
   "metadata": {},
   "source": [
    "## 1.Visualizing Results\n",
    "\n",
    "Metacells also implements methods for visualizing the results of the Metacells algorithm \n",
    "    <ul> \n",
    "        <li>```.plot_2D()``` provides an interface for viewing metacell assignments on any 2-dimensional embedding in ad.obsm. Plots can also be coloured by metacell assignment.\n",
    "        <li>```.plot_metacell_sizes()``` can be used to view the distribution of number of cells assigned to each metacell\n",
    "        <li>```.plot_assignment_entropy(ad)``` returns the entropy of assignment probabilities across metacells for each metacell. These values should ideally be low, indicating strong memmbership within a metacell. This function also optionally plots the entropy distribution.\n",
    "    </ul>\n",
    "    \n",
    "            "
   ]
  },
  {
   "cell_type": "code",
   "execution_count": null,
   "metadata": {},
   "outputs": [],
   "source": [
    "# Load the plotting functions as plot\n",
    "from metacells import plot\n",
    "sns.set(style=\"white\")"
   ]
  },
  {
   "cell_type": "code",
   "execution_count": null,
   "metadata": {},
   "outputs": [],
   "source": [
    "plot.plot_2D(ad, key='X_umap', colour_metacells=False)"
   ]
  },
  {
   "cell_type": "code",
   "execution_count": null,
   "metadata": {},
   "outputs": [],
   "source": [
    "plot.plot_2D(ad, key = 'X_FDL', colour_metacells=True)"
   ]
  },
  {
   "cell_type": "code",
   "execution_count": null,
   "metadata": {},
   "outputs": [],
   "source": [
    "plot.plot_metacell_sizes(ad, bins=5)"
   ]
  },
  {
   "cell_type": "code",
   "execution_count": null,
   "metadata": {},
   "outputs": [],
   "source": [
    "plot.plot_assignment_entropy(ad)"
   ]
  },
  {
   "cell_type": "code",
   "execution_count": null,
   "metadata": {},
   "outputs": [],
   "source": [
    "# This entropy can be visualized in 2D using standard scanpy plotting functions, as well\n",
    "sc.pl.umap(ad, color='Metacell_Entropy',s=50)"
   ]
  },
  {
   "cell_type": "markdown",
   "metadata": {},
   "source": [
    "## 2. Quantifying Results\n",
    "\n",
    "Metacells also implements methods for visualizing the results of the Metacells algorithm \n",
    "    <ul> \n",
    "        <li>```.compute_within_metacell_entropy(ad, cluster, plot=True``` computes the entropy of different cluster labels within a Metacell. Typically, we use cluster='celltype' or similar, to visualize how well metacells represent subpopulations within a single cluster. This returns a pd.DataFrame of length n_metacells with the entropy of the distribution of cluster labels within each metacell.\n",
    "        <li>```.get_metacell_compactness(ad, per_metacell=True, low_density_cells=False)``` computes the per-metacell average negative log-likelihood of cells being generated by their assigned metacell. Lower values of compactness suggest more compact/lower variance metacells. We can subset to only low density cells (computed as described in ```evaluate.get_density()```) to specific see performance in less dense regions or set per_metacell=False to see per-cell values.\n",
    "        <li>```.get_metacell_separation(ad, nbr=k, per_metacell=True, low_density_cells=False)``` computes the (per-metacell average of) the difference in negative log-likelihood of cells being generated by their kth nearest-neighbor metacell and their assigned metacell. Higher values of separation suggest better distinction between metacells. We can subset to only low density cells (computed as described in ```evaluate.get_density()```) to specific see performance in less dense regions or set per_metacell=False to see per-cell values.\n",
    "    </ul>\n",
    "    \n"
   ]
  },
  {
   "cell_type": "code",
   "execution_count": null,
   "metadata": {},
   "outputs": [],
   "source": [
    "from metacells import evaluate\n",
    "\n",
    "sns.set(style='white')\n",
    "%matplotlib inline"
   ]
  },
  {
   "cell_type": "code",
   "execution_count": null,
   "metadata": {},
   "outputs": [],
   "source": [
    "within_mc_entropy = evaluate.compute_within_metacell_entropy(ad, 'celltype')\n",
    "within_mc_entropy.head()"
   ]
  },
  {
   "cell_type": "code",
   "execution_count": null,
   "metadata": {},
   "outputs": [],
   "source": [
    "\n",
    "plt.figure(figsize=(4,4))\n",
    "sns.boxplot(data=within_mc_entropy, y='entropy')\n",
    "plt.title('Within-Metacell Celltype Entropy')\n",
    "sns.despine()\n",
    "plt.show()\n",
    "plt.close()"
   ]
  },
  {
   "cell_type": "code",
   "execution_count": null,
   "metadata": {},
   "outputs": [],
   "source": [
    "import palantir \n",
    "\n",
    "neighbours, NLL_df = evaluate.get_NLLs(ad)\n",
    "metacell_compactness = evaluate.get_compactness(ad, low_density_cells=False, per_metacell=True)\n"
   ]
  },
  {
   "cell_type": "code",
   "execution_count": null,
   "metadata": {},
   "outputs": [],
   "source": [
    "metacell_compactness_low_density = evaluate.get_compactness(ad, low_density_cells=True, per_metacell=True)"
   ]
  },
  {
   "cell_type": "code",
   "execution_count": null,
   "metadata": {},
   "outputs": [],
   "source": [
    "metacell_compactness['cells'] = 'all cells'\n",
    "metacell_compactness_low_density['cells'] = 'low density'\n",
    "\n",
    "compactness = pd.concat([metacell_compactness_low_density, metacell_compactness], axis=0)\n",
    "\n",
    "plt.figure(figsize=(5,5))\n",
    "sns.boxplot(data=compactness, x='cells', y='compactness')\n",
    "sns.despine()\n",
    "plt.title('Metacell Compactness')\n",
    "plt.show()\n",
    "plt.close()"
   ]
  },
  {
   "cell_type": "code",
   "execution_count": null,
   "metadata": {},
   "outputs": [],
   "source": [
    "metacell_separation = evaluate.get_separation(ad, low_density_cells=False, per_metacell=True)\n"
   ]
  },
  {
   "cell_type": "code",
   "execution_count": null,
   "metadata": {},
   "outputs": [],
   "source": [
    "metacell_separation_low_density = evaluate.get_separation(ad, low_density_cells=True, per_metacell=True)\n"
   ]
  },
  {
   "cell_type": "code",
   "execution_count": null,
   "metadata": {},
   "outputs": [],
   "source": [
    "metacell_separation['cells'] = 'all cells'\n",
    "metacell_separation_low_density['cells'] = 'low density'\n",
    "\n",
    "separation = pd.concat([metacell_separation_low_density, metacell_separation], axis=0)\n",
    "\n",
    "plt.figure(figsize=(5,5))\n",
    "sns.boxplot(data=separation, x='cells', y='separation')\n",
    "sns.despine()\n",
    "plt.title('Metacell Separation')\n",
    "plt.show()\n",
    "plt.close()"
   ]
  },
  {
   "cell_type": "code",
   "execution_count": null,
   "metadata": {},
   "outputs": [],
   "source": []
  }
 ],
 "metadata": {
  "kernelspec": {
   "display_name": "Python 3",
   "language": "python",
   "name": "python3"
  },
  "language_info": {
   "codemirror_mode": {
    "name": "ipython",
    "version": 3
   },
   "file_extension": ".py",
   "mimetype": "text/x-python",
   "name": "python",
   "nbconvert_exporter": "python",
   "pygments_lexer": "ipython3",
   "version": "3.7.4"
  },
  "toc": {
   "base_numbering": 1,
   "nav_menu": {},
   "number_sections": true,
   "sideBar": true,
   "skip_h1_title": false,
   "title_cell": "Table of Contents",
   "title_sidebar": "Contents",
   "toc_cell": false,
   "toc_position": {},
   "toc_section_display": true,
   "toc_window_display": false
  }
 },
 "nbformat": 4,
 "nbformat_minor": 1
}
