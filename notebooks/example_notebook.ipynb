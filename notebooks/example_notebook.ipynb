{
 "cells": [
  {
   "cell_type": "markdown",
   "metadata": {},
   "source": [
    "# Imports"
   ]
  },
  {
   "cell_type": "code",
   "execution_count": 1,
   "metadata": {},
   "outputs": [],
   "source": [
    "%load_ext autoreload\n",
    "%autoreload 2"
   ]
  },
  {
   "cell_type": "code",
   "execution_count": 2,
   "metadata": {},
   "outputs": [],
   "source": [
    "import numpy as np\n",
    "import pandas as pd\n",
    "import scanpy as sc\n",
    "\n",
    "from importlib import reload\n",
    "import sys\n",
    "import os\n",
    "sys.path.insert(1, os.path.join(sys.path[0], '..'))\n",
    "\n",
    "import matplotlib.pyplot as plt\n",
    "import seaborn as sns\n",
    "\n",
    "%matplotlib inline"
   ]
  },
  {
   "cell_type": "markdown",
   "metadata": {},
   "source": [
    "# Load Data\n",
    "\n",
    "We recommend the use of scanpy Anndata objects as the preferred mode of loading and filtering data.\n",
    "\n",
    "A sample dataset is provided and can be accessed using the ```load_data()``` method"
   ]
  },
  {
   "cell_type": "code",
   "execution_count": 3,
   "metadata": {},
   "outputs": [
    {
     "name": "stderr",
     "output_type": "stream",
     "text": [
      "findfont: Font family ['Raleway'] not found. Falling back to DejaVu Sans.\n",
      "findfont: Font family ['Lato'] not found. Falling back to DejaVu Sans.\n"
     ]
    }
   ],
   "source": [
    "from SEACells.utils import load_data"
   ]
  },
  {
   "cell_type": "code",
   "execution_count": 4,
   "metadata": {},
   "outputs": [],
   "source": [
    "ad = load_data()"
   ]
  },
  {
   "cell_type": "markdown",
   "metadata": {},
   "source": [
    "# Pre-processing\n",
    "\n",
    "The following section describes basic pre-processing steps for scRNA-seq. For scATAC-seq, we provide a pipeline for pre-processing in  in example notebook `preprocessing-ATAC.ipynb`"
   ]
  },
  {
   "cell_type": "code",
   "execution_count": 5,
   "metadata": {},
   "outputs": [],
   "source": [
    "# First we remove any genes which have counts for fewer than 5 cells\n",
    "non_zero_entries =  np.count_nonzero(ad.to_df(), axis=0)\n",
    "keep_genes = ad.var_names[non_zero_entries>=5]\n",
    "ad = ad[:, keep_genes]\n",
    "\n",
    "# We drop any cells with zero expression as well\n",
    "keep_cells = ad.obs_names[ad.to_df().sum(1) > 0]\n",
    "ad = ad[keep_cells, :]"
   ]
  },
  {
   "cell_type": "code",
   "execution_count": 6,
   "metadata": {},
   "outputs": [
    {
     "name": "stderr",
     "output_type": "stream",
     "text": [
      "Trying to set attribute `.obs` of view, copying.\n"
     ]
    }
   ],
   "source": [
    "# We now generate principal components, which will be later used to run Metacells.\n",
    "# \n",
    "\n",
    "# Normalize cells and compute highly variable genes\n",
    "sc.pp.normalize_per_cell(ad)\n",
    "sc.pp.highly_variable_genes(ad)\n",
    "\n",
    "# Compute principal components - \n",
    "# Here we use 50 components. This number may also be selected by examining variance explaint\n",
    "sc.tl.pca(ad, n_comps=50, use_highly_variable=True)"
   ]
  },
  {
   "cell_type": "markdown",
   "metadata": {},
   "source": [
    "# Running SEACells"
   ]
  },
  {
   "cell_type": "code",
   "execution_count": 7,
   "metadata": {},
   "outputs": [],
   "source": [
    "## User defined parameters\n",
    "\n",
    "## Core parameters \n",
    "n_SEACells = 10\n",
    "build_kernel_on = 'X_pca' # key in ad.obsm to use for computing metacells\n",
    "\n",
    "## Additional parameters\n",
    "n_waypoint_eigs = 10 # Number of eigenvalues to consider when initializing metacells\n",
    "waypoint_proportion = 1 # Proportion of metacells to initialize using waypoint analysis, \n",
    "                        # the remainder of cells are selected by greedy selection\n",
    "\n",
    "\n"
   ]
  },
  {
   "cell_type": "code",
   "execution_count": 8,
   "metadata": {},
   "outputs": [
    {
     "name": "stdout",
     "output_type": "stream",
     "text": [
      "Building kernel...\n",
      "Computing kNN graph using scanpy NN ...\n",
      "Computing radius for adaptive bandwidth kernel...\n"
     ]
    },
    {
     "data": {
      "application/vnd.jupyter.widget-view+json": {
       "model_id": "36adae4340974473848a0026c043e71a",
       "version_major": 2,
       "version_minor": 0
      },
      "text/plain": [
       "HBox(children=(FloatProgress(value=0.0, max=350.0), HTML(value='')))"
      ]
     },
     "metadata": {},
     "output_type": "display_data"
    },
    {
     "name": "stdout",
     "output_type": "stream",
     "text": [
      "\n",
      "Making graph symmetric...\n",
      "Computing RBF kernel...\n"
     ]
    },
    {
     "data": {
      "application/vnd.jupyter.widget-view+json": {
       "model_id": "a8bacaa9c65649068aebd6eb1553142d",
       "version_major": 2,
       "version_minor": 0
      },
      "text/plain": [
       "HBox(children=(FloatProgress(value=0.0, max=350.0), HTML(value='')))"
      ]
     },
     "metadata": {},
     "output_type": "display_data"
    },
    {
     "name": "stdout",
     "output_type": "stream",
     "text": [
      "\n",
      "Building similarity LIL matrix...\n"
     ]
    },
    {
     "data": {
      "application/vnd.jupyter.widget-view+json": {
       "model_id": "b9ab1e3626f142989436952a45c83467",
       "version_major": 2,
       "version_minor": 0
      },
      "text/plain": [
       "HBox(children=(FloatProgress(value=0.0, max=350.0), HTML(value='')))"
      ]
     },
     "metadata": {},
     "output_type": "display_data"
    },
    {
     "name": "stdout",
     "output_type": "stream",
     "text": [
      "\n",
      "Constructing CSR matrix...\n",
      "Building kernel on X_pca\n",
      "Computing diffusion components from X_pca for waypoint initialization ... \n",
      "Determing nearest neighbor graph...\n",
      "Done.\n",
      "Sampling waypoints ...\n",
      "Done.\n",
      "Selecting 9 cells from waypoint initialization.\n",
      "Initializing residual matrix using greedy column selection\n",
      "Initializing f and g...\n"
     ]
    },
    {
     "data": {
      "application/vnd.jupyter.widget-view+json": {
       "model_id": "6f01b3f0ab5e4c398886d2581fa7b8a6",
       "version_major": 2,
       "version_minor": 0
      },
      "text/plain": [
       "HBox(children=(FloatProgress(value=0.0, max=11.0), HTML(value='')))"
      ]
     },
     "metadata": {},
     "output_type": "display_data"
    },
    {
     "name": "stdout",
     "output_type": "stream",
     "text": [
      "\n",
      "Selecting 1 cells from greedy initialization.\n",
      "Randomly initialized A matrix.\n",
      "Setting convergence threshold at 0.004641388313302565\n",
      "Starting iteration 1.\n",
      "Completed iteration 1.\n",
      "Contains 10 SEACells after 1 iterations.\n",
      "Contains 10 SEACells after 2 iterations.\n",
      "Contains 10 SEACells after 3 iterations.\n",
      "Contains 10 SEACells after 4 iterations.\n",
      "Contains 10 SEACells after 5 iterations.\n",
      "Contains 10 SEACells after 6 iterations.\n",
      "Contains 10 SEACells after 7 iterations.\n",
      "Contains 10 SEACells after 8 iterations.\n",
      "Contains 10 SEACells after 9 iterations.\n",
      "Starting iteration 10.\n",
      "Completed iteration 10.\n",
      "Contains 10 SEACells after 10 iterations.\n",
      "Contains 10 SEACells after 11 iterations.\n",
      "Contains 10 SEACells after 12 iterations.\n",
      "Contains 10 SEACells after 13 iterations.\n",
      "Contains 10 SEACells after 14 iterations.\n",
      "Contains 10 SEACells after 15 iterations.\n",
      "Contains 10 SEACells after 16 iterations.\n",
      "Contains 10 SEACells after 17 iterations.\n",
      "Contains 10 SEACells after 18 iterations.\n",
      "Contains 10 SEACells after 19 iterations.\n",
      "Starting iteration 20.\n",
      "Completed iteration 20.\n",
      "Contains 10 SEACells after 20 iterations.\n",
      "Contains 10 SEACells after 21 iterations.\n",
      "Contains 10 SEACells after 22 iterations.\n",
      "Contains 10 SEACells after 23 iterations.\n",
      "Converged after 23 iterations.\n",
      "TODO: ENTROPY NOT THE BEST MEASURE.\n"
     ]
    }
   ],
   "source": [
    "from SEACells.core import SEACells\n",
    "\n",
    "\n",
    "model = SEACells(ad, \n",
    "                  build_kernel_on=build_kernel_on, \n",
    "                  n_SEACells=n_SEACells, \n",
    "                  n_waypoint_eigs=n_waypoint_eigs,\n",
    "                  convergence_epsilon = 1e-5)\n",
    "\n",
    "model.fit(n_iter=100)\n"
   ]
  },
  {
   "cell_type": "markdown",
   "metadata": {},
   "source": [
    "# Accessing results"
   ]
  },
  {
   "cell_type": "markdown",
   "metadata": {},
   "source": [
    "### Model Parameters\n",
    "\n",
    "The SEACells model oject has the following attributes"
   ]
  },
  {
   "cell_type": "markdown",
   "metadata": {},
   "source": [
    "### Model Convergence"
   ]
  },
  {
   "cell_type": "code",
   "execution_count": 9,
   "metadata": {},
   "outputs": [
    {
     "data": {
      "image/png": "[encoded data removed]",
      "text/plain": [
       "<Figure size 432x288 with 1 Axes>"
      ]
     },
     "metadata": {},
     "output_type": "display_data"
    }
   ],
   "source": [
    "%matplotlib inline\n",
    "# Check for convergence \n",
    "model.plot_convergence()"
   ]
  },
  {
   "cell_type": "markdown",
   "metadata": {},
   "source": [
    "### SEACell Assignments\n",
    "\n",
    "These can be accessed as folows:\n",
    "- in the modified anndata object in `.obs['SEAell']`\n",
    "- from the model using `.get_assignments()`\n"
   ]
  },
  {
   "cell_type": "code",
   "execution_count": 10,
   "metadata": {},
   "outputs": [
    {
     "data": {
      "text/html": [
       "<div>\n",
       "<style scoped>\n",
       "    .dataframe tbody tr th:only-of-type {\n",
       "        vertical-align: middle;\n",
       "    }\n",
       "\n",
       "    .dataframe tbody tr th {\n",
       "        vertical-align: top;\n",
       "    }\n",
       "\n",
       "    .dataframe thead th {\n",
       "        text-align: right;\n",
       "    }\n",
       "</style>\n",
       "<table border=\"1\" class=\"dataframe\">\n",
       "  <thead>\n",
       "    <tr style=\"text-align: right;\">\n",
       "      <th></th>\n",
       "      <th>SEACell</th>\n",
       "    </tr>\n",
       "    <tr>\n",
       "      <th>index</th>\n",
       "      <th></th>\n",
       "    </tr>\n",
       "  </thead>\n",
       "  <tbody>\n",
       "    <tr>\n",
       "      <th>cd34_multiome_rep1#AAACAGCCACTCGCTC-1</th>\n",
       "      <td>cd34_multiome_rep1#ACAGGAATCCACCTTA-1</td>\n",
       "    </tr>\n",
       "    <tr>\n",
       "      <th>cd34_multiome_rep1#AAACAGCCACTGACCG-1</th>\n",
       "      <td>cd34_multiome_rep1#AAAGCGGGTATTCGCT-1</td>\n",
       "    </tr>\n",
       "    <tr>\n",
       "      <th>cd34_multiome_rep1#AAACAGCCATAATCAC-1</th>\n",
       "      <td>cd34_multiome_rep1#ACAGGAATCCACCTTA-1</td>\n",
       "    </tr>\n",
       "    <tr>\n",
       "      <th>cd34_multiome_rep1#AAACATGCAAATTCGT-1</th>\n",
       "      <td>cd34_multiome_rep1#ACAGGAATCCACCTTA-1</td>\n",
       "    </tr>\n",
       "    <tr>\n",
       "      <th>cd34_multiome_rep1#AAACATGCAGCATGTC-1</th>\n",
       "      <td>cd34_multiome_rep1#AATGAAGGTAGCTGGT-1</td>\n",
       "    </tr>\n",
       "  </tbody>\n",
       "</table>\n",
       "</div>"
      ],
      "text/plain": [
       "                                                                     SEACell\n",
       "index                                                                       \n",
       "cd34_multiome_rep1#AAACAGCCACTCGCTC-1  cd34_multiome_rep1#ACAGGAATCCACCTTA-1\n",
       "cd34_multiome_rep1#AAACAGCCACTGACCG-1  cd34_multiome_rep1#AAAGCGGGTATTCGCT-1\n",
       "cd34_multiome_rep1#AAACAGCCATAATCAC-1  cd34_multiome_rep1#ACAGGAATCCACCTTA-1\n",
       "cd34_multiome_rep1#AAACATGCAAATTCGT-1  cd34_multiome_rep1#ACAGGAATCCACCTTA-1\n",
       "cd34_multiome_rep1#AAACATGCAGCATGTC-1  cd34_multiome_rep1#AATGAAGGTAGCTGGT-1"
      ]
     },
     "execution_count": 10,
     "metadata": {},
     "output_type": "execute_result"
    }
   ],
   "source": [
    "ad.obs[['SEACell']].head()"
   ]
  },
  {
   "cell_type": "code",
   "execution_count": 11,
   "metadata": {},
   "outputs": [
    {
     "data": {
      "text/html": [
       "<div>\n",
       "<style scoped>\n",
       "    .dataframe tbody tr th:only-of-type {\n",
       "        vertical-align: middle;\n",
       "    }\n",
       "\n",
       "    .dataframe tbody tr th {\n",
       "        vertical-align: top;\n",
       "    }\n",
       "\n",
       "    .dataframe thead th {\n",
       "        text-align: right;\n",
       "    }\n",
       "</style>\n",
       "<table border=\"1\" class=\"dataframe\">\n",
       "  <thead>\n",
       "    <tr style=\"text-align: right;\">\n",
       "      <th></th>\n",
       "      <th>SEACell</th>\n",
       "    </tr>\n",
       "    <tr>\n",
       "      <th>index</th>\n",
       "      <th></th>\n",
       "    </tr>\n",
       "  </thead>\n",
       "  <tbody>\n",
       "    <tr>\n",
       "      <th>cd34_multiome_rep1#AAACAGCCACTCGCTC-1</th>\n",
       "      <td>cd34_multiome_rep1#ACAGGAATCCACCTTA-1</td>\n",
       "    </tr>\n",
       "    <tr>\n",
       "      <th>cd34_multiome_rep1#AAACAGCCACTGACCG-1</th>\n",
       "      <td>cd34_multiome_rep1#AAAGCGGGTATTCGCT-1</td>\n",
       "    </tr>\n",
       "    <tr>\n",
       "      <th>cd34_multiome_rep1#AAACAGCCATAATCAC-1</th>\n",
       "      <td>cd34_multiome_rep1#ACAGGAATCCACCTTA-1</td>\n",
       "    </tr>\n",
       "    <tr>\n",
       "      <th>cd34_multiome_rep1#AAACATGCAAATTCGT-1</th>\n",
       "      <td>cd34_multiome_rep1#ACAGGAATCCACCTTA-1</td>\n",
       "    </tr>\n",
       "    <tr>\n",
       "      <th>cd34_multiome_rep1#AAACATGCAGCATGTC-1</th>\n",
       "      <td>cd34_multiome_rep1#AATGAAGGTAGCTGGT-1</td>\n",
       "    </tr>\n",
       "  </tbody>\n",
       "</table>\n",
       "</div>"
      ],
      "text/plain": [
       "                                                                     SEACell\n",
       "index                                                                       \n",
       "cd34_multiome_rep1#AAACAGCCACTCGCTC-1  cd34_multiome_rep1#ACAGGAATCCACCTTA-1\n",
       "cd34_multiome_rep1#AAACAGCCACTGACCG-1  cd34_multiome_rep1#AAAGCGGGTATTCGCT-1\n",
       "cd34_multiome_rep1#AAACAGCCATAATCAC-1  cd34_multiome_rep1#ACAGGAATCCACCTTA-1\n",
       "cd34_multiome_rep1#AAACATGCAAATTCGT-1  cd34_multiome_rep1#ACAGGAATCCACCTTA-1\n",
       "cd34_multiome_rep1#AAACATGCAGCATGTC-1  cd34_multiome_rep1#AATGAAGGTAGCTGGT-1"
      ]
     },
     "execution_count": 11,
     "metadata": {},
     "output_type": "execute_result"
    }
   ],
   "source": [
    "model.get_assignments().head()"
   ]
  },
  {
   "cell_type": "markdown",
   "metadata": {},
   "source": [
    "# Summarizing data\n",
    "\n",
    "- `.summarize_by_SEACell()`\n",
    "\n",
    "Datasets can be summarized by SEACell by aggregating cells within each SEACell, summing over all raw data for all cells belonging to a SEACell. The output of this function is an anndata object of shape n_metacells x original_data_dimension. Data is unnormalized and raw aggregated counts are stored .layers['raw']. Attributes associated with variables (.var) are copied over, but relevant per SEACell attributes must be manually copied, since certain attributes may need to be summed, or averaged etc, depending on the attribute.\n",
    "\n"
   ]
  },
  {
   "cell_type": "code",
   "execution_count": 12,
   "metadata": {},
   "outputs": [
    {
     "ename": "KeyError",
     "evalue": "'raw'",
     "output_type": "error",
     "traceback": [
      "\u001b[0;31m---------------------------------------------------------------------------\u001b[0m",
      "\u001b[0;31mKeyError\u001b[0m                                  Traceback (most recent call last)",
      "\u001b[0;32m<ipython-input-12-db6a4e72f411>\u001b[0m in \u001b[0;36m<module>\u001b[0;34m\u001b[0m\n\u001b[0;32m----> 1\u001b[0;31m \u001b[0mSEACell_ad\u001b[0m \u001b[0;34m=\u001b[0m \u001b[0mmodel\u001b[0m\u001b[0;34m.\u001b[0m\u001b[0msummarize_by_SEACell\u001b[0m\u001b[0;34m(\u001b[0m\u001b[0;34m)\u001b[0m\u001b[0;34m\u001b[0m\u001b[0;34m\u001b[0m\u001b[0m\n\u001b[0m\u001b[1;32m      2\u001b[0m \u001b[0mSEACell_ad\u001b[0m\u001b[0;34m\u001b[0m\u001b[0;34m\u001b[0m\u001b[0m\n",
      "\u001b[0;32m~/PycharmProjects/SEACells/notebooks/../SEACells/core.py\u001b[0m in \u001b[0;36msummarize_by_SEACell\u001b[0;34m(self)\u001b[0m\n\u001b[1;32m    537\u001b[0m \u001b[0;34m\u001b[0m\u001b[0m\n\u001b[1;32m    538\u001b[0m \u001b[0;34m\u001b[0m\u001b[0m\n\u001b[0;32m--> 539\u001b[0;31m         \u001b[0mgroupby_SEACells\u001b[0m \u001b[0;34m=\u001b[0m  \u001b[0mself\u001b[0m\u001b[0;34m.\u001b[0m\u001b[0mad\u001b[0m\u001b[0;34m.\u001b[0m\u001b[0mto_df\u001b[0m\u001b[0;34m(\u001b[0m\u001b[0mlayer\u001b[0m\u001b[0;34m=\u001b[0m\u001b[0;34m'raw'\u001b[0m\u001b[0;34m)\u001b[0m\u001b[0;34m.\u001b[0m\u001b[0mjoin\u001b[0m\u001b[0;34m(\u001b[0m\u001b[0mself\u001b[0m\u001b[0;34m.\u001b[0m\u001b[0mad\u001b[0m\u001b[0;34m.\u001b[0m\u001b[0mobs\u001b[0m\u001b[0;34m[\u001b[0m\u001b[0;34m'SEACell'\u001b[0m\u001b[0;34m]\u001b[0m\u001b[0;34m)\u001b[0m\u001b[0;34m.\u001b[0m\u001b[0mgroupby\u001b[0m\u001b[0;34m(\u001b[0m\u001b[0;34m'SEACell'\u001b[0m\u001b[0;34m)\u001b[0m\u001b[0;34m\u001b[0m\u001b[0;34m\u001b[0m\u001b[0m\n\u001b[0m\u001b[1;32m    540\u001b[0m         \u001b[0magg_counts\u001b[0m \u001b[0;34m=\u001b[0m\u001b[0mgroupby_SEACells\u001b[0m\u001b[0;34m.\u001b[0m\u001b[0msum\u001b[0m\u001b[0;34m(\u001b[0m\u001b[0;34m)\u001b[0m\u001b[0;34m\u001b[0m\u001b[0;34m\u001b[0m\u001b[0m\n\u001b[1;32m    541\u001b[0m         \u001b[0mSEACell_ad\u001b[0m \u001b[0;34m=\u001b[0m \u001b[0manndata\u001b[0m\u001b[0;34m.\u001b[0m\u001b[0mAnnData\u001b[0m\u001b[0;34m(\u001b[0m\u001b[0magg_counts\u001b[0m\u001b[0;34m)\u001b[0m\u001b[0;34m\u001b[0m\u001b[0;34m\u001b[0m\u001b[0m\n",
      "\u001b[0;32m~/opt/anaconda3/lib/python3.8/site-packages/anndata/_core/anndata.py\u001b[0m in \u001b[0;36mto_df\u001b[0;34m(self, layer)\u001b[0m\n\u001b[1;32m   1305\u001b[0m         \"\"\"\n\u001b[1;32m   1306\u001b[0m         \u001b[0;32mif\u001b[0m \u001b[0mlayer\u001b[0m \u001b[0;32mis\u001b[0m \u001b[0;32mnot\u001b[0m \u001b[0;32mNone\u001b[0m\u001b[0;34m:\u001b[0m\u001b[0;34m\u001b[0m\u001b[0;34m\u001b[0m\u001b[0m\n\u001b[0;32m-> 1307\u001b[0;31m             \u001b[0mX\u001b[0m \u001b[0;34m=\u001b[0m \u001b[0mself\u001b[0m\u001b[0;34m.\u001b[0m\u001b[0mlayers\u001b[0m\u001b[0;34m[\u001b[0m\u001b[0mlayer\u001b[0m\u001b[0;34m]\u001b[0m\u001b[0;34m\u001b[0m\u001b[0;34m\u001b[0m\u001b[0m\n\u001b[0m\u001b[1;32m   1308\u001b[0m         \u001b[0;32melse\u001b[0m\u001b[0;34m:\u001b[0m\u001b[0;34m\u001b[0m\u001b[0;34m\u001b[0m\u001b[0m\n\u001b[1;32m   1309\u001b[0m             \u001b[0mX\u001b[0m \u001b[0;34m=\u001b[0m \u001b[0mself\u001b[0m\u001b[0;34m.\u001b[0m\u001b[0mX\u001b[0m\u001b[0;34m\u001b[0m\u001b[0;34m\u001b[0m\u001b[0m\n",
      "\u001b[0;32m~/opt/anaconda3/lib/python3.8/site-packages/anndata/_core/aligned_mapping.py\u001b[0m in \u001b[0;36m__getitem__\u001b[0;34m(self, key)\u001b[0m\n\u001b[1;32m    146\u001b[0m \u001b[0;34m\u001b[0m\u001b[0m\n\u001b[1;32m    147\u001b[0m     \u001b[0;32mdef\u001b[0m \u001b[0m__getitem__\u001b[0m\u001b[0;34m(\u001b[0m\u001b[0mself\u001b[0m\u001b[0;34m,\u001b[0m \u001b[0mkey\u001b[0m\u001b[0;34m:\u001b[0m \u001b[0mstr\u001b[0m\u001b[0;34m)\u001b[0m \u001b[0;34m->\u001b[0m \u001b[0mV\u001b[0m\u001b[0;34m:\u001b[0m\u001b[0;34m\u001b[0m\u001b[0;34m\u001b[0m\u001b[0m\n\u001b[0;32m--> 148\u001b[0;31m         \u001b[0;32mreturn\u001b[0m \u001b[0mself\u001b[0m\u001b[0;34m.\u001b[0m\u001b[0m_data\u001b[0m\u001b[0;34m[\u001b[0m\u001b[0mkey\u001b[0m\u001b[0;34m]\u001b[0m\u001b[0;34m\u001b[0m\u001b[0;34m\u001b[0m\u001b[0m\n\u001b[0m\u001b[1;32m    149\u001b[0m \u001b[0;34m\u001b[0m\u001b[0m\n\u001b[1;32m    150\u001b[0m     \u001b[0;32mdef\u001b[0m \u001b[0m__setitem__\u001b[0m\u001b[0;34m(\u001b[0m\u001b[0mself\u001b[0m\u001b[0;34m,\u001b[0m \u001b[0mkey\u001b[0m\u001b[0;34m:\u001b[0m \u001b[0mstr\u001b[0m\u001b[0;34m,\u001b[0m \u001b[0mvalue\u001b[0m\u001b[0;34m:\u001b[0m \u001b[0mV\u001b[0m\u001b[0;34m)\u001b[0m\u001b[0;34m:\u001b[0m\u001b[0;34m\u001b[0m\u001b[0;34m\u001b[0m\u001b[0m\n",
      "\u001b[0;31mKeyError\u001b[0m: 'raw'"
     ]
    }
   ],
   "source": [
    "SEACell_ad = model.summarize_by_SEACell()\n",
    "SEACell_ad"
   ]
  },
  {
   "cell_type": "markdown",
   "metadata": {},
   "source": [
    "# Evaluating Results\n",
    "\n",
    "We provide several methods for evaluating SEACell assignments:"
   ]
  },
  {
   "cell_type": "markdown",
   "metadata": {},
   "source": [
    "## 1.Visualizing Results\n",
    "\n",
    "Metacells also implements methods for visualizing the results of the Metacells algorithm \n",
    "    <ul> \n",
    "        <li>```.plot_2D()``` provides an interface for viewing metacell assignments on any 2-dimensional embedding in ad.obsm. Plots can also be coloured by metacell assignment.\n",
    "        <li>```.plot_SEACell_sizes()``` can be used to view the distribution of number of cells assigned to each metacell\n",
    "    </ul>\n",
    "    \n",
    "            "
   ]
  },
  {
   "cell_type": "code",
   "execution_count": 13,
   "metadata": {},
   "outputs": [],
   "source": [
    "# Load the plotting functions as plot\n",
    "from SEACells import plot\n",
    "sns.set(style=\"white\")"
   ]
  },
  {
   "cell_type": "code",
   "execution_count": 14,
   "metadata": {},
   "outputs": [
    {
     "data": {
      "image/png": "[encoded data removed]",
      "text/plain": [
       "<Figure size 360x360 with 1 Axes>"
      ]
     },
     "metadata": {},
     "output_type": "display_data"
    }
   ],
   "source": [
    "plot.plot_2D(ad, key='X_FDL', colour_metacells=False)"
   ]
  },
  {
   "cell_type": "code",
   "execution_count": 15,
   "metadata": {},
   "outputs": [
    {
     "data": {
      "image/png": "[encoded data removed]",
      "text/plain": [
       "<Figure size 360x360 with 1 Axes>"
      ]
     },
     "metadata": {},
     "output_type": "display_data"
    }
   ],
   "source": [
    "plot.plot_2D(ad, key = 'X_umap', colour_metacells=True)"
   ]
  },
  {
   "cell_type": "code",
   "execution_count": 16,
   "metadata": {},
   "outputs": [
    {
     "data": {
      "image/png": "[encoded data removed]",
      "text/plain": [
       "<Figure size 360x360 with 1 Axes>"
      ]
     },
     "metadata": {},
     "output_type": "display_data"
    },
    {
     "data": {
      "text/html": [
       "<div>\n",
       "<style scoped>\n",
       "    .dataframe tbody tr th:only-of-type {\n",
       "        vertical-align: middle;\n",
       "    }\n",
       "\n",
       "    .dataframe tbody tr th {\n",
       "        vertical-align: top;\n",
       "    }\n",
       "\n",
       "    .dataframe thead th {\n",
       "        text-align: right;\n",
       "    }\n",
       "</style>\n",
       "<table border=\"1\" class=\"dataframe\">\n",
       "  <thead>\n",
       "    <tr style=\"text-align: right;\">\n",
       "      <th></th>\n",
       "      <th>size</th>\n",
       "    </tr>\n",
       "    <tr>\n",
       "      <th>SEACell</th>\n",
       "      <th></th>\n",
       "    </tr>\n",
       "  </thead>\n",
       "  <tbody>\n",
       "    <tr>\n",
       "      <th>cd34_multiome_rep1#AAAGCGGGTATTCGCT-1</th>\n",
       "      <td>18</td>\n",
       "    </tr>\n",
       "    <tr>\n",
       "      <th>cd34_multiome_rep1#AAGCGTTTCACGAATC-1</th>\n",
       "      <td>10</td>\n",
       "    </tr>\n",
       "    <tr>\n",
       "      <th>cd34_multiome_rep1#AAGTTACGTCATGAGC-1</th>\n",
       "      <td>7</td>\n",
       "    </tr>\n",
       "    <tr>\n",
       "      <th>cd34_multiome_rep1#AAGTTAGCACCTATAG-1</th>\n",
       "      <td>13</td>\n",
       "    </tr>\n",
       "    <tr>\n",
       "      <th>cd34_multiome_rep1#AATGAAGGTAGCTGGT-1</th>\n",
       "      <td>22</td>\n",
       "    </tr>\n",
       "    <tr>\n",
       "      <th>cd34_multiome_rep1#ACAACAGAGTATCGCG-1</th>\n",
       "      <td>10</td>\n",
       "    </tr>\n",
       "    <tr>\n",
       "      <th>cd34_multiome_rep1#ACAGGAATCCACCTTA-1</th>\n",
       "      <td>232</td>\n",
       "    </tr>\n",
       "    <tr>\n",
       "      <th>cd34_multiome_rep1#ACAGGAATCCAGCACA-1</th>\n",
       "      <td>14</td>\n",
       "    </tr>\n",
       "    <tr>\n",
       "      <th>cd34_multiome_rep1#ACATAGCTCATTATGG-1</th>\n",
       "      <td>12</td>\n",
       "    </tr>\n",
       "    <tr>\n",
       "      <th>cd34_multiome_rep1#ACTAACTCAAACAACA-1</th>\n",
       "      <td>12</td>\n",
       "    </tr>\n",
       "  </tbody>\n",
       "</table>\n",
       "</div>"
      ],
      "text/plain": [
       "                                       size\n",
       "SEACell                                    \n",
       "cd34_multiome_rep1#AAAGCGGGTATTCGCT-1    18\n",
       "cd34_multiome_rep1#AAGCGTTTCACGAATC-1    10\n",
       "cd34_multiome_rep1#AAGTTACGTCATGAGC-1     7\n",
       "cd34_multiome_rep1#AAGTTAGCACCTATAG-1    13\n",
       "cd34_multiome_rep1#AATGAAGGTAGCTGGT-1    22\n",
       "cd34_multiome_rep1#ACAACAGAGTATCGCG-1    10\n",
       "cd34_multiome_rep1#ACAGGAATCCACCTTA-1   232\n",
       "cd34_multiome_rep1#ACAGGAATCCAGCACA-1    14\n",
       "cd34_multiome_rep1#ACATAGCTCATTATGG-1    12\n",
       "cd34_multiome_rep1#ACTAACTCAAACAACA-1    12"
      ]
     },
     "execution_count": 16,
     "metadata": {},
     "output_type": "execute_result"
    }
   ],
   "source": [
    "plot.plot_SEACell_sizes(ad, bins=5)"
   ]
  },
  {
   "cell_type": "markdown",
   "metadata": {},
   "source": [
    "## 2. Quantifying Results\n",
    "\n",
    "Metacells also implements methods for visualizing the results of the Metacells algorithm \n",
    "    <ul> \n",
    "        <li>```.compute_celltype_purity(ad, col_name)``` computes the purity of different celltype labels within a SEACell metacell. Typically, col_name='celltype' or similar. Returns a pd.DataFrame of length n_SEACells.\n",
    "        <li>```.diffusion_component_variance(ad, low_dim_embedding)``` computes the per-SEAcell variance in diffusion components. ```low_dim_embedding``` is a string specifying the low dimensional embedding with which diffusion components are calculated, typically 'X_pca' for RNA or 'X_svd' for ATAC. Lower values of compactness suggest more compact/lower variance metacells.\n",
    "        <li>```diffusion_component_dist_to_NN(ad, low_dim_embedding,nth_nbr=1,cluster=None)``` computes the diffusion distance between a SEACell and its ```nth_nbr```. As before, ```low_dim_embedding``` is a string specifying the low dimensional embedding with which diffusion components are calculated, typically 'X_pca' for RNA or 'X_svd' for ATAC. If ```cluster``` is provided as a string, e.g. 'celltype', nearest neighbors are restricted to have the same celltype value.  Higher values of separation suggest better distinction between metacells.\n",
    "    </ul>\n",
    "    \n"
   ]
  },
  {
   "cell_type": "code",
   "execution_count": 17,
   "metadata": {},
   "outputs": [],
   "source": [
    "from SEACells import evaluate\n",
    "\n",
    "sns.set(style='white')\n",
    "%matplotlib inline"
   ]
  },
  {
   "cell_type": "code",
   "execution_count": 18,
   "metadata": {},
   "outputs": [
    {
     "data": {
      "image/png": "[encoded data removed]",
      "text/plain": [
       "<Figure size 288x288 with 1 Axes>"
      ]
     },
     "metadata": {
      "needs_background": "light"
     },
     "output_type": "display_data"
    },
    {
     "data": {
      "text/html": [
       "<div>\n",
       "<style scoped>\n",
       "    .dataframe tbody tr th:only-of-type {\n",
       "        vertical-align: middle;\n",
       "    }\n",
       "\n",
       "    .dataframe tbody tr th {\n",
       "        vertical-align: top;\n",
       "    }\n",
       "\n",
       "    .dataframe thead th {\n",
       "        text-align: right;\n",
       "    }\n",
       "</style>\n",
       "<table border=\"1\" class=\"dataframe\">\n",
       "  <thead>\n",
       "    <tr style=\"text-align: right;\">\n",
       "      <th></th>\n",
       "      <th>celltype</th>\n",
       "      <th>celltype_purity</th>\n",
       "    </tr>\n",
       "    <tr>\n",
       "      <th>SEACell</th>\n",
       "      <th></th>\n",
       "      <th></th>\n",
       "    </tr>\n",
       "  </thead>\n",
       "  <tbody>\n",
       "    <tr>\n",
       "      <th>cd34_multiome_rep1#AAAGCGGGTATTCGCT-1</th>\n",
       "      <td>Mono</td>\n",
       "      <td>0.888889</td>\n",
       "    </tr>\n",
       "    <tr>\n",
       "      <th>cd34_multiome_rep1#AAGCGTTTCACGAATC-1</th>\n",
       "      <td>HMP</td>\n",
       "      <td>0.800000</td>\n",
       "    </tr>\n",
       "    <tr>\n",
       "      <th>cd34_multiome_rep1#AAGTTACGTCATGAGC-1</th>\n",
       "      <td>HMP</td>\n",
       "      <td>0.428571</td>\n",
       "    </tr>\n",
       "    <tr>\n",
       "      <th>cd34_multiome_rep1#AAGTTAGCACCTATAG-1</th>\n",
       "      <td>HMP</td>\n",
       "      <td>0.692308</td>\n",
       "    </tr>\n",
       "    <tr>\n",
       "      <th>cd34_multiome_rep1#AATGAAGGTAGCTGGT-1</th>\n",
       "      <td>Ery</td>\n",
       "      <td>0.909091</td>\n",
       "    </tr>\n",
       "  </tbody>\n",
       "</table>\n",
       "</div>"
      ],
      "text/plain": [
       "                                      celltype  celltype_purity\n",
       "SEACell                                                        \n",
       "cd34_multiome_rep1#AAAGCGGGTATTCGCT-1     Mono         0.888889\n",
       "cd34_multiome_rep1#AAGCGTTTCACGAATC-1      HMP         0.800000\n",
       "cd34_multiome_rep1#AAGTTACGTCATGAGC-1      HMP         0.428571\n",
       "cd34_multiome_rep1#AAGTTAGCACCTATAG-1      HMP         0.692308\n",
       "cd34_multiome_rep1#AATGAAGGTAGCTGGT-1      Ery         0.909091"
      ]
     },
     "execution_count": 18,
     "metadata": {},
     "output_type": "execute_result"
    }
   ],
   "source": [
    "SEACell_purity = evaluate.compute_celltype_purity(ad, 'celltype')\n",
    "\n",
    "plt.figure(figsize=(4,4))\n",
    "sns.boxplot(data=SEACell_purity, y='celltype_purity')\n",
    "plt.title('Celltype Purity')\n",
    "sns.despine()\n",
    "plt.show()\n",
    "plt.close()\n",
    "\n",
    "SEACell_purity.head()"
   ]
  },
  {
   "cell_type": "code",
   "execution_count": 19,
   "metadata": {},
   "outputs": [
    {
     "name": "stdout",
     "output_type": "stream",
     "text": [
      "Determing nearest neighbor graph...\n"
     ]
    },
    {
     "data": {
      "image/png": "[encoded data removed]",
      "text/plain": [
       "<Figure size 288x288 with 1 Axes>"
      ]
     },
     "metadata": {
      "needs_background": "light"
     },
     "output_type": "display_data"
    },
    {
     "data": {
      "text/html": [
       "<div>\n",
       "<style scoped>\n",
       "    .dataframe tbody tr th:only-of-type {\n",
       "        vertical-align: middle;\n",
       "    }\n",
       "\n",
       "    .dataframe tbody tr th {\n",
       "        vertical-align: top;\n",
       "    }\n",
       "\n",
       "    .dataframe thead th {\n",
       "        text-align: right;\n",
       "    }\n",
       "</style>\n",
       "<table border=\"1\" class=\"dataframe\">\n",
       "  <thead>\n",
       "    <tr style=\"text-align: right;\">\n",
       "      <th></th>\n",
       "      <th>compactness</th>\n",
       "    </tr>\n",
       "    <tr>\n",
       "      <th>SEACell</th>\n",
       "      <th></th>\n",
       "    </tr>\n",
       "  </thead>\n",
       "  <tbody>\n",
       "    <tr>\n",
       "      <th>cd34_multiome_rep1#AAAGCGGGTATTCGCT-1</th>\n",
       "      <td>0.000381</td>\n",
       "    </tr>\n",
       "    <tr>\n",
       "      <th>cd34_multiome_rep1#AAGCGTTTCACGAATC-1</th>\n",
       "      <td>0.000273</td>\n",
       "    </tr>\n",
       "    <tr>\n",
       "      <th>cd34_multiome_rep1#AAGTTACGTCATGAGC-1</th>\n",
       "      <td>0.000364</td>\n",
       "    </tr>\n",
       "    <tr>\n",
       "      <th>cd34_multiome_rep1#AAGTTAGCACCTATAG-1</th>\n",
       "      <td>0.000404</td>\n",
       "    </tr>\n",
       "    <tr>\n",
       "      <th>cd34_multiome_rep1#AATGAAGGTAGCTGGT-1</th>\n",
       "      <td>0.000322</td>\n",
       "    </tr>\n",
       "  </tbody>\n",
       "</table>\n",
       "</div>"
      ],
      "text/plain": [
       "                                       compactness\n",
       "SEACell                                           \n",
       "cd34_multiome_rep1#AAAGCGGGTATTCGCT-1     0.000381\n",
       "cd34_multiome_rep1#AAGCGTTTCACGAATC-1     0.000273\n",
       "cd34_multiome_rep1#AAGTTACGTCATGAGC-1     0.000364\n",
       "cd34_multiome_rep1#AAGTTAGCACCTATAG-1     0.000404\n",
       "cd34_multiome_rep1#AATGAAGGTAGCTGGT-1     0.000322"
      ]
     },
     "execution_count": 19,
     "metadata": {},
     "output_type": "execute_result"
    }
   ],
   "source": [
    "compactness = evaluate.diffusion_component_variance(ad, 'X_pca')\n",
    "\n",
    "plt.figure(figsize=(4,4))\n",
    "sns.boxplot(data=compactness, y='compactness')\n",
    "plt.title('Compactness')\n",
    "sns.despine()\n",
    "plt.show()\n",
    "plt.close()\n",
    "\n",
    "compactness.head()"
   ]
  },
  {
   "cell_type": "code",
   "execution_count": 20,
   "metadata": {},
   "outputs": [
    {
     "name": "stdout",
     "output_type": "stream",
     "text": [
      "Determing nearest neighbor graph...\n"
     ]
    },
    {
     "data": {
      "image/png": "[encoded data removed]",
      "text/plain": [
       "<Figure size 288x288 with 1 Axes>"
      ]
     },
     "metadata": {
      "needs_background": "light"
     },
     "output_type": "display_data"
    },
    {
     "data": {
      "text/html": [
       "<div>\n",
       "<style scoped>\n",
       "    .dataframe tbody tr th:only-of-type {\n",
       "        vertical-align: middle;\n",
       "    }\n",
       "\n",
       "    .dataframe tbody tr th {\n",
       "        vertical-align: top;\n",
       "    }\n",
       "\n",
       "    .dataframe thead th {\n",
       "        text-align: right;\n",
       "    }\n",
       "</style>\n",
       "<table border=\"1\" class=\"dataframe\">\n",
       "  <thead>\n",
       "    <tr style=\"text-align: right;\">\n",
       "      <th></th>\n",
       "      <th>separation</th>\n",
       "    </tr>\n",
       "    <tr>\n",
       "      <th>SEACell</th>\n",
       "      <th></th>\n",
       "    </tr>\n",
       "  </thead>\n",
       "  <tbody>\n",
       "    <tr>\n",
       "      <th>cd34_multiome_rep1#AAAGCGGGTATTCGCT-1</th>\n",
       "      <td>0.093124</td>\n",
       "    </tr>\n",
       "    <tr>\n",
       "      <th>cd34_multiome_rep1#AAGCGTTTCACGAATC-1</th>\n",
       "      <td>0.051011</td>\n",
       "    </tr>\n",
       "    <tr>\n",
       "      <th>cd34_multiome_rep1#AAGTTACGTCATGAGC-1</th>\n",
       "      <td>0.060509</td>\n",
       "    </tr>\n",
       "    <tr>\n",
       "      <th>cd34_multiome_rep1#AAGTTAGCACCTATAG-1</th>\n",
       "      <td>0.060763</td>\n",
       "    </tr>\n",
       "    <tr>\n",
       "      <th>cd34_multiome_rep1#AATGAAGGTAGCTGGT-1</th>\n",
       "      <td>0.152045</td>\n",
       "    </tr>\n",
       "  </tbody>\n",
       "</table>\n",
       "</div>"
      ],
      "text/plain": [
       "                                       separation\n",
       "SEACell                                          \n",
       "cd34_multiome_rep1#AAAGCGGGTATTCGCT-1    0.093124\n",
       "cd34_multiome_rep1#AAGCGTTTCACGAATC-1    0.051011\n",
       "cd34_multiome_rep1#AAGTTACGTCATGAGC-1    0.060509\n",
       "cd34_multiome_rep1#AAGTTAGCACCTATAG-1    0.060763\n",
       "cd34_multiome_rep1#AATGAAGGTAGCTGGT-1    0.152045"
      ]
     },
     "execution_count": 20,
     "metadata": {},
     "output_type": "execute_result"
    }
   ],
   "source": [
    "separation = evaluate.diffusion_component_dist_to_NN(ad, 'X_pca',nth_nbr=1)\n",
    "\n",
    "plt.figure(figsize=(4,4))\n",
    "sns.boxplot(data=separation, y='separation')\n",
    "plt.title('Separation')\n",
    "sns.despine()\n",
    "plt.show()\n",
    "plt.close()\n",
    "\n",
    "separation.head()"
   ]
  },
  {
   "cell_type": "code",
   "execution_count": null,
   "metadata": {},
   "outputs": [],
   "source": []
  }
 ],
 "metadata": {
  "kernelspec": {
   "display_name": "Python 3",
   "language": "python",
   "name": "python3"
  },
  "language_info": {
   "codemirror_mode": {
    "name": "ipython",
    "version": 3
   },
   "file_extension": ".py",
   "mimetype": "text/x-python",
   "name": "python",
   "nbconvert_exporter": "python",
   "pygments_lexer": "ipython3",
   "version": "3.8.3"
  },
  "toc": {
   "base_numbering": 1,
   "nav_menu": {},
   "number_sections": true,
   "sideBar": true,
   "skip_h1_title": false,
   "title_cell": "Table of Contents",
   "title_sidebar": "Contents",
   "toc_cell": false,
   "toc_position": {},
   "toc_section_display": true,
   "toc_window_display": false
  }
 },
 "nbformat": 4,
 "nbformat_minor": 1
}
