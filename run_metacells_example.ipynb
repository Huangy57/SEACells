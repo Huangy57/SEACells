{
 "cells": [
  {
   "cell_type": "markdown",
   "metadata": {},
   "source": [
    "## Metacell Example Notebook\n",
    "\n",
    "Modified to accept annotated data object. For RNA: build kernel on X_pca; For ATAC: build kernel on X_svd\n",
    "\n",
    "Access a df of metacell assignments using metacell_graph.get_labels()"
   ]
  },
  {
   "cell_type": "code",
   "execution_count": 32,
   "metadata": {},
   "outputs": [],
   "source": [
    "import numpy as np\n",
    "import pandas as pd\n",
    "import seaborn as sns \n",
    "import matplotlib.pyplot as plt\n",
    "sns.set()\n",
    "\n",
    "import scanpy as sc\n",
    "import unidip.dip as dip\n",
    "import palantir \n",
    "\n",
    "from tqdm import tqdm"
   ]
  },
  {
   "cell_type": "code",
   "execution_count": 33,
   "metadata": {},
   "outputs": [],
   "source": [
    "base_dir = '/Users/sitarapersad/metacells/metacells_data/'\n",
    "\n",
    "to_process = ['cd34_multiome_rna_no_bcells.h5ad'] "
   ]
  },
  {
   "cell_type": "code",
   "execution_count": 34,
   "metadata": {},
   "outputs": [],
   "source": [
    "def log_transform(X, ps=0.1):\n",
    "    return np.log2(X + ps) - np.log2(ps)\n"
   ]
  },
  {
   "cell_type": "code",
   "execution_count": 35,
   "metadata": {
    "scrolled": false
   },
   "outputs": [
    {
     "name": "stdout",
     "output_type": "stream",
     "text": [
      "Reading tanay files from  /Users/sitarapersad/metacells/metacells_data/cd34_multiome_rna_no_bcells_tanay/\n",
      "Building kernel...\n",
      "Computing kNN graph...\n",
      "Computing radius for adaptive bandwidth kernel...\n"
     ]
    },
    {
     "data": {
      "application/vnd.jupyter.widget-view+json": {
       "model_id": "a66666bf9e80496b82ac7baf6caae409",
       "version_major": 2,
       "version_minor": 0
      },
      "text/plain": [
       "HBox(children=(IntProgress(value=0, max=6881), HTML(value='')))"
      ]
     },
     "metadata": {},
     "output_type": "display_data"
    },
    {
     "name": "stdout",
     "output_type": "stream",
     "text": [
      "\n",
      "Making graph symmetric...\n",
      "Computing RBF kernel...\n"
     ]
    },
    {
     "data": {
      "application/vnd.jupyter.widget-view+json": {
       "model_id": "ad4b844dc04a48d0a151cfa8144e5194",
       "version_major": 2,
       "version_minor": 0
      },
      "text/plain": [
       "HBox(children=(IntProgress(value=0, max=6881), HTML(value='')))"
      ]
     },
     "metadata": {},
     "output_type": "display_data"
    },
    {
     "name": "stdout",
     "output_type": "stream",
     "text": [
      "\n",
      "Building similarity LIL matrix...\n"
     ]
    },
    {
     "data": {
      "application/vnd.jupyter.widget-view+json": {
       "model_id": "1f40e266733e4550a78ccfe8eab1abe8",
       "version_major": 2,
       "version_minor": 0
      },
      "text/plain": [
       "HBox(children=(IntProgress(value=0, max=6881), HTML(value='')))"
      ]
     },
     "metadata": {},
     "output_type": "display_data"
    },
    {
     "name": "stdout",
     "output_type": "stream",
     "text": [
      "\n",
      "Constructing CSR matrix...\n",
      "Initializing residual matrix using greedy column selection\n",
      "Initializing f and g...\n"
     ]
    },
    {
     "data": {
      "application/vnd.jupyter.widget-view+json": {
       "model_id": "a3ad82240be64a94aac69d653d21ff30",
       "version_major": 2,
       "version_minor": 0
      },
      "text/plain": [
       "HBox(children=(IntProgress(value=0, max=65), HTML(value='')))"
      ]
     },
     "metadata": {},
     "output_type": "display_data"
    },
    {
     "name": "stdout",
     "output_type": "stream",
     "text": [
      "\n",
      "Starting iteration 1 of 8\n",
      "Completed iteration 1 of 8.\n",
      "Starting iteration 2 of 8\n",
      "Completed iteration 2 of 8.\n",
      "Starting iteration 3 of 8\n",
      "Completed iteration 3 of 8.\n",
      "Starting iteration 4 of 8\n",
      "Completed iteration 4 of 8.\n",
      "Starting iteration 5 of 8\n",
      "Completed iteration 5 of 8.\n",
      "Starting iteration 6 of 8\n",
      "Completed iteration 6 of 8.\n",
      "Starting iteration 7 of 8\n",
      "Completed iteration 7 of 8.\n",
      "Starting iteration 8 of 8\n",
      "Completed iteration 8 of 8.\n"
     ]
    }
   ],
   "source": [
    "from importlib import reload\n",
    "import build_graph # script for building shared NN graph\n",
    "import metacells_ad as metacells # script for finding metacells\n",
    "\n",
    "reload(metacells)\n",
    "\n",
    "results_dict = {}\n",
    "\n",
    "for file in to_process:\n",
    "    ad = sc.read(base_dir + file)\n",
    "    if 'atac' in file:\n",
    "        build_on = \"X_svd\"\n",
    "    else:\n",
    "        build_on = \"X_pca\"\n",
    "        \n",
    "    # Grab Tanay Labels as well... \n",
    "    tanay_dir = base_dir+''.join(file.split('.')[:-1])+'_tanay/'\n",
    "    \n",
    "    print('Reading tanay files from ',tanay_dir)\n",
    "    \n",
    "    # Read in the metacells and assignments from Tanay method\n",
    "    assmts = pd.read_csv(tanay_dir+'metacells.txt', sep=\" \")\n",
    "    \n",
    "    label_df = assmts.rename(columns = {'x':'tanay_labels'})\n",
    "    label_df.index = label_df.index.astype(str) \n",
    "    n_metacells = len(label_df['tanay_labels'].unique())\n",
    "    \n",
    "    graph_model = metacells.Metacells(ad, build_on, n_metacells=n_metacells)\n",
    "    graph_model.fit()\n",
    "    "
   ]
  },
  {
   "cell_type": "code",
   "execution_count": 36,
   "metadata": {},
   "outputs": [
    {
     "data": {
      "text/html": [
       "<div>\n",
       "<style scoped>\n",
       "    .dataframe tbody tr th:only-of-type {\n",
       "        vertical-align: middle;\n",
       "    }\n",
       "\n",
       "    .dataframe tbody tr th {\n",
       "        vertical-align: top;\n",
       "    }\n",
       "\n",
       "    .dataframe thead th {\n",
       "        text-align: right;\n",
       "    }\n",
       "</style>\n",
       "<table border=\"1\" class=\"dataframe\">\n",
       "  <thead>\n",
       "    <tr style=\"text-align: right;\">\n",
       "      <th></th>\n",
       "      <th>metacell_ID</th>\n",
       "    </tr>\n",
       "  </thead>\n",
       "  <tbody>\n",
       "    <tr>\n",
       "      <th>cd34_multiome_rep1#AAACAGCCACTCGCTC-1</th>\n",
       "      <td>cd34_multiome_rep2#TTGCGTCTCCGGTATG-1</td>\n",
       "    </tr>\n",
       "    <tr>\n",
       "      <th>cd34_multiome_rep1#AAACAGCCACTGACCG-1</th>\n",
       "      <td>cd34_multiome_rep2#TGTGATCAGTAACTCA-1</td>\n",
       "    </tr>\n",
       "    <tr>\n",
       "      <th>cd34_multiome_rep1#AAACAGCCATAATCAC-1</th>\n",
       "      <td>cd34_multiome_rep2#TTGCTCTCAGACAAAC-1</td>\n",
       "    </tr>\n",
       "    <tr>\n",
       "      <th>cd34_multiome_rep1#AAACATGCAAATTCGT-1</th>\n",
       "      <td>cd34_multiome_rep2#TTGCTCTCAGACAAAC-1</td>\n",
       "    </tr>\n",
       "    <tr>\n",
       "      <th>cd34_multiome_rep1#AAACATGCAGCATGTC-1</th>\n",
       "      <td>cd34_multiome_rep2#TCTCCTCGTACGATTG-1</td>\n",
       "    </tr>\n",
       "    <tr>\n",
       "      <th>...</th>\n",
       "      <td>...</td>\n",
       "    </tr>\n",
       "    <tr>\n",
       "      <th>cd34_multiome_rep2#TTTGTCTAGGGCCACT-1</th>\n",
       "      <td>cd34_multiome_rep2#GCCCAAATCAAGCGCC-1</td>\n",
       "    </tr>\n",
       "    <tr>\n",
       "      <th>cd34_multiome_rep2#TTTGTGAAGGAAGCAC-1</th>\n",
       "      <td>cd34_multiome_rep2#TTGCTCTCAGACAAAC-1</td>\n",
       "    </tr>\n",
       "    <tr>\n",
       "      <th>cd34_multiome_rep2#TTTGTGAAGTAACCAC-1</th>\n",
       "      <td>cd34_multiome_rep2#TTAGCAATCATAACCA-1</td>\n",
       "    </tr>\n",
       "    <tr>\n",
       "      <th>cd34_multiome_rep2#TTTGTGGCATACTCCT-1</th>\n",
       "      <td>cd34_multiome_rep2#TTCGTGCTCGTTAGCG-1</td>\n",
       "    </tr>\n",
       "    <tr>\n",
       "      <th>cd34_multiome_rep2#TTTGTTGGTTCGCTCA-1</th>\n",
       "      <td>cd34_multiome_rep2#TTGCGTCTCCGGTATG-1</td>\n",
       "    </tr>\n",
       "  </tbody>\n",
       "</table>\n",
       "<p>6881 rows × 1 columns</p>\n",
       "</div>"
      ],
      "text/plain": [
       "                                                                 metacell_ID\n",
       "cd34_multiome_rep1#AAACAGCCACTCGCTC-1  cd34_multiome_rep2#TTGCGTCTCCGGTATG-1\n",
       "cd34_multiome_rep1#AAACAGCCACTGACCG-1  cd34_multiome_rep2#TGTGATCAGTAACTCA-1\n",
       "cd34_multiome_rep1#AAACAGCCATAATCAC-1  cd34_multiome_rep2#TTGCTCTCAGACAAAC-1\n",
       "cd34_multiome_rep1#AAACATGCAAATTCGT-1  cd34_multiome_rep2#TTGCTCTCAGACAAAC-1\n",
       "cd34_multiome_rep1#AAACATGCAGCATGTC-1  cd34_multiome_rep2#TCTCCTCGTACGATTG-1\n",
       "...                                                                      ...\n",
       "cd34_multiome_rep2#TTTGTCTAGGGCCACT-1  cd34_multiome_rep2#GCCCAAATCAAGCGCC-1\n",
       "cd34_multiome_rep2#TTTGTGAAGGAAGCAC-1  cd34_multiome_rep2#TTGCTCTCAGACAAAC-1\n",
       "cd34_multiome_rep2#TTTGTGAAGTAACCAC-1  cd34_multiome_rep2#TTAGCAATCATAACCA-1\n",
       "cd34_multiome_rep2#TTTGTGGCATACTCCT-1  cd34_multiome_rep2#TTCGTGCTCGTTAGCG-1\n",
       "cd34_multiome_rep2#TTTGTTGGTTCGCTCA-1  cd34_multiome_rep2#TTGCGTCTCCGGTATG-1\n",
       "\n",
       "[6881 rows x 1 columns]"
      ]
     },
     "execution_count": 36,
     "metadata": {},
     "output_type": "execute_result"
    }
   ],
   "source": [
    "graph_model.get_labels()"
   ]
  },
  {
   "cell_type": "code",
   "execution_count": null,
   "metadata": {},
   "outputs": [],
   "source": []
  }
 ],
 "metadata": {
  "kernelspec": {
   "display_name": "Python 3",
   "language": "python",
   "name": "python3"
  },
  "language_info": {
   "codemirror_mode": {
    "name": "ipython",
    "version": 3
   },
   "file_extension": ".py",
   "mimetype": "text/x-python",
   "name": "python",
   "nbconvert_exporter": "python",
   "pygments_lexer": "ipython3",
   "version": "3.7.4"
  }
 },
 "nbformat": 4,
 "nbformat_minor": 4
}
