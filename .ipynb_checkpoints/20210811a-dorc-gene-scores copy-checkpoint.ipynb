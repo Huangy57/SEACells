{
 "cells": [
  {
   "cell_type": "code",
   "execution_count": 1,
   "metadata": {
    "ExecuteTime": {
     "end_time": "2021-10-11T23:14:02.547293Z",
     "start_time": "2021-10-11T23:14:02.194999Z"
    }
   },
   "outputs": [],
   "source": [
    "import os\n",
    "import pandas as pd\n",
    "import numpy as np"
   ]
  },
  {
   "cell_type": "code",
   "execution_count": 2,
   "metadata": {
    "ExecuteTime": {
     "end_time": "2021-10-11T23:14:04.336045Z",
     "start_time": "2021-10-11T23:14:02.549690Z"
    }
   },
   "outputs": [],
   "source": [
    "import scanpy as sc\n",
    "import pyranges as pr\n",
    "import warnings"
   ]
  },
  {
   "cell_type": "code",
   "execution_count": 3,
   "metadata": {
    "ExecuteTime": {
     "end_time": "2021-10-11T23:14:04.730600Z",
     "start_time": "2021-10-11T23:14:04.338233Z"
    }
   },
   "outputs": [
    {
     "name": "stderr",
     "output_type": "stream",
     "text": [
      "findfont: Font family ['Raleway'] not found. Falling back to DejaVu Sans.\n",
      "findfont: Font family ['Lato'] not found. Falling back to DejaVu Sans.\n"
     ]
    }
   ],
   "source": [
    "import palantir \n",
    "import phenograph\n",
    "import harmony"
   ]
  },
  {
   "cell_type": "code",
   "execution_count": 4,
   "metadata": {
    "ExecuteTime": {
     "end_time": "2021-10-11T23:14:04.737103Z",
     "start_time": "2021-10-11T23:14:04.733617Z"
    }
   },
   "outputs": [],
   "source": [
    "import matplotlib\n",
    "import matplotlib.pyplot as plt\n",
    "import seaborn as sns"
   ]
  },
  {
   "cell_type": "code",
   "execution_count": 5,
   "metadata": {
    "ExecuteTime": {
     "end_time": "2021-10-11T23:14:04.746248Z",
     "start_time": "2021-10-11T23:14:04.739545Z"
    }
   },
   "outputs": [],
   "source": [
    "%matplotlib inline\n",
    "\n",
    "sns.set_style('ticks')\n",
    "matplotlib.rcParams['figure.figsize'] = [4, 4]\n",
    "matplotlib.rcParams['figure.dpi'] = 100\n",
    "matplotlib.rcParams['image.cmap'] = 'Spectral_r'\n",
    "warnings.filterwarnings(action=\"ignore\", module=\"matplotlib\", message=\"findfont\")"
   ]
  },
  {
   "cell_type": "code",
   "execution_count": 6,
   "metadata": {
    "ExecuteTime": {
     "end_time": "2021-10-11T23:14:04.753860Z",
     "start_time": "2021-10-11T23:14:04.748270Z"
    }
   },
   "outputs": [
    {
     "name": "stdout",
     "output_type": "stream",
     "text": [
      "env: R_HOME=/usr/lib64/R\n"
     ]
    }
   ],
   "source": [
    "%env R_HOME=/usr/lib64/R"
   ]
  },
  {
   "cell_type": "code",
   "execution_count": null,
   "metadata": {},
   "outputs": [],
   "source": []
  },
  {
   "cell_type": "markdown",
   "metadata": {},
   "source": [
    "# Utility functions"
   ]
  },
  {
   "cell_type": "code",
   "execution_count": 7,
   "metadata": {
    "ExecuteTime": {
     "end_time": "2021-10-11T23:14:04.760109Z",
     "start_time": "2021-10-11T23:14:04.756216Z"
    }
   },
   "outputs": [],
   "source": [
    "def log_transform(ad, ps=0.1):\n",
    "    ad.X.data = np.log2(ad.X.data + ps) - np.log2(ps)"
   ]
  },
  {
   "cell_type": "code",
   "execution_count": 8,
   "metadata": {
    "ExecuteTime": {
     "end_time": "2021-10-11T23:14:04.769049Z",
     "start_time": "2021-10-11T23:14:04.762308Z"
    }
   },
   "outputs": [],
   "source": [
    "from joblib import Parallel, delayed\n",
    "from scipy.sparse import hstack, csr_matrix, issparse\n",
    "import gc\n",
    "\n",
    "\n",
    "def _dot_func(x, y):\n",
    "    return x.dot(y)\n",
    "\n",
    "\n",
    "def impute_data(dm_res, ad, n_steps=3):\n",
    "    T_steps = dm_res['T'] ** n_steps\n",
    "    T_steps = T_steps.astype(np.float32)\n",
    "\n",
    "    # RUn in parallel\n",
    "    seq = np.append(np.arange(0, ad.X.shape[1], 100), [ad.X.shape[1]])\n",
    "    res = Parallel(n_jobs=-1)(delayed(_dot_func)(T_steps, ad.X[:, seq[i - 1]:seq[i]]) for i in range(1, len(seq)))\n",
    "    imputed_data = hstack(res)\n",
    "    imputed_data = imputed_data.todense()\n",
    "    imputed_data[imputed_data < 1e-2] = 0\n",
    "    gc.collect()\n",
    "\n",
    "    return imputed_data"
   ]
  },
  {
   "cell_type": "code",
   "execution_count": 9,
   "metadata": {
    "ExecuteTime": {
     "end_time": "2021-10-11T23:14:04.777446Z",
     "start_time": "2021-10-11T23:14:04.771254Z"
    }
   },
   "outputs": [],
   "source": [
    "def pyranges_from_strings(pos_list):\n",
    "    # Chromosome and positions\n",
    "    chr = pos_list.str.split(':').str.get(0)\n",
    "    start = pd.Series(pos_list.str.split(':').str.get(1)).str.split('-').str.get(0)\n",
    "    end = pd.Series(pos_list.str.split(':').str.get(1)).str.split('-').str.get(1)\n",
    "    \n",
    "    # Create ranges\n",
    "    gr = pr.PyRanges(chromosomes=chr, starts=start, ends=end)\n",
    "    \n",
    "    return gr\n",
    "\n",
    "\n",
    "def pyranges_to_strings(peaks):\n",
    "    # Chromosome and positions\n",
    "    chr = peaks.Chromosome.astype(str).values\n",
    "    start = peaks.Start.astype(str).values\n",
    "    end = peaks.End.astype(str).values\n",
    "    \n",
    "    # Create ranges\n",
    "    gr = chr + ':' + start + '-' + end\n",
    "    \n",
    "    return gr"
   ]
  },
  {
   "cell_type": "code",
   "execution_count": 10,
   "metadata": {
    "ExecuteTime": {
     "end_time": "2021-10-11T23:14:04.791134Z",
     "start_time": "2021-10-11T23:14:04.779703Z"
    }
   },
   "outputs": [],
   "source": [
    "def plot_gene_expression(\n",
    "    data,\n",
    "    tsne,\n",
    "    genes,\n",
    "    plot_scale=False,\n",
    "    n_cols=5,\n",
    "    percentile=0,\n",
    "    s=3,\n",
    "    cmap=matplotlib.cm.Spectral_r,\n",
    "    const_vmin=None, const_vmax=None\n",
    "):\n",
    "    \"\"\" Plot gene expression on tSNE maps\n",
    "    :param genes: Iterable of strings to plot on tSNE\n",
    "    \"\"\"\n",
    "\n",
    "    not_in_dataframe = set(genes).difference(data.columns)\n",
    "    if not_in_dataframe:\n",
    "        if len(not_in_dataframe) < len(genes):\n",
    "            print(\n",
    "                \"The following genes were either not observed in the experiment, \"\n",
    "                \"or the wrong gene symbol was used: {!r}\".format(not_in_dataframe)\n",
    "            )\n",
    "        else:\n",
    "            print(\n",
    "                \"None of the listed genes were observed in the experiment, or the \"\n",
    "                \"wrong symbols were used.\"\n",
    "            )\n",
    "            return\n",
    "\n",
    "    # remove genes missing from experiment\n",
    "    genes = pd.Series(genes)[pd.Series(genes).isin(data.columns)]\n",
    "\n",
    "    # Plot\n",
    "    cells = data.index.intersection(tsne.index)\n",
    "    fig = palantir.plot.FigureGrid(len(genes), n_cols)\n",
    "\n",
    "    for g, ax in zip(genes, fig):\n",
    "        # Data\n",
    "        c = data.loc[cells, g]\n",
    "        vmin, vmax = const_vmin, const_vmax\n",
    "        if vmin is None:\n",
    "            vmin = np.percentile(c[~np.isnan(c)], percentile)\n",
    "        if vmax is None:\n",
    "            vmax = np.percentile(c[~np.isnan(c)], 100 - percentile)\n",
    "\n",
    "        ax.scatter(\n",
    "            tsne.loc[cells, \"x\"],\n",
    "            tsne.loc[cells, \"y\"],\n",
    "            s=s,\n",
    "            c=c,\n",
    "            cmap=cmap,\n",
    "            vmin=vmin,\n",
    "            vmax=vmax,\n",
    "        )\n",
    "        ax.set_axis_off()\n",
    "        ax.set_title(g)\n",
    "\n",
    "        if plot_scale:\n",
    "            normalize = matplotlib.colors.Normalize(vmin=vmin, vmax=vmax)\n",
    "            cax, _ = matplotlib.colorbar.make_axes(ax)\n",
    "            matplotlib.colorbar.ColorbarBase(cax, norm=normalize, cmap=cmap)\n",
    "\n"
   ]
  },
  {
   "cell_type": "code",
   "execution_count": 11,
   "metadata": {
    "ExecuteTime": {
     "end_time": "2021-10-11T23:14:04.802219Z",
     "start_time": "2021-10-11T23:14:04.793360Z"
    }
   },
   "outputs": [],
   "source": [
    "\n",
    "def plot_gene_trends(gene_trends, genes=None, colors=None, plot_std=True):\n",
    "    \"\"\" Plot the gene trends: each gene is plotted in a different panel\n",
    "    :param: gene_trends: Results of the compute_marker_trends function\n",
    "    \"\"\"\n",
    "\n",
    "    # Branches and genes\n",
    "    branches = list(gene_trends.keys())\n",
    "    if colors is None:\n",
    "        colors = pd.Series(\n",
    "            sns.color_palette(\"Set2\", len(branches)).as_hex(), index=branches\n",
    "        )\n",
    "    if genes is None:\n",
    "        genes = gene_trends[branches[0]][\"trends\"].index\n",
    "\n",
    "    # Set up figure\n",
    "    fig = plt.figure(figsize=[7, 3 * len(genes)])\n",
    "    for i, gene in enumerate(genes):\n",
    "        ax = fig.add_subplot(len(genes), 1, i + 1)\n",
    "        for branch in branches:\n",
    "            trends = gene_trends[branch][\"trends\"]\n",
    "            stds = gene_trends[branch][\"std\"]\n",
    "            ax.plot(\n",
    "                trends.columns, trends.loc[gene, :], color=colors[branch], label=branch\n",
    "            )\n",
    "            ax.set_xticks([0, 1])\n",
    "            if plot_std:\n",
    "                ax.fill_between(\n",
    "                    trends.columns,\n",
    "                    trends.loc[gene, :] - stds.loc[gene, :],\n",
    "                    trends.loc[gene, :] + stds.loc[gene, :],\n",
    "                    alpha=0.1,\n",
    "                    color=colors[branch],\n",
    "                )\n",
    "            ax.set_title(gene)\n",
    "        # Add legend\n",
    "        if i == 0:\n",
    "            ax.legend()\n",
    "\n",
    "    sns.despine()\n"
   ]
  },
  {
   "cell_type": "markdown",
   "metadata": {},
   "source": [
    "# Load data"
   ]
  },
  {
   "cell_type": "code",
   "execution_count": 12,
   "metadata": {
    "ExecuteTime": {
     "end_time": "2021-10-11T23:14:06.388127Z",
     "start_time": "2021-10-11T23:14:06.385586Z"
    }
   },
   "outputs": [],
   "source": [
    "data_dir = os.path.expanduser('~/projects/metacells/data/CD34/Multiome/')"
   ]
  },
  {
   "cell_type": "code",
   "execution_count": 13,
   "metadata": {
    "ExecuteTime": {
     "end_time": "2021-10-11T23:14:07.460901Z",
     "start_time": "2021-10-11T23:14:06.591523Z"
    }
   },
   "outputs": [],
   "source": [
    "rna_ad = sc.read(data_dir + 'cd34_multiome_rna_no_bcells.h5ad')\n",
    "atac_ad = sc.read(data_dir + 'cd34_multiome_atac_no_bcells.h5ad')"
   ]
  },
  {
   "cell_type": "code",
   "execution_count": 14,
   "metadata": {
    "ExecuteTime": {
     "end_time": "2021-10-11T23:14:07.477105Z",
     "start_time": "2021-10-11T23:14:07.463489Z"
    }
   },
   "outputs": [
    {
     "data": {
      "text/plain": [
       "AnnData object with n_obs × n_vars = 6881 × 12464\n",
       "    obs: 'sample', 'n_genes_by_counts', 'total_counts', 'total_counts_mt', 'pct_counts_mt', 'batch', 'DoubletScores', 'n_counts', 'leiden', 'phenograph', 'log_n_counts', 'celltype', 'Metacell', 'palantir_pseudotime', 'palantir_diff_potential', 'Metacell_Entropy'\n",
       "    var: 'n_cells', 'highly_variable', 'means', 'dispersions', 'dispersions_norm'\n",
       "    uns: 'DMEigenValues', 'celltype_colors', 'ct_colors', 'hvg', 'leiden', 'leiden_colors', 'neighbors', 'palantir_branch_probs_columns', 'pca', 'phenograph_colors', 'sample_colors', 'umap'\n",
       "    obsm: 'DM_EigenVectors', 'X_FDL', 'X_pca', 'X_umap', 'palantir_branch_probs'\n",
       "    varm: 'PCs'\n",
       "    layers: 'MAGIC_imputed_data'\n",
       "    obsp: 'DM_Kernel', 'connectivities', 'distances'"
      ]
     },
     "execution_count": 14,
     "metadata": {},
     "output_type": "execute_result"
    }
   ],
   "source": [
    "rna_ad"
   ]
  },
  {
   "cell_type": "code",
   "execution_count": 15,
   "metadata": {
    "ExecuteTime": {
     "end_time": "2021-10-11T23:14:07.715222Z",
     "start_time": "2021-10-11T23:14:07.478971Z"
    }
   },
   "outputs": [
    {
     "data": {
      "image/png": "[encoded data removed]",
      "text/plain": [
       "<Figure size 492x400 with 1 Axes>"
      ]
     },
     "metadata": {},
     "output_type": "display_data"
    }
   ],
   "source": [
    "sc.pl.scatter(rna_ad, basis='FDL', color='celltype', frameon=False)"
   ]
  },
  {
   "cell_type": "code",
   "execution_count": 16,
   "metadata": {
    "ExecuteTime": {
     "end_time": "2021-10-11T23:14:07.721101Z",
     "start_time": "2021-10-11T23:14:07.717252Z"
    }
   },
   "outputs": [],
   "source": [
    "ct_colors = pd.Series(rna_ad.uns['celltype_colors'], \n",
    "         index=rna_ad.obs['celltype'].values.categories)"
   ]
  },
  {
   "cell_type": "code",
   "execution_count": null,
   "metadata": {},
   "outputs": [],
   "source": []
  },
  {
   "cell_type": "code",
   "execution_count": 17,
   "metadata": {
    "ExecuteTime": {
     "end_time": "2021-10-11T23:14:07.866227Z",
     "start_time": "2021-10-11T23:14:07.849970Z"
    }
   },
   "outputs": [],
   "source": [
    "metacells = atac_ad.obs['Metacell'].astype(str).unique()\n",
    "metacells = metacells[atac_ad.obs['Metacell'].value_counts()[metacells] > 1]"
   ]
  },
  {
   "cell_type": "code",
   "execution_count": 20,
   "metadata": {
    "ExecuteTime": {
     "end_time": "2021-10-11T23:14:12.033188Z",
     "start_time": "2021-10-11T23:14:11.787321Z"
    }
   },
   "outputs": [],
   "source": [
    "atac_ad.var['GC_bin'] = np.digitize(atac_ad.var['GC'], np.linspace(0,1,50))\n",
    "atac_ad.var['log_n_counts'] = np.ravel(np.log10(atac_ad.X.sum(axis=0)))\n",
    "atac_ad.var['counts_bin'] = np.digitize(atac_ad.var['log_n_counts'], \n",
    "                                        np.linspace(atac_ad.var['log_n_counts'].min(),\n",
    "                                        atac_ad.var['log_n_counts'].max(),50))"
   ]
  },
  {
   "cell_type": "code",
   "execution_count": 21,
   "metadata": {
    "ExecuteTime": {
     "end_time": "2021-10-11T23:14:12.270463Z",
     "start_time": "2021-10-11T23:14:12.266057Z"
    }
   },
   "outputs": [
    {
     "data": {
      "text/plain": [
       "99"
      ]
     },
     "execution_count": 21,
     "metadata": {},
     "output_type": "execute_result"
    }
   ],
   "source": [
    "len(metacells)"
   ]
  },
  {
   "cell_type": "code",
   "execution_count": null,
   "metadata": {},
   "outputs": [],
   "source": []
  },
  {
   "cell_type": "markdown",
   "metadata": {},
   "source": [
    "## TFIDF"
   ]
  },
  {
   "cell_type": "code",
   "execution_count": 22,
   "metadata": {
    "ExecuteTime": {
     "end_time": "2021-10-11T23:14:16.059034Z",
     "start_time": "2021-10-11T23:14:13.296667Z"
    }
   },
   "outputs": [],
   "source": [
    "from sklearn.feature_extraction.text import TfidfTransformer\n",
    "\n",
    "mat = (atac_ad.X).astype(int)\n",
    "tfidf = TfidfTransformer().fit(mat)\n",
    "atac_ad.layers['TFIDF'] = tfidf.transform(mat)"
   ]
  },
  {
   "cell_type": "code",
   "execution_count": null,
   "metadata": {},
   "outputs": [],
   "source": []
  },
  {
   "cell_type": "markdown",
   "metadata": {},
   "source": [
    "## ATAC Meta cell "
   ]
  },
  {
   "cell_type": "code",
   "execution_count": 23,
   "metadata": {
    "ExecuteTime": {
     "end_time": "2021-10-11T23:14:16.065842Z",
     "start_time": "2021-10-11T23:14:16.062064Z"
    }
   },
   "outputs": [],
   "source": [
    "from tqdm.notebook import tqdm"
   ]
  },
  {
   "cell_type": "code",
   "execution_count": 24,
   "metadata": {
    "ExecuteTime": {
     "end_time": "2021-10-11T23:14:22.723263Z",
     "start_time": "2021-10-11T23:14:16.068118Z"
    }
   },
   "outputs": [
    {
     "data": {
      "application/vnd.jupyter.widget-view+json": {
       "model_id": "3c2a5d184c6349109abd0aacdf5229e6",
       "version_major": 2,
       "version_minor": 0
      },
      "text/plain": [
       "HBox(children=(FloatProgress(value=0.0, max=99.0), HTML(value='')))"
      ]
     },
     "metadata": {},
     "output_type": "display_data"
    },
    {
     "name": "stdout",
     "output_type": "stream",
     "text": [
      "\n"
     ]
    }
   ],
   "source": [
    "# Summary matrix\n",
    "summ_matrix = pd.DataFrame(0.0, index=metacells, columns=atac_ad.var_names)\n",
    "\n",
    "for m in tqdm(summ_matrix.index):\n",
    "    cells = atac_ad.obs_names[atac_ad.obs['Metacell'] == m]\n",
    "    summ_matrix.loc[m, :] = np.ravel(atac_ad[cells, :].layers['TFIDF'].sum(axis=0))"
   ]
  },
  {
   "cell_type": "code",
   "execution_count": 25,
   "metadata": {
    "ExecuteTime": {
     "end_time": "2021-10-11T23:14:23.454072Z",
     "start_time": "2021-10-11T23:14:22.725364Z"
    }
   },
   "outputs": [],
   "source": [
    "# Ann data\n",
    "# Counts\n",
    "atac_meta_ad = sc.AnnData(summ_matrix)\n",
    "atac_meta_ad.X = csr_matrix(atac_meta_ad.X)\n",
    "atac_meta_ad.obs_names, atac_meta_ad.var_names = summ_matrix.index.astype(str), summ_matrix.columns"
   ]
  },
  {
   "cell_type": "code",
   "execution_count": 26,
   "metadata": {
    "ExecuteTime": {
     "end_time": "2021-10-11T23:14:23.612761Z",
     "start_time": "2021-10-11T23:14:23.457431Z"
    }
   },
   "outputs": [],
   "source": [
    "sc.pp.normalize_per_cell(atac_meta_ad)\n",
    "# log_transform(atac_meta_ad)"
   ]
  },
  {
   "cell_type": "code",
   "execution_count": 27,
   "metadata": {
    "ExecuteTime": {
     "end_time": "2021-10-11T23:14:23.619644Z",
     "start_time": "2021-10-11T23:14:23.615032Z"
    }
   },
   "outputs": [
    {
     "data": {
      "text/plain": [
       "AnnData object with n_obs × n_vars = 99 × 246113\n",
       "    obs: 'n_counts'"
      ]
     },
     "execution_count": 27,
     "metadata": {},
     "output_type": "execute_result"
    }
   ],
   "source": [
    "atac_meta_ad"
   ]
  },
  {
   "cell_type": "code",
   "execution_count": null,
   "metadata": {},
   "outputs": [],
   "source": []
  },
  {
   "cell_type": "markdown",
   "metadata": {},
   "source": [
    "## RNA meta cell"
   ]
  },
  {
   "cell_type": "code",
   "execution_count": 28,
   "metadata": {
    "ExecuteTime": {
     "end_time": "2021-10-11T23:14:24.243560Z",
     "start_time": "2021-10-11T23:14:23.621642Z"
    }
   },
   "outputs": [
    {
     "data": {
      "application/vnd.jupyter.widget-view+json": {
       "model_id": "f6382566a5b14e65b1ead844b09767d7",
       "version_major": 2,
       "version_minor": 0
      },
      "text/plain": [
       "HBox(children=(FloatProgress(value=0.0, max=99.0), HTML(value='')))"
      ]
     },
     "metadata": {},
     "output_type": "display_data"
    },
    {
     "name": "stdout",
     "output_type": "stream",
     "text": [
      "\n"
     ]
    }
   ],
   "source": [
    "# Summary matrix\n",
    "summ_matrix = pd.DataFrame(0.0, index=metacells, columns=rna_ad.var_names)\n",
    "\n",
    "for m in tqdm(summ_matrix.index):\n",
    "    cells = rna_ad.obs_names[atac_ad.obs['Metacell'] == m]\n",
    "    summ_matrix.loc[m, :] = np.ravel(rna_ad[cells, :].X.sum(axis=0))"
   ]
  },
  {
   "cell_type": "code",
   "execution_count": 29,
   "metadata": {
    "ExecuteTime": {
     "end_time": "2021-10-11T23:14:24.298819Z",
     "start_time": "2021-10-11T23:14:24.245623Z"
    }
   },
   "outputs": [],
   "source": [
    "# Ann data\n",
    "# Counts\n",
    "rna_meta_ad = sc.AnnData(summ_matrix)\n",
    "rna_meta_ad.X = csr_matrix(rna_meta_ad.X)\n",
    "rna_meta_ad.obs_names, rna_meta_ad.var_names = summ_matrix.index.astype(str), rna_meta_ad.var_names"
   ]
  },
  {
   "cell_type": "code",
   "execution_count": 30,
   "metadata": {
    "ExecuteTime": {
     "end_time": "2021-10-11T23:14:24.320498Z",
     "start_time": "2021-10-11T23:14:24.300772Z"
    }
   },
   "outputs": [],
   "source": [
    "rna_meta_ad.raw = sc.AnnData(rna_meta_ad.X)"
   ]
  },
  {
   "cell_type": "code",
   "execution_count": 31,
   "metadata": {
    "ExecuteTime": {
     "end_time": "2021-10-11T23:14:24.345264Z",
     "start_time": "2021-10-11T23:14:24.322571Z"
    }
   },
   "outputs": [],
   "source": [
    "sc.pp.normalize_per_cell(rna_meta_ad)\n",
    "# log_transform(rna_meta_ad)"
   ]
  },
  {
   "cell_type": "code",
   "execution_count": 32,
   "metadata": {
    "ExecuteTime": {
     "end_time": "2021-10-11T23:14:24.351799Z",
     "start_time": "2021-10-11T23:14:24.347279Z"
    }
   },
   "outputs": [],
   "source": [
    "rna_meta_ad.var['highly_variable'] = rna_ad.var['highly_variable']"
   ]
  },
  {
   "cell_type": "markdown",
   "metadata": {},
   "source": [
    "## GTF"
   ]
  },
  {
   "cell_type": "code",
   "execution_count": 33,
   "metadata": {
    "ExecuteTime": {
     "end_time": "2021-10-11T23:16:01.657644Z",
     "start_time": "2021-10-11T23:14:24.353810Z"
    }
   },
   "outputs": [],
   "source": [
    "gtf = pr.read_gtf(os.path.expanduser('~/data/genomes/hg38.gtf'))\n",
    "gtf.Chromosome = 'chr' + gtf.Chromosome.astype(str)"
   ]
  },
  {
   "cell_type": "code",
   "execution_count": 34,
   "metadata": {
    "ExecuteTime": {
     "end_time": "2021-10-11T23:16:02.156616Z",
     "start_time": "2021-10-11T23:16:01.659958Z"
    }
   },
   "outputs": [],
   "source": [
    "transcripts = gtf[gtf.Feature == 'transcript']"
   ]
  },
  {
   "cell_type": "code",
   "execution_count": null,
   "metadata": {},
   "outputs": [],
   "source": []
  },
  {
   "cell_type": "markdown",
   "metadata": {},
   "source": [
    "## TF IDF"
   ]
  },
  {
   "cell_type": "code",
   "execution_count": 19,
   "metadata": {
    "ExecuteTime": {
     "end_time": "2021-10-07T04:59:04.531811Z",
     "start_time": "2021-10-07T04:59:04.278655Z"
    }
   },
   "outputs": [
    {
     "ename": "KeyError",
     "evalue": "'TFIDF'",
     "output_type": "error",
     "traceback": [
      "\u001b[0;31m---------------------------------------------------------------------------\u001b[0m",
      "\u001b[0;31mKeyError\u001b[0m                                  Traceback (most recent call last)",
      "\u001b[0;32m<ipython-input-19-9eb4ae1af2be>\u001b[0m in \u001b[0;36m<module>\u001b[0;34m()\u001b[0m\n\u001b[1;32m      1\u001b[0m \u001b[0;31m# Updated atac_ad.X to be normalized data\u001b[0m\u001b[0;34m\u001b[0m\u001b[0;34m\u001b[0m\u001b[0m\n\u001b[0;32m----> 2\u001b[0;31m \u001b[0matac_ad\u001b[0m\u001b[0;34m.\u001b[0m\u001b[0mX\u001b[0m \u001b[0;34m=\u001b[0m \u001b[0matac_ad\u001b[0m\u001b[0;34m.\u001b[0m\u001b[0mlayers\u001b[0m\u001b[0;34m[\u001b[0m\u001b[0;34m'TFIDF'\u001b[0m\u001b[0;34m]\u001b[0m\u001b[0;34m\u001b[0m\u001b[0m\n\u001b[0m",
      "\u001b[0;32m~/anaconda3/envs/python3/lib/python3.6/site-packages/anndata/_core/aligned_mapping.py\u001b[0m in \u001b[0;36m__getitem__\u001b[0;34m(self, key)\u001b[0m\n\u001b[1;32m    146\u001b[0m \u001b[0;34m\u001b[0m\u001b[0m\n\u001b[1;32m    147\u001b[0m     \u001b[0;32mdef\u001b[0m \u001b[0m__getitem__\u001b[0m\u001b[0;34m(\u001b[0m\u001b[0mself\u001b[0m\u001b[0;34m,\u001b[0m \u001b[0mkey\u001b[0m\u001b[0;34m:\u001b[0m \u001b[0mstr\u001b[0m\u001b[0;34m)\u001b[0m \u001b[0;34m->\u001b[0m \u001b[0mV\u001b[0m\u001b[0;34m:\u001b[0m\u001b[0;34m\u001b[0m\u001b[0m\n\u001b[0;32m--> 148\u001b[0;31m         \u001b[0;32mreturn\u001b[0m \u001b[0mself\u001b[0m\u001b[0;34m.\u001b[0m\u001b[0m_data\u001b[0m\u001b[0;34m[\u001b[0m\u001b[0mkey\u001b[0m\u001b[0;34m]\u001b[0m\u001b[0;34m\u001b[0m\u001b[0m\n\u001b[0m\u001b[1;32m    149\u001b[0m \u001b[0;34m\u001b[0m\u001b[0m\n\u001b[1;32m    150\u001b[0m     \u001b[0;32mdef\u001b[0m \u001b[0m__setitem__\u001b[0m\u001b[0;34m(\u001b[0m\u001b[0mself\u001b[0m\u001b[0;34m,\u001b[0m \u001b[0mkey\u001b[0m\u001b[0;34m:\u001b[0m \u001b[0mstr\u001b[0m\u001b[0;34m,\u001b[0m \u001b[0mvalue\u001b[0m\u001b[0;34m:\u001b[0m \u001b[0mV\u001b[0m\u001b[0;34m)\u001b[0m\u001b[0;34m:\u001b[0m\u001b[0;34m\u001b[0m\u001b[0m\n",
      "\u001b[0;31mKeyError\u001b[0m: 'TFIDF'"
     ]
    }
   ],
   "source": [
    "# Updated atac_ad.X to be normalized data\n",
    "atac_ad.X = atac_ad.layers['TFIDF']"
   ]
  },
  {
   "cell_type": "code",
   "execution_count": null,
   "metadata": {},
   "outputs": [],
   "source": []
  },
  {
   "cell_type": "markdown",
   "metadata": {},
   "source": [
    "## ATAC ArchR vanilla"
   ]
  },
  {
   "cell_type": "code",
   "execution_count": 38,
   "metadata": {
    "ExecuteTime": {
     "end_time": "2021-10-11T23:16:09.090481Z",
     "start_time": "2021-10-11T23:16:08.144242Z"
    }
   },
   "outputs": [],
   "source": [
    "atac_archr_vanilla = sc.read(os.path.expanduser('~/projects/metacells/data/CD34/Multiome/cd34_multiome_atac_no_bcells_archr_vanilla.h5ad'))"
   ]
  },
  {
   "cell_type": "code",
   "execution_count": 39,
   "metadata": {
    "ExecuteTime": {
     "end_time": "2021-10-11T23:16:13.616297Z",
     "start_time": "2021-10-11T23:16:09.093232Z"
    }
   },
   "outputs": [],
   "source": [
    "from sklearn.feature_extraction.text import TfidfTransformer\n",
    "\n",
    "mat = (atac_archr_vanilla.X).astype(int)\n",
    "tfidf = TfidfTransformer().fit(mat)\n",
    "atac_archr_vanilla.layers['TFIDF'] = tfidf.transform(mat)"
   ]
  },
  {
   "cell_type": "code",
   "execution_count": 40,
   "metadata": {
    "ExecuteTime": {
     "end_time": "2021-10-11T23:16:13.623129Z",
     "start_time": "2021-10-11T23:16:13.618456Z"
    }
   },
   "outputs": [],
   "source": [
    "atac_archr_vanilla.X = atac_archr_vanilla.layers['TFIDF']"
   ]
  },
  {
   "cell_type": "code",
   "execution_count": 41,
   "metadata": {
    "ExecuteTime": {
     "end_time": "2021-10-11T23:16:14.090271Z",
     "start_time": "2021-10-11T23:16:13.625262Z"
    }
   },
   "outputs": [],
   "source": [
    "atac_archr_vanilla.var['GC_bin'] = np.digitize(atac_archr_vanilla.var['GC'], np.linspace(0,1,50))\n",
    "atac_archr_vanilla.var['log_n_counts'] = np.ravel(np.log10(atac_archr_vanilla.X.sum(axis=0)))\n",
    "atac_archr_vanilla.var['counts_bin'] = np.digitize(atac_archr_vanilla.var['log_n_counts'], \n",
    "                                        np.linspace(atac_archr_vanilla.var['log_n_counts'].min(),\n",
    "                                        atac_archr_vanilla.var['log_n_counts'].max(),50))"
   ]
  },
  {
   "cell_type": "code",
   "execution_count": null,
   "metadata": {},
   "outputs": [],
   "source": []
  },
  {
   "cell_type": "markdown",
   "metadata": {},
   "source": [
    "## Supercell and metacells"
   ]
  },
  {
   "cell_type": "code",
   "execution_count": 35,
   "metadata": {
    "ExecuteTime": {
     "end_time": "2021-10-11T23:16:02.176426Z",
     "start_time": "2021-10-11T23:16:02.159720Z"
    }
   },
   "outputs": [],
   "source": [
    "other_meta = pd.read_csv('/home/ec2-user/projects/metacells/data/CD34/Multiome/CD34_ATAC_labels.csv', index_col=0)"
   ]
  },
  {
   "cell_type": "code",
   "execution_count": 36,
   "metadata": {
    "ExecuteTime": {
     "end_time": "2021-10-11T23:16:02.191040Z",
     "start_time": "2021-10-11T23:16:02.178594Z"
    }
   },
   "outputs": [
    {
     "data": {
      "text/html": [
       "<div>\n",
       "<style scoped>\n",
       "    .dataframe tbody tr th:only-of-type {\n",
       "        vertical-align: middle;\n",
       "    }\n",
       "\n",
       "    .dataframe tbody tr th {\n",
       "        vertical-align: top;\n",
       "    }\n",
       "\n",
       "    .dataframe thead th {\n",
       "        text-align: right;\n",
       "    }\n",
       "</style>\n",
       "<table border=\"1\" class=\"dataframe\">\n",
       "  <thead>\n",
       "    <tr style=\"text-align: right;\">\n",
       "      <th></th>\n",
       "      <th>Tanaycell</th>\n",
       "      <th>Supercell</th>\n",
       "      <th>Metacell</th>\n",
       "      <th>Aerocell</th>\n",
       "      <th>Random</th>\n",
       "    </tr>\n",
       "  </thead>\n",
       "  <tbody>\n",
       "    <tr>\n",
       "      <th>cd34_multiome_rep1#AAACAGCCACTCGCTC-1</th>\n",
       "      <td>29</td>\n",
       "      <td>24</td>\n",
       "      <td>cd34_multiome_rep1#ACTCCTCAGGCCCAGT-1</td>\n",
       "      <td>cd34_multiome_rep1#AAACAGCCACTCGCTC-1</td>\n",
       "      <td>66</td>\n",
       "    </tr>\n",
       "    <tr>\n",
       "      <th>cd34_multiome_rep1#AAACAGCCACTGACCG-1</th>\n",
       "      <td>44</td>\n",
       "      <td>6</td>\n",
       "      <td>cd34_multiome_rep1#TGAAACTGTAACGGGA-1</td>\n",
       "      <td>cd34_multiome_rep2#AGGATGTCACCAACCG-1</td>\n",
       "      <td>36</td>\n",
       "    </tr>\n",
       "    <tr>\n",
       "      <th>cd34_multiome_rep1#AAACAGCCATAATCAC-1</th>\n",
       "      <td>2</td>\n",
       "      <td>9</td>\n",
       "      <td>cd34_multiome_rep1#ATGTCATCATAGTCAT-1</td>\n",
       "      <td>cd34_multiome_rep1#GAGGCCTTCTGTGCAG-1</td>\n",
       "      <td>33</td>\n",
       "    </tr>\n",
       "    <tr>\n",
       "      <th>cd34_multiome_rep1#AAACATGCAAATTCGT-1</th>\n",
       "      <td>73</td>\n",
       "      <td>24</td>\n",
       "      <td>cd34_multiome_rep2#TAACCTAAGGATTGAG-1</td>\n",
       "      <td>cd34_multiome_rep2#TAACCTAAGGATTGAG-1</td>\n",
       "      <td>47</td>\n",
       "    </tr>\n",
       "    <tr>\n",
       "      <th>cd34_multiome_rep1#AAACATGCAGCATGTC-1</th>\n",
       "      <td>48</td>\n",
       "      <td>31</td>\n",
       "      <td>cd34_multiome_rep1#TCACCTCAGCTGTAAC-1</td>\n",
       "      <td>cd34_multiome_rep1#ATGGCTGTCAATGTCA-1</td>\n",
       "      <td>69</td>\n",
       "    </tr>\n",
       "  </tbody>\n",
       "</table>\n",
       "</div>"
      ],
      "text/plain": [
       "                                       Tanaycell  Supercell  \\\n",
       "cd34_multiome_rep1#AAACAGCCACTCGCTC-1         29         24   \n",
       "cd34_multiome_rep1#AAACAGCCACTGACCG-1         44          6   \n",
       "cd34_multiome_rep1#AAACAGCCATAATCAC-1          2          9   \n",
       "cd34_multiome_rep1#AAACATGCAAATTCGT-1         73         24   \n",
       "cd34_multiome_rep1#AAACATGCAGCATGTC-1         48         31   \n",
       "\n",
       "                                                                    Metacell  \\\n",
       "cd34_multiome_rep1#AAACAGCCACTCGCTC-1  cd34_multiome_rep1#ACTCCTCAGGCCCAGT-1   \n",
       "cd34_multiome_rep1#AAACAGCCACTGACCG-1  cd34_multiome_rep1#TGAAACTGTAACGGGA-1   \n",
       "cd34_multiome_rep1#AAACAGCCATAATCAC-1  cd34_multiome_rep1#ATGTCATCATAGTCAT-1   \n",
       "cd34_multiome_rep1#AAACATGCAAATTCGT-1  cd34_multiome_rep2#TAACCTAAGGATTGAG-1   \n",
       "cd34_multiome_rep1#AAACATGCAGCATGTC-1  cd34_multiome_rep1#TCACCTCAGCTGTAAC-1   \n",
       "\n",
       "                                                                    Aerocell  \\\n",
       "cd34_multiome_rep1#AAACAGCCACTCGCTC-1  cd34_multiome_rep1#AAACAGCCACTCGCTC-1   \n",
       "cd34_multiome_rep1#AAACAGCCACTGACCG-1  cd34_multiome_rep2#AGGATGTCACCAACCG-1   \n",
       "cd34_multiome_rep1#AAACAGCCATAATCAC-1  cd34_multiome_rep1#GAGGCCTTCTGTGCAG-1   \n",
       "cd34_multiome_rep1#AAACATGCAAATTCGT-1  cd34_multiome_rep2#TAACCTAAGGATTGAG-1   \n",
       "cd34_multiome_rep1#AAACATGCAGCATGTC-1  cd34_multiome_rep1#ATGGCTGTCAATGTCA-1   \n",
       "\n",
       "                                       Random  \n",
       "cd34_multiome_rep1#AAACAGCCACTCGCTC-1      66  \n",
       "cd34_multiome_rep1#AAACAGCCACTGACCG-1      36  \n",
       "cd34_multiome_rep1#AAACAGCCATAATCAC-1      33  \n",
       "cd34_multiome_rep1#AAACATGCAAATTCGT-1      47  \n",
       "cd34_multiome_rep1#AAACATGCAGCATGTC-1      69  "
      ]
     },
     "execution_count": 36,
     "metadata": {},
     "output_type": "execute_result"
    }
   ],
   "source": [
    "other_meta.head()"
   ]
  },
  {
   "cell_type": "markdown",
   "metadata": {},
   "source": [
    "### Tanay anndata"
   ]
  },
  {
   "cell_type": "code",
   "execution_count": 66,
   "metadata": {
    "ExecuteTime": {
     "end_time": "2021-10-11T23:35:20.075271Z",
     "start_time": "2021-10-11T23:35:13.649692Z"
    }
   },
   "outputs": [
    {
     "data": {
      "application/vnd.jupyter.widget-view+json": {
       "model_id": "25ddf58c91f94ca28804c7e1ff896651",
       "version_major": 2,
       "version_minor": 0
      },
      "text/plain": [
       "HBox(children=(FloatProgress(value=0.0, max=84.0), HTML(value='')))"
      ]
     },
     "metadata": {},
     "output_type": "display_data"
    },
    {
     "name": "stdout",
     "output_type": "stream",
     "text": [
      "\n"
     ]
    }
   ],
   "source": [
    "# Summary matrix\n",
    "summ_matrix = pd.DataFrame(0.0, index=other_meta['Tanaycell'].unique(), \n",
    "                           columns=atac_archr_vanilla.var_names)\n",
    "\n",
    "for m in tqdm(summ_matrix.index):\n",
    "    cells = other_meta.index[other_meta['Tanaycell'] == m]\n",
    "    summ_matrix.loc[m, :] = np.ravel(atac_archr_vanilla[cells, :].layers['TFIDF'].sum(axis=0))"
   ]
  },
  {
   "cell_type": "code",
   "execution_count": 67,
   "metadata": {
    "ExecuteTime": {
     "end_time": "2021-10-11T23:35:21.243127Z",
     "start_time": "2021-10-11T23:35:20.077586Z"
    }
   },
   "outputs": [
    {
     "name": "stderr",
     "output_type": "stream",
     "text": [
      "/home/ec2-user/anaconda3/envs/python3/lib/python3.6/site-packages/anndata/_core/anndata.py:119: ImplicitModificationWarning: Transforming to str index.\n",
      "  warnings.warn(\"Transforming to str index.\", ImplicitModificationWarning)\n"
     ]
    }
   ],
   "source": [
    "# Ann data\n",
    "# Counts\n",
    "tanay_ad = sc.AnnData(summ_matrix)\n",
    "tanay_ad.X = csr_matrix(tanay_ad.X)\n",
    "tanay_ad.obs_names, tanay_ad.var_names = summ_matrix.index.astype(str), summ_matrix.columns\n",
    "\n",
    "# Normalize\n",
    "sc.pp.normalize_per_cell(tanay_ad)\n",
    "\n",
    "# Celltype\n",
    "tanay_ad.obs['celltype'] = pd.Series(other_meta.index).groupby(other_meta['Tanaycell'].values).apply(lambda x: \n",
    "            rna_ad.obs['celltype'][x].value_counts().idxmax())[tanay_ad.obs_names.astype(int)].values"
   ]
  },
  {
   "cell_type": "code",
   "execution_count": 80,
   "metadata": {
    "ExecuteTime": {
     "end_time": "2021-10-11T23:44:43.618028Z",
     "start_time": "2021-10-11T23:44:43.613892Z"
    }
   },
   "outputs": [
    {
     "data": {
      "text/plain": [
       "AnnData object with n_obs × n_vars = 6881 × 12464\n",
       "    obs: 'sample', 'n_genes_by_counts', 'total_counts', 'total_counts_mt', 'pct_counts_mt', 'batch', 'DoubletScores', 'n_counts', 'leiden', 'phenograph', 'log_n_counts', 'celltype', 'Metacell', 'palantir_pseudotime', 'palantir_diff_potential', 'Metacell_Entropy'\n",
       "    var: 'n_cells', 'highly_variable', 'means', 'dispersions', 'dispersions_norm'\n",
       "    uns: 'DMEigenValues', 'celltype_colors', 'ct_colors', 'hvg', 'leiden', 'leiden_colors', 'neighbors', 'palantir_branch_probs_columns', 'pca', 'phenograph_colors', 'sample_colors', 'umap'\n",
       "    obsm: 'DM_EigenVectors', 'X_FDL', 'X_pca', 'X_umap', 'palantir_branch_probs'\n",
       "    varm: 'PCs'\n",
       "    layers: 'MAGIC_imputed_data'\n",
       "    obsp: 'DM_Kernel', 'connectivities', 'distances'"
      ]
     },
     "execution_count": 80,
     "metadata": {},
     "output_type": "execute_result"
    }
   ],
   "source": [
    "rna_ad"
   ]
  },
  {
   "cell_type": "code",
   "execution_count": 83,
   "metadata": {
    "ExecuteTime": {
     "end_time": "2021-10-11T23:47:14.521841Z",
     "start_time": "2021-10-11T23:47:14.425143Z"
    }
   },
   "outputs": [],
   "source": [
    "tanay_ad.obs['palantir_pseudotime'] = pd.Series(other_meta.index).groupby(other_meta['Tanaycell'].values).apply(lambda x: \n",
    "            rna_ad.obs['palantir_pseudotime'][x].mean())[tanay_ad.obs_names.astype(int)].values"
   ]
  },
  {
   "cell_type": "code",
   "execution_count": null,
   "metadata": {},
   "outputs": [],
   "source": []
  },
  {
   "cell_type": "code",
   "execution_count": 68,
   "metadata": {
    "ExecuteTime": {
     "end_time": "2021-10-11T23:35:21.818991Z",
     "start_time": "2021-10-11T23:35:21.245012Z"
    }
   },
   "outputs": [
    {
     "data": {
      "application/vnd.jupyter.widget-view+json": {
       "model_id": "c809a9e6bd4d4006af8d3a45712eb9db",
       "version_major": 2,
       "version_minor": 0
      },
      "text/plain": [
       "HBox(children=(FloatProgress(value=0.0, max=84.0), HTML(value='')))"
      ]
     },
     "metadata": {},
     "output_type": "display_data"
    },
    {
     "name": "stdout",
     "output_type": "stream",
     "text": [
      "\n"
     ]
    }
   ],
   "source": [
    "# Expression group\n",
    "# Summary matrix\n",
    "summ_matrix = pd.DataFrame(0.0, index=other_meta['Tanaycell'].unique(), \n",
    "     columns=rna_ad.var_names)\n",
    "\n",
    "for m in tqdm(summ_matrix.index):\n",
    "    cells = other_meta.index[other_meta['Tanaycell'] == m]\n",
    "    summ_matrix.loc[m, :] = np.ravel(rna_ad[cells, :].X.sum(axis=0))\n",
    "\n",
    "summ_matrix.index = summ_matrix.index.astype(str)"
   ]
  },
  {
   "cell_type": "code",
   "execution_count": 69,
   "metadata": {
    "ExecuteTime": {
     "end_time": "2021-10-11T23:35:21.826671Z",
     "start_time": "2021-10-11T23:35:21.820866Z"
    }
   },
   "outputs": [],
   "source": [
    "tanay_ad.obsm['GeneExpression'] = summ_matrix.loc[tanay_ad.obs_names, :].values\n",
    "tanay_ad.uns['GeneExpressionColumns'] = summ_matrix.columns.values"
   ]
  },
  {
   "cell_type": "code",
   "execution_count": 70,
   "metadata": {
    "ExecuteTime": {
     "end_time": "2021-10-11T23:35:21.835910Z",
     "start_time": "2021-10-11T23:35:21.830361Z"
    }
   },
   "outputs": [
    {
     "data": {
      "text/plain": [
       "AnnData object with n_obs × n_vars = 84 × 269929\n",
       "    obs: 'n_counts', 'celltype'\n",
       "    uns: 'GeneExpressionColumns'\n",
       "    obsm: 'GeneExpression'"
      ]
     },
     "execution_count": 70,
     "metadata": {},
     "output_type": "execute_result"
    }
   ],
   "source": [
    "tanay_ad"
   ]
  },
  {
   "cell_type": "code",
   "execution_count": null,
   "metadata": {},
   "outputs": [],
   "source": []
  },
  {
   "cell_type": "markdown",
   "metadata": {},
   "source": [
    "### Supercells anndata"
   ]
  },
  {
   "cell_type": "code",
   "execution_count": 74,
   "metadata": {
    "ExecuteTime": {
     "end_time": "2021-10-11T23:37:25.107101Z",
     "start_time": "2021-10-11T23:37:18.641242Z"
    }
   },
   "outputs": [
    {
     "data": {
      "application/vnd.jupyter.widget-view+json": {
       "model_id": "b892d3d368c94620875a5aafdd33484a",
       "version_major": 2,
       "version_minor": 0
      },
      "text/plain": [
       "HBox(children=(FloatProgress(value=0.0, max=84.0), HTML(value='')))"
      ]
     },
     "metadata": {},
     "output_type": "display_data"
    },
    {
     "name": "stdout",
     "output_type": "stream",
     "text": [
      "\n"
     ]
    }
   ],
   "source": [
    "# Summary matrix\n",
    "summ_matrix = pd.DataFrame(0.0, index=other_meta['Supercell'].unique(), \n",
    "                           columns=atac_archr_vanilla.var_names)\n",
    "\n",
    "for m in tqdm(summ_matrix.index):\n",
    "    cells = other_meta.index[other_meta['Supercell'] == m]\n",
    "    summ_matrix.loc[m, :] = np.ravel(atac_archr_vanilla[cells, :].layers['TFIDF'].sum(axis=0))"
   ]
  },
  {
   "cell_type": "code",
   "execution_count": 75,
   "metadata": {
    "ExecuteTime": {
     "end_time": "2021-10-11T23:37:26.164449Z",
     "start_time": "2021-10-11T23:37:25.109430Z"
    }
   },
   "outputs": [
    {
     "name": "stderr",
     "output_type": "stream",
     "text": [
      "/home/ec2-user/anaconda3/envs/python3/lib/python3.6/site-packages/anndata/_core/anndata.py:119: ImplicitModificationWarning: Transforming to str index.\n",
      "  warnings.warn(\"Transforming to str index.\", ImplicitModificationWarning)\n"
     ]
    }
   ],
   "source": [
    "# Ann data\n",
    "# Counts\n",
    "supercells_ad = sc.AnnData(summ_matrix)\n",
    "supercells_ad.X = csr_matrix(supercells_ad.X)\n",
    "supercells_ad.obs_names, supercells_ad.var_names = summ_matrix.index.astype(str), summ_matrix.columns\n",
    "\n",
    "# Normalize\n",
    "sc.pp.normalize_per_cell(supercells_ad)\n",
    "\n",
    "# Celltype\n",
    "supercells_ad.obs['celltype'] = pd.Series(other_meta.index).groupby(other_meta['Supercell'].values).apply(lambda x: \n",
    "            rna_ad.obs['celltype'][x].value_counts().idxmax())[supercells_ad.obs_names.astype(int)].values"
   ]
  },
  {
   "cell_type": "code",
   "execution_count": 84,
   "metadata": {
    "ExecuteTime": {
     "end_time": "2021-10-11T23:47:32.623750Z",
     "start_time": "2021-10-11T23:47:32.526719Z"
    }
   },
   "outputs": [],
   "source": [
    "# Celltype\n",
    "supercells_ad.obs['palantir_pseudotime'] = pd.Series(other_meta.index).groupby(other_meta['Supercell'].values).apply(lambda x: \n",
    "            rna_ad.obs['palantir_pseudotime'][x].mean())[supercells_ad.obs_names.astype(int)].values"
   ]
  },
  {
   "cell_type": "code",
   "execution_count": 76,
   "metadata": {
    "ExecuteTime": {
     "end_time": "2021-10-11T23:37:26.743727Z",
     "start_time": "2021-10-11T23:37:26.166641Z"
    }
   },
   "outputs": [
    {
     "data": {
      "application/vnd.jupyter.widget-view+json": {
       "model_id": "e94f5cc1f1324b43ad2a00414cee39b6",
       "version_major": 2,
       "version_minor": 0
      },
      "text/plain": [
       "HBox(children=(FloatProgress(value=0.0, max=84.0), HTML(value='')))"
      ]
     },
     "metadata": {},
     "output_type": "display_data"
    },
    {
     "name": "stdout",
     "output_type": "stream",
     "text": [
      "\n"
     ]
    }
   ],
   "source": [
    "# Expression group\n",
    "# Summary matrix\n",
    "summ_matrix = pd.DataFrame(0.0, index=other_meta['Supercell'].unique(), \n",
    "     columns=rna_ad.var_names)\n",
    "\n",
    "for m in tqdm(summ_matrix.index):\n",
    "    cells = other_meta.index[other_meta['Supercell'] == m]\n",
    "    summ_matrix.loc[m, :] = np.ravel(rna_ad[cells, :].X.sum(axis=0))\n",
    "\n",
    "summ_matrix.index = summ_matrix.index.astype(str)"
   ]
  },
  {
   "cell_type": "code",
   "execution_count": 77,
   "metadata": {
    "ExecuteTime": {
     "end_time": "2021-10-11T23:37:26.750795Z",
     "start_time": "2021-10-11T23:37:26.745523Z"
    }
   },
   "outputs": [],
   "source": [
    "supercells_ad.obsm['GeneExpression'] = summ_matrix.loc[supercells_ad.obs_names, :].values\n",
    "supercells_ad.uns['GeneExpressionColumns'] = summ_matrix.columns.values"
   ]
  },
  {
   "cell_type": "code",
   "execution_count": 78,
   "metadata": {
    "ExecuteTime": {
     "end_time": "2021-10-11T23:37:26.758120Z",
     "start_time": "2021-10-11T23:37:26.753304Z"
    }
   },
   "outputs": [
    {
     "data": {
      "text/plain": [
       "AnnData object with n_obs × n_vars = 84 × 269929\n",
       "    obs: 'n_counts', 'celltype'\n",
       "    uns: 'GeneExpressionColumns'\n",
       "    obsm: 'GeneExpression'"
      ]
     },
     "execution_count": 78,
     "metadata": {},
     "output_type": "execute_result"
    }
   ],
   "source": [
    "supercells_ad"
   ]
  },
  {
   "cell_type": "code",
   "execution_count": null,
   "metadata": {},
   "outputs": [],
   "source": []
  },
  {
   "cell_type": "code",
   "execution_count": null,
   "metadata": {},
   "outputs": [],
   "source": []
  },
  {
   "cell_type": "code",
   "execution_count": null,
   "metadata": {},
   "outputs": [],
   "source": []
  },
  {
   "cell_type": "markdown",
   "metadata": {},
   "source": [
    "# Gene scores"
   ]
  },
  {
   "cell_type": "code",
   "execution_count": 17,
   "metadata": {
    "ExecuteTime": {
     "end_time": "2021-10-07T04:59:00.566168Z",
     "start_time": "2021-10-07T04:59:00.563227Z"
    }
   },
   "outputs": [],
   "source": [
    "from sklearn.metrics import pairwise_distances\n",
    "from scipy.stats import rankdata, spearmanr"
   ]
  },
  {
   "cell_type": "code",
   "execution_count": 45,
   "metadata": {
    "ExecuteTime": {
     "end_time": "2021-05-06T22:51:18.496542Z",
     "start_time": "2021-05-06T22:51:18.492743Z"
    },
    "deletable": false,
    "editable": false,
    "run_control": {
     "frozen": true
    }
   },
   "outputs": [],
   "source": [
    "def sp(x, y):\n",
    "    return spearmanr(x, y)[0]"
   ]
  },
  {
   "cell_type": "code",
   "execution_count": null,
   "metadata": {},
   "outputs": [],
   "source": []
  },
  {
   "cell_type": "code",
   "execution_count": 41,
   "metadata": {
    "ExecuteTime": {
     "end_time": "2021-10-07T05:06:09.876993Z",
     "start_time": "2021-10-07T05:06:09.864414Z"
    }
   },
   "outputs": [],
   "source": [
    "def dorc_func(gene, atac_exprs, rna_exprs, atac_ad):\n",
    "    # Longest transcripts\n",
    "    gene_transcripts = transcripts[transcripts.gene_name == gene]\n",
    "    if len(gene_transcripts) == 0:\n",
    "        return 0\n",
    "    longest_transcript= gene_transcripts[np.arange(len(gene_transcripts)) == np.argmax(gene_transcripts.End - gene_transcripts.Start)]\n",
    "    start = longest_transcript.Start.values[0] - span\n",
    "    end = longest_transcript.End.values[0] + span\n",
    "    \n",
    "    \n",
    "    # Gene span\n",
    "    gene_pr = pr.from_dict({'Chromosome': [longest_transcript.Chromosome.values[0]],\n",
    "                  'Start': [start],\n",
    "                  'End': [end]})\n",
    "    gene_peaks = peaks_pr.overlap(gene_pr)\n",
    "    if len(gene_peaks) == 0:\n",
    "        return 0\n",
    "    gene_peaks_str = pyranges_to_strings(gene_peaks)\n",
    "\n",
    "    \n",
    "    # correlations\n",
    "    if type(atac_exprs) is sc.AnnData:\n",
    "        X = pd.DataFrame(atac_exprs[:, gene_peaks_str].X.todense().T)\n",
    "    else:\n",
    "        X = atac_exprs.loc[:, gene_peaks_str].T\n",
    "\n",
    "    cors = 1 - np.ravel(pairwise_distances(np.apply_along_axis(rankdata, 1, X.values), \n",
    "                  rankdata(rna_exprs[gene].T.values).reshape(1, -1), \n",
    "                  metric='correlation'))\n",
    "    cors = pd.Series(cors, index=gene_peaks_str)\n",
    "    cors = cors[cors > 0.01]\n",
    "\n",
    "    \n",
    "    # Random background\n",
    "    df = pd.DataFrame(1.0, index=cors.index, columns=['cor', 'pval'])\n",
    "    df['cor'] = cors\n",
    "    for p in df.index:\n",
    "        try:\n",
    "            rand_peaks = np.random.choice(atac_ad.var_names[(atac_ad.var['GC_bin'] == atac_ad.var['GC_bin'][p])  &\\\n",
    "                                                        (atac_ad.var['counts_bin'] == atac_ad.var['counts_bin'][p])], 100, False)\n",
    "        except:\n",
    "            rand_peaks = np.random.choice(atac_ad.var_names[(atac_ad.var['GC_bin'] == atac_ad.var['GC_bin'][p])  &\\\n",
    "                                                        (atac_ad.var['counts_bin'] == atac_ad.var['counts_bin'][p])], 100, True)\n",
    "\n",
    "        if type(atac_exprs) is sc.AnnData:\n",
    "            X = pd.DataFrame(atac_exprs[:, rand_peaks].X.todense().T)\n",
    "        else:\n",
    "            X = atac_exprs.loc[:, rand_peaks].T\n",
    "            \n",
    "        rand_cors = 1 - np.ravel(pairwise_distances(np.apply_along_axis(rankdata, 1, X.values), \n",
    "                  rankdata(rna_exprs[gene].T.values).reshape(1, -1), \n",
    "                  metric='correlation'))\n",
    "\n",
    "        m = np.mean(rand_cors)\n",
    "        v = np.std(rand_cors)\n",
    "\n",
    "        from scipy.stats import norm\n",
    "        df.loc[p, 'pval']= 1 - norm.cdf(cors[p], m, v)\n",
    "\n",
    "    return df    "
   ]
  },
  {
   "cell_type": "markdown",
   "metadata": {},
   "source": [
    "## Metacell"
   ]
  },
  {
   "cell_type": "code",
   "execution_count": 41,
   "metadata": {
    "ExecuteTime": {
     "end_time": "2021-10-07T04:41:47.047937Z",
     "start_time": "2021-10-07T04:41:47.033213Z"
    }
   },
   "outputs": [
    {
     "ename": "NameError",
     "evalue": "name 'atac_meta_ad' is not defined",
     "output_type": "error",
     "traceback": [
      "\u001b[0;31m---------------------------------------------------------------------------\u001b[0m",
      "\u001b[0;31mNameError\u001b[0m                                 Traceback (most recent call last)",
      "\u001b[0;32m<ipython-input-41-935b4f820f3d>\u001b[0m in \u001b[0;36m<module>\u001b[0;34m()\u001b[0m\n\u001b[1;32m      1\u001b[0m \u001b[0mspan\u001b[0m \u001b[0;34m=\u001b[0m \u001b[0;36m100000\u001b[0m\u001b[0;34m\u001b[0m\u001b[0m\n\u001b[0;32m----> 2\u001b[0;31m \u001b[0mpeaks_pr\u001b[0m \u001b[0;34m=\u001b[0m \u001b[0mpyranges_from_strings\u001b[0m\u001b[0;34m(\u001b[0m\u001b[0matac_meta_ad\u001b[0m\u001b[0;34m.\u001b[0m\u001b[0mvar_names\u001b[0m\u001b[0;34m)\u001b[0m\u001b[0;34m\u001b[0m\u001b[0m\n\u001b[0m",
      "\u001b[0;31mNameError\u001b[0m: name 'atac_meta_ad' is not defined"
     ]
    }
   ],
   "source": [
    "span = 100000\n",
    "peaks_pr = pyranges_from_strings(atac_meta_ad.var_names)"
   ]
  },
  {
   "cell_type": "code",
   "execution_count": null,
   "metadata": {},
   "outputs": [],
   "source": []
  },
  {
   "cell_type": "code",
   "execution_count": 37,
   "metadata": {
    "ExecuteTime": {
     "end_time": "2021-08-11T20:55:59.855204Z",
     "start_time": "2021-08-11T20:55:59.791189Z"
    }
   },
   "outputs": [],
   "source": [
    "atac_meta_exprs = pd.DataFrame(atac_meta_ad.X.todense(), \n",
    "                              index=atac_meta_ad.obs_names, columns=atac_meta_ad.var_names)\n",
    "rna_exprs = pd.DataFrame(rna_meta_ad.X.todense(), \n",
    "                         index=rna_meta_ad.obs_names, columns=rna_meta_ad.var_names)"
   ]
  },
  {
   "cell_type": "code",
   "execution_count": 38,
   "metadata": {
    "ExecuteTime": {
     "end_time": "2021-08-11T22:50:18.387856Z",
     "start_time": "2021-08-11T20:55:59.857186Z"
    },
    "scrolled": false
   },
   "outputs": [
    {
     "data": {
      "application/vnd.jupyter.widget-view+json": {
       "model_id": "d0cd9da436774cb49a8545d8809f79b2",
       "version_major": 2,
       "version_minor": 0
      },
      "text/plain": [
       "HBox(children=(FloatProgress(value=0.0, max=12464.0), HTML(value='')))"
      ]
     },
     "metadata": {},
     "output_type": "display_data"
    },
    {
     "name": "stderr",
     "output_type": "stream",
     "text": [
      "/home/ec2-user/anaconda3/envs/python3/lib/python3.6/site-packages/scipy/stats/_distn_infrastructure.py:1844: RuntimeWarning: invalid value encountered in double_scalars\n",
      "  x = np.asarray((x - loc)/scale, dtype=dtyp)\n",
      "/home/ec2-user/anaconda3/envs/python3/lib/python3.6/site-packages/scipy/stats/_distn_infrastructure.py:1844: RuntimeWarning: invalid value encountered in double_scalars\n",
      "  x = np.asarray((x - loc)/scale, dtype=dtyp)\n",
      "/home/ec2-user/anaconda3/envs/python3/lib/python3.6/site-packages/scipy/stats/_distn_infrastructure.py:1844: RuntimeWarning: invalid value encountered in double_scalars\n",
      "  x = np.asarray((x - loc)/scale, dtype=dtyp)\n",
      "/home/ec2-user/anaconda3/envs/python3/lib/python3.6/site-packages/scipy/stats/_distn_infrastructure.py:1844: RuntimeWarning: invalid value encountered in double_scalars\n",
      "  x = np.asarray((x - loc)/scale, dtype=dtyp)\n",
      "/home/ec2-user/anaconda3/envs/python3/lib/python3.6/site-packages/scipy/stats/_distn_infrastructure.py:1844: RuntimeWarning: invalid value encountered in double_scalars\n",
      "  x = np.asarray((x - loc)/scale, dtype=dtyp)\n",
      "/home/ec2-user/anaconda3/envs/python3/lib/python3.6/site-packages/scipy/stats/_distn_infrastructure.py:1844: RuntimeWarning: invalid value encountered in double_scalars\n",
      "  x = np.asarray((x - loc)/scale, dtype=dtyp)\n",
      "/home/ec2-user/anaconda3/envs/python3/lib/python3.6/site-packages/scipy/stats/_distn_infrastructure.py:1844: RuntimeWarning: invalid value encountered in double_scalars\n",
      "  x = np.asarray((x - loc)/scale, dtype=dtyp)\n",
      "/home/ec2-user/anaconda3/envs/python3/lib/python3.6/site-packages/scipy/stats/_distn_infrastructure.py:1844: RuntimeWarning: invalid value encountered in double_scalars\n",
      "  x = np.asarray((x - loc)/scale, dtype=dtyp)\n",
      "/home/ec2-user/anaconda3/envs/python3/lib/python3.6/site-packages/scipy/stats/_distn_infrastructure.py:1844: RuntimeWarning: invalid value encountered in double_scalars\n",
      "  x = np.asarray((x - loc)/scale, dtype=dtyp)\n",
      "/home/ec2-user/anaconda3/envs/python3/lib/python3.6/site-packages/scipy/stats/_distn_infrastructure.py:1844: RuntimeWarning: invalid value encountered in double_scalars\n",
      "  x = np.asarray((x - loc)/scale, dtype=dtyp)\n",
      "/home/ec2-user/anaconda3/envs/python3/lib/python3.6/site-packages/scipy/stats/_distn_infrastructure.py:1844: RuntimeWarning: invalid value encountered in double_scalars\n",
      "  x = np.asarray((x - loc)/scale, dtype=dtyp)\n",
      "/home/ec2-user/anaconda3/envs/python3/lib/python3.6/site-packages/scipy/stats/_distn_infrastructure.py:1844: RuntimeWarning: invalid value encountered in double_scalars\n",
      "  x = np.asarray((x - loc)/scale, dtype=dtyp)\n",
      "/home/ec2-user/anaconda3/envs/python3/lib/python3.6/site-packages/scipy/stats/_distn_infrastructure.py:1844: RuntimeWarning: invalid value encountered in double_scalars\n",
      "  x = np.asarray((x - loc)/scale, dtype=dtyp)\n",
      "/home/ec2-user/anaconda3/envs/python3/lib/python3.6/site-packages/scipy/stats/_distn_infrastructure.py:1844: RuntimeWarning: invalid value encountered in double_scalars\n",
      "  x = np.asarray((x - loc)/scale, dtype=dtyp)\n",
      "/home/ec2-user/anaconda3/envs/python3/lib/python3.6/site-packages/scipy/stats/_distn_infrastructure.py:1844: RuntimeWarning: invalid value encountered in double_scalars\n",
      "  x = np.asarray((x - loc)/scale, dtype=dtyp)\n",
      "/home/ec2-user/anaconda3/envs/python3/lib/python3.6/site-packages/scipy/stats/_distn_infrastructure.py:1844: RuntimeWarning: invalid value encountered in double_scalars\n",
      "  x = np.asarray((x - loc)/scale, dtype=dtyp)\n",
      "/home/ec2-user/anaconda3/envs/python3/lib/python3.6/site-packages/scipy/stats/_distn_infrastructure.py:1844: RuntimeWarning: invalid value encountered in double_scalars\n",
      "  x = np.asarray((x - loc)/scale, dtype=dtyp)\n",
      "/home/ec2-user/anaconda3/envs/python3/lib/python3.6/site-packages/scipy/stats/_distn_infrastructure.py:1844: RuntimeWarning: invalid value encountered in double_scalars\n",
      "  x = np.asarray((x - loc)/scale, dtype=dtyp)\n",
      "/home/ec2-user/anaconda3/envs/python3/lib/python3.6/site-packages/scipy/stats/_distn_infrastructure.py:1844: RuntimeWarning: invalid value encountered in double_scalars\n",
      "  x = np.asarray((x - loc)/scale, dtype=dtyp)\n",
      "/home/ec2-user/anaconda3/envs/python3/lib/python3.6/site-packages/scipy/stats/_distn_infrastructure.py:1844: RuntimeWarning: invalid value encountered in double_scalars\n",
      "  x = np.asarray((x - loc)/scale, dtype=dtyp)\n",
      "/home/ec2-user/anaconda3/envs/python3/lib/python3.6/site-packages/scipy/stats/_distn_infrastructure.py:1844: RuntimeWarning: invalid value encountered in double_scalars\n",
      "  x = np.asarray((x - loc)/scale, dtype=dtyp)\n",
      "/home/ec2-user/anaconda3/envs/python3/lib/python3.6/site-packages/scipy/stats/_distn_infrastructure.py:1844: RuntimeWarning: invalid value encountered in double_scalars\n",
      "  x = np.asarray((x - loc)/scale, dtype=dtyp)\n"
     ]
    },
    {
     "name": "stdout",
     "output_type": "stream",
     "text": [
      "\n"
     ]
    }
   ],
   "source": [
    "from joblib import Parallel, delayed\n",
    "use_genes = rna_ad.var_names\n",
    "gene_res = Parallel(n_jobs=1)(delayed(dorc_func)(gene, atac_meta_exprs, rna_exprs) \n",
    "                               for gene in tqdm(use_genes))"
   ]
  },
  {
   "cell_type": "code",
   "execution_count": 39,
   "metadata": {
    "ExecuteTime": {
     "end_time": "2021-08-11T22:50:18.606731Z",
     "start_time": "2021-08-11T22:50:18.389927Z"
    }
   },
   "outputs": [],
   "source": [
    "gene_res = pd.Series(gene_res, index=use_genes)"
   ]
  },
  {
   "cell_type": "code",
   "execution_count": null,
   "metadata": {},
   "outputs": [],
   "source": []
  },
  {
   "cell_type": "markdown",
   "metadata": {},
   "source": [
    "### Matrices"
   ]
  },
  {
   "cell_type": "code",
   "execution_count": 47,
   "metadata": {
    "ExecuteTime": {
     "end_time": "2021-10-07T15:51:29.081964Z",
     "start_time": "2021-10-07T15:51:29.078590Z"
    }
   },
   "outputs": [],
   "source": [
    "pval_cutoff = 1e-1"
   ]
  },
  {
   "cell_type": "code",
   "execution_count": 41,
   "metadata": {
    "ExecuteTime": {
     "end_time": "2021-08-11T22:57:04.667578Z",
     "start_time": "2021-08-11T22:50:18.613710Z"
    }
   },
   "outputs": [
    {
     "data": {
      "application/vnd.jupyter.widget-view+json": {
       "model_id": "9c22724650cc44c088529c9b9cff3c5f",
       "version_major": 2,
       "version_minor": 0
      },
      "text/plain": [
       "HBox(children=(FloatProgress(value=0.0, max=12464.0), HTML(value='')))"
      ]
     },
     "metadata": {},
     "output_type": "display_data"
    },
    {
     "name": "stdout",
     "output_type": "stream",
     "text": [
      "\n"
     ]
    }
   ],
   "source": [
    "gene_scores = pd.DataFrame(0.0, index=atac_meta_ad.obs_names, columns=gene_res.index)\n",
    "\n",
    "for gene in tqdm(gene_scores.columns):\n",
    "    df = gene_res[gene]\n",
    "    if type(df) is int:\n",
    "        continue\n",
    "    gene_peaks = df.index[df['pval'] < pval_cutoff]\n",
    "    gene_scores[gene] = np.ravel(np.dot(atac_meta_ad[:, gene_peaks].X.todense(), \n",
    "                    df.loc[gene_peaks, 'cor']))"
   ]
  },
  {
   "cell_type": "code",
   "execution_count": 42,
   "metadata": {
    "ExecuteTime": {
     "end_time": "2021-08-11T22:57:04.721376Z",
     "start_time": "2021-08-11T22:57:04.669716Z"
    }
   },
   "outputs": [],
   "source": [
    "gene_scores = gene_scores.loc[:, (gene_scores.sum() >= 0)]"
   ]
  },
  {
   "cell_type": "markdown",
   "metadata": {},
   "source": [
    "### Save"
   ]
  },
  {
   "cell_type": "code",
   "execution_count": 51,
   "metadata": {
    "ExecuteTime": {
     "end_time": "2021-10-11T23:17:29.796233Z",
     "start_time": "2021-10-11T23:17:29.792662Z"
    }
   },
   "outputs": [],
   "source": [
    "out_dir = os.path.expanduser('~/projects/metacells/data/CD34/Multiome/outs/')"
   ]
  },
  {
   "cell_type": "code",
   "execution_count": 45,
   "metadata": {
    "ExecuteTime": {
     "end_time": "2021-08-12T01:24:01.741618Z",
     "start_time": "2021-08-12T01:23:59.832243Z"
    }
   },
   "outputs": [],
   "source": [
    "import pickle\n",
    "with open(out_dir + 'cd34_meta_dorc_correlations.p', 'wb') as p:\n",
    "    pickle.dump(gene_res, p)\n",
    "with open(out_dir + 'cd34_meta_dorc_gene_scores.p', 'wb') as p:\n",
    "    pickle.dump(gene_scores, p)"
   ]
  },
  {
   "cell_type": "code",
   "execution_count": 46,
   "metadata": {
    "ExecuteTime": {
     "end_time": "2021-08-12T01:24:01.747370Z",
     "start_time": "2021-08-12T01:24:01.744157Z"
    }
   },
   "outputs": [],
   "source": [
    "meta_gene_res = gene_res\n",
    "meta_gene_scores = gene_scores"
   ]
  },
  {
   "cell_type": "code",
   "execution_count": null,
   "metadata": {},
   "outputs": [],
   "source": []
  },
  {
   "cell_type": "markdown",
   "metadata": {},
   "source": [
    "## Single-cell"
   ]
  },
  {
   "cell_type": "code",
   "execution_count": 36,
   "metadata": {
    "ExecuteTime": {
     "end_time": "2021-10-07T05:04:58.157704Z",
     "start_time": "2021-10-07T05:04:58.044467Z"
    }
   },
   "outputs": [],
   "source": [
    "atac_meta_exprs = atac_archr_vanilla\n",
    "rna_exprs = pd.DataFrame(rna_ad.X.todense(), \n",
    "                         index=rna_ad.obs_names, columns=rna_ad.var_names)"
   ]
  },
  {
   "cell_type": "code",
   "execution_count": 37,
   "metadata": {
    "ExecuteTime": {
     "end_time": "2021-10-07T05:05:03.873908Z",
     "start_time": "2021-10-07T05:04:59.143472Z"
    }
   },
   "outputs": [
    {
     "name": "stdout",
     "output_type": "stream",
     "text": [
      "\n"
     ]
    }
   ],
   "source": [
    "span = 100000\n",
    "peaks_pr = pyranges_from_strings(atac_meta_exprs.var_names)"
   ]
  },
  {
   "cell_type": "code",
   "execution_count": null,
   "metadata": {
    "ExecuteTime": {
     "start_time": "2021-10-07T05:06:27.191Z"
    },
    "scrolled": false
   },
   "outputs": [
    {
     "data": {
      "application/vnd.jupyter.widget-view+json": {
       "model_id": "ca8e3681a8f24d98851880c9d32bd12f",
       "version_major": 2,
       "version_minor": 0
      },
      "text/plain": [
       "HBox(children=(FloatProgress(value=0.0, max=12464.0), HTML(value='')))"
      ]
     },
     "metadata": {},
     "output_type": "display_data"
    },
    {
     "name": "stdout",
     "output_type": "stream",
     "text": [
      "\n",
      "\n",
      "\n"
     ]
    }
   ],
   "source": [
    "from joblib import Parallel, delayed\n",
    "use_genes = rna_ad.var_names\n",
    "\n",
    "gene_res = Parallel(n_jobs=-1)(delayed(dorc_func)(gene, atac_meta_exprs, rna_exprs, atac_archr_vanilla) \n",
    "                               for gene in tqdm(use_genes))"
   ]
  },
  {
   "cell_type": "code",
   "execution_count": 45,
   "metadata": {
    "ExecuteTime": {
     "end_time": "2021-10-07T15:51:16.100144Z",
     "start_time": "2021-10-07T15:51:15.859417Z"
    }
   },
   "outputs": [],
   "source": [
    "gene_res = pd.Series(gene_res, index=use_genes)"
   ]
  },
  {
   "cell_type": "code",
   "execution_count": null,
   "metadata": {},
   "outputs": [],
   "source": []
  },
  {
   "cell_type": "markdown",
   "metadata": {},
   "source": [
    "### Matrices"
   ]
  },
  {
   "cell_type": "code",
   "execution_count": 99,
   "metadata": {
    "ExecuteTime": {
     "end_time": "2021-10-07T17:08:54.792273Z",
     "start_time": "2021-10-07T16:11:23.809464Z"
    }
   },
   "outputs": [
    {
     "data": {
      "application/vnd.jupyter.widget-view+json": {
       "model_id": "b9bfc6141bd5420983660f25be9f68e7",
       "version_major": 2,
       "version_minor": 0
      },
      "text/plain": [
       "HBox(children=(FloatProgress(value=0.0, max=12464.0), HTML(value='')))"
      ]
     },
     "metadata": {},
     "output_type": "display_data"
    },
    {
     "name": "stdout",
     "output_type": "stream",
     "text": [
      "\n"
     ]
    }
   ],
   "source": [
    "gene_scores = pd.DataFrame(0.0, index=atac_ad.obs_names, columns=gene_res.index)\n",
    "\n",
    "for gene in tqdm(gene_scores.columns):\n",
    "    df = gene_res[gene]\n",
    "    if type(df) is int:\n",
    "        continue\n",
    "    gene_peaks = df.index[df['pval'] < pval_cutoff]\n",
    "    gene_scores[gene] = np.ravel(np.dot(atac_archr_vanilla[:, gene_peaks].layers['TFIDF'].todense(), \n",
    "                    df.loc[gene_peaks, 'cor']))"
   ]
  },
  {
   "cell_type": "code",
   "execution_count": 100,
   "metadata": {
    "ExecuteTime": {
     "end_time": "2021-10-07T17:35:25.124964Z",
     "start_time": "2021-10-07T17:35:24.648427Z"
    }
   },
   "outputs": [],
   "source": [
    "gene_scores = gene_scores.loc[:, (gene_scores.sum() >= 0)]"
   ]
  },
  {
   "cell_type": "markdown",
   "metadata": {},
   "source": [
    "### Save"
   ]
  },
  {
   "cell_type": "code",
   "execution_count": 103,
   "metadata": {
    "ExecuteTime": {
     "end_time": "2021-10-07T17:35:42.246136Z",
     "start_time": "2021-10-07T17:35:37.942265Z"
    }
   },
   "outputs": [],
   "source": [
    "import pickle\n",
    "with open(out_dir + 'cd34_sc_correlations.p', 'wb') as p:\n",
    "    pickle.dump(gene_res, p)\n",
    "with open(out_dir + 'cd34_sc_gene_scores.p', 'wb') as p:\n",
    "    pickle.dump(gene_scores, p)"
   ]
  },
  {
   "cell_type": "code",
   "execution_count": null,
   "metadata": {},
   "outputs": [],
   "source": []
  },
  {
   "cell_type": "markdown",
   "metadata": {},
   "source": [
    "## Tanay Metacell"
   ]
  },
  {
   "cell_type": "code",
   "execution_count": 104,
   "metadata": {
    "ExecuteTime": {
     "end_time": "2021-10-07T17:35:43.913128Z",
     "start_time": "2021-10-07T17:35:43.837029Z"
    }
   },
   "outputs": [],
   "source": [
    "atac_meta_exprs = pd.DataFrame(tanay_ad.X.todense(), \n",
    "                              index=tanay_ad.obs_names, columns=tanay_ad.var_names)\n",
    "\n",
    "rna_exprs = pd.DataFrame(tanay_ad.obsm['GeneExpression'], \n",
    "                         index=tanay_ad.obs_names, columns=tanay_ad.uns['GeneExpressionColumns'])"
   ]
  },
  {
   "cell_type": "code",
   "execution_count": 107,
   "metadata": {
    "ExecuteTime": {
     "end_time": "2021-10-07T17:36:02.764631Z",
     "start_time": "2021-10-07T17:35:55.918747Z"
    }
   },
   "outputs": [],
   "source": [
    "span = 100000\n",
    "peaks_pr = pyranges_from_strings(atac_meta_exprs.columns)"
   ]
  },
  {
   "cell_type": "code",
   "execution_count": 108,
   "metadata": {
    "ExecuteTime": {
     "end_time": "2021-10-07T21:27:37.507339Z",
     "start_time": "2021-10-07T17:36:04.071772Z"
    },
    "scrolled": false
   },
   "outputs": [
    {
     "data": {
      "application/vnd.jupyter.widget-view+json": {
       "model_id": "d25dd76cd0ac4aa39db6852bd30790b9",
       "version_major": 2,
       "version_minor": 0
      },
      "text/plain": [
       "HBox(children=(FloatProgress(value=0.0, max=12464.0), HTML(value='')))"
      ]
     },
     "metadata": {},
     "output_type": "display_data"
    },
    {
     "name": "stdout",
     "output_type": "stream",
     "text": [
      "\n"
     ]
    }
   ],
   "source": [
    "from joblib import Parallel, delayed\n",
    "use_genes = rna_ad.var_names\n",
    "\n",
    "gene_res = Parallel(n_jobs=-1)(delayed(dorc_func)(gene, atac_meta_exprs, rna_exprs, atac_archr_vanilla) \n",
    "                               for gene in tqdm(use_genes))"
   ]
  },
  {
   "cell_type": "code",
   "execution_count": 109,
   "metadata": {
    "ExecuteTime": {
     "end_time": "2021-10-07T21:43:36.345154Z",
     "start_time": "2021-10-07T21:43:36.115422Z"
    }
   },
   "outputs": [],
   "source": [
    "gene_res = pd.Series(gene_res, index=use_genes)"
   ]
  },
  {
   "cell_type": "code",
   "execution_count": null,
   "metadata": {},
   "outputs": [],
   "source": []
  },
  {
   "cell_type": "markdown",
   "metadata": {},
   "source": [
    "### Matrices"
   ]
  },
  {
   "cell_type": "code",
   "execution_count": 110,
   "metadata": {
    "ExecuteTime": {
     "end_time": "2021-10-07T21:52:55.031289Z",
     "start_time": "2021-10-07T21:43:37.650418Z"
    }
   },
   "outputs": [
    {
     "data": {
      "application/vnd.jupyter.widget-view+json": {
       "model_id": "b0d8a74eef864da1b7b5f1b8bb5afaa2",
       "version_major": 2,
       "version_minor": 0
      },
      "text/plain": [
       "HBox(children=(FloatProgress(value=0.0, max=12464.0), HTML(value='')))"
      ]
     },
     "metadata": {},
     "output_type": "display_data"
    },
    {
     "name": "stdout",
     "output_type": "stream",
     "text": [
      "\n"
     ]
    }
   ],
   "source": [
    "gene_scores = pd.DataFrame(0.0, index=tanay_ad.obs_names, columns=gene_res.index)\n",
    "\n",
    "for gene in tqdm(gene_scores.columns):\n",
    "    df = gene_res[gene]\n",
    "    if type(df) is int:\n",
    "        continue\n",
    "    gene_peaks = df.index[df['pval'] < pval_cutoff]\n",
    "    gene_scores[gene] = np.ravel(np.dot(tanay_ad[:, gene_peaks].X.todense(), \n",
    "                    df.loc[gene_peaks, 'cor']))"
   ]
  },
  {
   "cell_type": "code",
   "execution_count": 111,
   "metadata": {
    "ExecuteTime": {
     "end_time": "2021-10-07T21:52:55.086412Z",
     "start_time": "2021-10-07T21:52:55.033498Z"
    }
   },
   "outputs": [],
   "source": [
    "gene_scores = gene_scores.loc[:, (gene_scores.sum() >= 0)]"
   ]
  },
  {
   "cell_type": "markdown",
   "metadata": {},
   "source": [
    "### Save"
   ]
  },
  {
   "cell_type": "code",
   "execution_count": 85,
   "metadata": {
    "ExecuteTime": {
     "end_time": "2021-10-11T23:47:39.531780Z",
     "start_time": "2021-10-11T23:47:39.051562Z"
    }
   },
   "outputs": [],
   "source": [
    "# import pickle\n",
    "# with open(out_dir + 'tanay_mc_correlations.p', 'wb') as p:\n",
    "#     pickle.dump(gene_res, p)\n",
    "# with open(out_dir + 'tanay_mc_gene_scores.p', 'wb') as p:\n",
    "#     pickle.dump(gene_scores, p)\n",
    "    \n",
    "tanay_ad.write(out_dir + 'tanay.h5ad')"
   ]
  },
  {
   "cell_type": "code",
   "execution_count": 86,
   "metadata": {
    "ExecuteTime": {
     "end_time": "2021-10-11T23:47:39.544280Z",
     "start_time": "2021-10-11T23:47:39.534834Z"
    }
   },
   "outputs": [
    {
     "data": {
      "text/plain": [
       "AnnData object with n_obs × n_vars = 84 × 269929\n",
       "    obs: 'n_counts', 'celltype', 'palantir_pseudotime'\n",
       "    uns: 'GeneExpressionColumns'\n",
       "    obsm: 'GeneExpression'"
      ]
     },
     "execution_count": 86,
     "metadata": {},
     "output_type": "execute_result"
    }
   ],
   "source": [
    "tanay_ad"
   ]
  },
  {
   "cell_type": "code",
   "execution_count": null,
   "metadata": {},
   "outputs": [],
   "source": []
  },
  {
   "cell_type": "markdown",
   "metadata": {},
   "source": [
    "## Supercells"
   ]
  },
  {
   "cell_type": "code",
   "execution_count": 113,
   "metadata": {
    "ExecuteTime": {
     "end_time": "2021-10-07T22:07:08.379747Z",
     "start_time": "2021-10-07T22:07:08.311319Z"
    }
   },
   "outputs": [],
   "source": [
    "atac_meta_exprs = pd.DataFrame(supercells_ad.X.todense(), \n",
    "                              index=supercells_ad.obs_names, columns=supercells_ad.var_names)\n",
    "\n",
    "rna_exprs = pd.DataFrame(supercells_ad.obsm['GeneExpression'], \n",
    "                         index=supercells_ad.obs_names, columns=supercells_ad.uns['GeneExpressionColumns'])"
   ]
  },
  {
   "cell_type": "code",
   "execution_count": 115,
   "metadata": {
    "ExecuteTime": {
     "end_time": "2021-10-07T22:07:28.859234Z",
     "start_time": "2021-10-07T22:07:22.381586Z"
    }
   },
   "outputs": [],
   "source": [
    "span = 100000\n",
    "peaks_pr = pyranges_from_strings(atac_meta_exprs.columns)"
   ]
  },
  {
   "cell_type": "code",
   "execution_count": 116,
   "metadata": {
    "ExecuteTime": {
     "end_time": "2021-10-08T02:04:41.607850Z",
     "start_time": "2021-10-07T22:07:28.861920Z"
    },
    "scrolled": false
   },
   "outputs": [
    {
     "data": {
      "application/vnd.jupyter.widget-view+json": {
       "model_id": "070d143b83ea4fd5a5d06a96f81d4cc7",
       "version_major": 2,
       "version_minor": 0
      },
      "text/plain": [
       "HBox(children=(FloatProgress(value=0.0, max=12464.0), HTML(value='')))"
      ]
     },
     "metadata": {},
     "output_type": "display_data"
    },
    {
     "name": "stdout",
     "output_type": "stream",
     "text": [
      "\n"
     ]
    }
   ],
   "source": [
    "from joblib import Parallel, delayed\n",
    "use_genes = rna_ad.var_names\n",
    "\n",
    "gene_res = Parallel(n_jobs=-1)(delayed(dorc_func)(gene, atac_meta_exprs, rna_exprs, atac_archr_vanilla) \n",
    "                               for gene in tqdm(use_genes))"
   ]
  },
  {
   "cell_type": "code",
   "execution_count": 132,
   "metadata": {
    "ExecuteTime": {
     "end_time": "2021-10-08T05:27:16.350730Z",
     "start_time": "2021-10-08T05:27:16.094648Z"
    }
   },
   "outputs": [],
   "source": [
    "gene_res = pd.Series(gene_res, index=use_genes)"
   ]
  },
  {
   "cell_type": "code",
   "execution_count": null,
   "metadata": {},
   "outputs": [],
   "source": []
  },
  {
   "cell_type": "markdown",
   "metadata": {},
   "source": [
    "### Matrices"
   ]
  },
  {
   "cell_type": "code",
   "execution_count": 133,
   "metadata": {
    "ExecuteTime": {
     "end_time": "2021-10-08T05:35:08.276735Z",
     "start_time": "2021-10-08T05:27:18.430269Z"
    }
   },
   "outputs": [
    {
     "data": {
      "application/vnd.jupyter.widget-view+json": {
       "model_id": "189d534a6540435c802936a97fe00b75",
       "version_major": 2,
       "version_minor": 0
      },
      "text/plain": [
       "HBox(children=(FloatProgress(value=0.0, max=12464.0), HTML(value='')))"
      ]
     },
     "metadata": {},
     "output_type": "display_data"
    },
    {
     "name": "stdout",
     "output_type": "stream",
     "text": [
      "\n"
     ]
    }
   ],
   "source": [
    "gene_scores = pd.DataFrame(0.0, index=supercells_ad.obs_names, columns=gene_res.index)\n",
    "\n",
    "for gene in tqdm(gene_scores.columns):\n",
    "    df = gene_res[gene]\n",
    "    if type(df) is int:\n",
    "        continue\n",
    "    gene_peaks = df.index[df['pval'] < pval_cutoff]\n",
    "    gene_scores[gene] = np.ravel(np.dot(supercells_ad[:, gene_peaks].X.todense(), \n",
    "                    df.loc[gene_peaks, 'cor']))"
   ]
  },
  {
   "cell_type": "code",
   "execution_count": 134,
   "metadata": {
    "ExecuteTime": {
     "end_time": "2021-10-08T05:35:08.331336Z",
     "start_time": "2021-10-08T05:35:08.279157Z"
    }
   },
   "outputs": [],
   "source": [
    "gene_scores = gene_scores.loc[:, (gene_scores.sum() >= 0)]"
   ]
  },
  {
   "cell_type": "markdown",
   "metadata": {},
   "source": [
    "### Save"
   ]
  },
  {
   "cell_type": "code",
   "execution_count": null,
   "metadata": {
    "ExecuteTime": {
     "end_time": "2021-10-08T05:35:11.145509Z",
     "start_time": "2021-10-08T05:35:08.333330Z"
    }
   },
   "outputs": [],
   "source": [
    "import pickle\n",
    "with open(out_dir + 'supercell_correlations.p', 'wb') as p:\n",
    "    pickle.dump(gene_res, p)\n",
    "with open(out_dir + 'supercell_gene_scores.p', 'wb') as p:\n",
    "    pickle.dump(gene_scores, p)"
   ]
  },
  {
   "cell_type": "code",
   "execution_count": 87,
   "metadata": {
    "ExecuteTime": {
     "end_time": "2021-10-11T23:47:44.526502Z",
     "start_time": "2021-10-11T23:47:44.083490Z"
    }
   },
   "outputs": [],
   "source": [
    "supercells_ad.write(out_dir + 'supercells.h5ad')"
   ]
  },
  {
   "cell_type": "code",
   "execution_count": 88,
   "metadata": {
    "ExecuteTime": {
     "end_time": "2021-10-11T23:47:46.980691Z",
     "start_time": "2021-10-11T23:47:46.976695Z"
    }
   },
   "outputs": [
    {
     "data": {
      "text/plain": [
       "AnnData object with n_obs × n_vars = 84 × 269929\n",
       "    obs: 'n_counts', 'celltype', 'palantir_pseudotime'\n",
       "    uns: 'GeneExpressionColumns'\n",
       "    obsm: 'GeneExpression'"
      ]
     },
     "execution_count": 88,
     "metadata": {},
     "output_type": "execute_result"
    }
   ],
   "source": [
    "supercells_ad"
   ]
  },
  {
   "cell_type": "code",
   "execution_count": null,
   "metadata": {},
   "outputs": [],
   "source": []
  },
  {
   "cell_type": "code",
   "execution_count": null,
   "metadata": {},
   "outputs": [],
   "source": []
  },
  {
   "cell_type": "markdown",
   "metadata": {},
   "source": [
    "# Comparisons"
   ]
  },
  {
   "cell_type": "code",
   "execution_count": 48,
   "metadata": {
    "ExecuteTime": {
     "end_time": "2021-08-12T01:24:13.568098Z",
     "start_time": "2021-08-12T01:24:13.564962Z"
    }
   },
   "outputs": [],
   "source": [
    "from scipy.stats import pearsonr, spearmanr"
   ]
  },
  {
   "cell_type": "markdown",
   "metadata": {},
   "source": [
    "## Metacell cors"
   ]
  },
  {
   "cell_type": "code",
   "execution_count": 49,
   "metadata": {
    "ExecuteTime": {
     "end_time": "2021-08-12T01:24:13.624960Z",
     "start_time": "2021-08-12T01:24:13.569984Z"
    }
   },
   "outputs": [],
   "source": [
    "rna_exprs = pd.DataFrame(rna_meta_ad.X.todense(), \n",
    "                         index=rna_meta_ad.obs_names, columns=rna_meta_ad.var_names)"
   ]
  },
  {
   "cell_type": "code",
   "execution_count": 50,
   "metadata": {
    "ExecuteTime": {
     "end_time": "2021-08-12T01:24:25.526448Z",
     "start_time": "2021-08-12T01:24:13.627475Z"
    }
   },
   "outputs": [
    {
     "data": {
      "application/vnd.jupyter.widget-view+json": {
       "model_id": "3736bb3caf984d5e9231a85986794bbf",
       "version_major": 2,
       "version_minor": 0
      },
      "text/plain": [
       "HBox(children=(FloatProgress(value=0.0, max=12464.0), HTML(value='')))"
      ]
     },
     "metadata": {},
     "output_type": "display_data"
    },
    {
     "name": "stderr",
     "output_type": "stream",
     "text": [
      "/home/ec2-user/anaconda3/envs/python3/lib/python3.6/site-packages/scipy/stats/stats.py:4196: SpearmanRConstantInputWarning: An input array is constant; the correlation coefficent is not defined.\n",
      "  warnings.warn(SpearmanRConstantInputWarning())\n"
     ]
    },
    {
     "name": "stdout",
     "output_type": "stream",
     "text": [
      "\n"
     ]
    }
   ],
   "source": [
    "# Correlations\n",
    "meta_cors = pd.Series(0.0, index=meta_gene_scores.columns)\n",
    "for gene in tqdm(meta_cors.index):\n",
    "    meta_cors[gene] = spearmanr(rna_exprs[gene], meta_gene_scores[gene])[0]"
   ]
  },
  {
   "cell_type": "markdown",
   "metadata": {},
   "source": [
    "## Single cell cors"
   ]
  },
  {
   "cell_type": "code",
   "execution_count": 51,
   "metadata": {
    "ExecuteTime": {
     "end_time": "2021-08-12T01:25:35.711456Z",
     "start_time": "2021-08-12T01:25:11.115867Z"
    }
   },
   "outputs": [
    {
     "data": {
      "application/vnd.jupyter.widget-view+json": {
       "model_id": "d19342aab84b44fabd127b10d05cfed4",
       "version_major": 2,
       "version_minor": 0
      },
      "text/plain": [
       "HBox(children=(FloatProgress(value=0.0, max=12464.0), HTML(value='')))"
      ]
     },
     "metadata": {},
     "output_type": "display_data"
    },
    {
     "name": "stderr",
     "output_type": "stream",
     "text": [
      "/home/ec2-user/anaconda3/envs/python3/lib/python3.6/site-packages/scipy/stats/stats.py:4196: SpearmanRConstantInputWarning: An input array is constant; the correlation coefficent is not defined.\n",
      "  warnings.warn(SpearmanRConstantInputWarning())\n"
     ]
    },
    {
     "name": "stdout",
     "output_type": "stream",
     "text": [
      "\n"
     ]
    }
   ],
   "source": [
    "rna_exprs = pd.DataFrame(rna_ad.X.todense(), \n",
    "                         index=rna_ad.obs_names, columns=rna_ad.var_names)\n",
    "# Correlations\n",
    "sc_cors = pd.Series(0.0, index=sc_gene_scores.columns)\n",
    "for gene in tqdm(sc_cors.index):\n",
    "    sc_cors[gene] = spearmanr(rna_exprs[gene], sc_gene_scores[gene])[0]"
   ]
  },
  {
   "cell_type": "markdown",
   "metadata": {},
   "source": [
    "## Comparison"
   ]
  },
  {
   "cell_type": "code",
   "execution_count": 52,
   "metadata": {
    "ExecuteTime": {
     "end_time": "2021-08-12T01:25:35.926070Z",
     "start_time": "2021-08-12T01:25:35.713671Z"
    }
   },
   "outputs": [
    {
     "data": {
      "text/plain": [
       "[<matplotlib.lines.Line2D at 0x7f8352035be0>]"
      ]
     },
     "execution_count": 52,
     "metadata": {},
     "output_type": "execute_result"
    },
    {
     "data": {
      "image/png": "[encoded data removed]",
      "text/plain": [
       "<Figure size 400x400 with 1 Axes>"
      ]
     },
     "metadata": {},
     "output_type": "display_data"
    }
   ],
   "source": [
    "plt.scatter(sc_cors, meta_cors, s=1)\n",
    "sns.despine()\n",
    "plt.xlabel('Single-cell correlation')\n",
    "plt.ylabel('Meta-cell correlation')\n",
    "lim = [-0.1, 0.8]\n",
    "plt.xlim(lim)\n",
    "plt.ylim(lim)\n",
    "plt.plot(lim, lim, color='black', linestyle='--')"
   ]
  },
  {
   "cell_type": "code",
   "execution_count": null,
   "metadata": {},
   "outputs": [],
   "source": []
  },
  {
   "cell_type": "code",
   "execution_count": 42,
   "metadata": {
    "ExecuteTime": {
     "end_time": "2021-05-07T05:41:06.798650Z",
     "start_time": "2021-05-07T05:41:06.794241Z"
    }
   },
   "outputs": [],
   "source": [
    "from scipy.stats import gaussian_kde\n",
    "\n",
    "\n",
    "def density_2d(x, y):\n",
    "    \"\"\"return x and y and their density z, sorted by their density (smallest to largest)\n",
    "    :param x:\n",
    "    :param y:\n",
    "    :return:\n",
    "    \"\"\"\n",
    "    xy = np.vstack([np.ravel(x), np.ravel(y)])\n",
    "    z = gaussian_kde(xy)(xy)\n",
    "    i = np.argsort(z)\n",
    "    return np.ravel(x)[i], np.ravel(y)[i], z[i]\n"
   ]
  },
  {
   "cell_type": "code",
   "execution_count": null,
   "metadata": {},
   "outputs": [],
   "source": []
  },
  {
   "cell_type": "code",
   "execution_count": null,
   "metadata": {},
   "outputs": [],
   "source": []
  },
  {
   "cell_type": "code",
   "execution_count": 43,
   "metadata": {
    "ExecuteTime": {
     "end_time": "2021-05-07T05:41:13.023688Z",
     "start_time": "2021-05-07T05:41:09.250042Z"
    }
   },
   "outputs": [
    {
     "data": {
      "text/plain": [
       "<matplotlib.colorbar.Colorbar at 0x7f9929b04320>"
      ]
     },
     "execution_count": 43,
     "metadata": {},
     "output_type": "execute_result"
    },
    {
     "data": {
      "image/png": "[encoded data removed]",
      "text/plain": [
       "<Figure size 400x400 with 2 Axes>"
      ]
     },
     "metadata": {},
     "output_type": "display_data"
    }
   ],
   "source": [
    "x = sc_cors\n",
    "y = meta_cors\n",
    "inds = (~sc_cors.isna()) & (~meta_cors.isna())\n",
    "x = x[inds]\n",
    "y = y[inds]\n",
    "\n",
    "x, y, z = density_2d(x, y)\n",
    "\n",
    "plt.scatter(x, y, s=1, c=z)\n",
    "sns.despine()\n",
    "plt.xlabel('Single-cell correlation')\n",
    "plt.ylabel('Meta-cell correlation')\n",
    "lim = [-0.1, 0.9]\n",
    "plt.xlim(lim)\n",
    "plt.ylim(lim)\n",
    "plt.plot(lim, lim, color='black', linestyle='--')\n",
    "plt.colorbar()"
   ]
  },
  {
   "cell_type": "code",
   "execution_count": null,
   "metadata": {},
   "outputs": [],
   "source": []
  },
  {
   "cell_type": "markdown",
   "metadata": {},
   "source": [
    "## Structure from gene scores"
   ]
  },
  {
   "cell_type": "code",
   "execution_count": 53,
   "metadata": {
    "ExecuteTime": {
     "end_time": "2021-08-12T01:25:38.268786Z",
     "start_time": "2021-08-12T01:25:38.258217Z"
    }
   },
   "outputs": [],
   "source": [
    "meta_gs_ad = sc.AnnData(meta_gene_scores)\n",
    "meta_gs_ad.var['highly_variable'] = rna_ad.var['highly_variable']\n",
    "meta_gs_ad.obs['celltype'] = rna_ad.obs['celltype'][meta_gs_ad.obs_names]"
   ]
  },
  {
   "cell_type": "code",
   "execution_count": 54,
   "metadata": {
    "ExecuteTime": {
     "end_time": "2021-08-12T01:25:47.027303Z",
     "start_time": "2021-08-12T01:25:39.266593Z"
    }
   },
   "outputs": [],
   "source": [
    "sc.pp.pca(meta_gs_ad, n_comps=25, use_highly_variable=True)\n",
    "sc.pp.neighbors(meta_gs_ad)\n",
    "sc.tl.umap(meta_gs_ad)"
   ]
  },
  {
   "cell_type": "code",
   "execution_count": 55,
   "metadata": {
    "ExecuteTime": {
     "end_time": "2021-08-12T01:25:47.210201Z",
     "start_time": "2021-08-12T01:25:47.029658Z"
    }
   },
   "outputs": [
    {
     "data": {
      "image/png": "[encoded data removed]",
      "text/plain": [
       "<Figure size 492x400 with 1 Axes>"
      ]
     },
     "metadata": {},
     "output_type": "display_data"
    }
   ],
   "source": [
    "sc.pl.scatter(meta_gs_ad, basis='umap', color='celltype', frameon=False)"
   ]
  },
  {
   "cell_type": "code",
   "execution_count": null,
   "metadata": {},
   "outputs": [],
   "source": []
  },
  {
   "cell_type": "code",
   "execution_count": 56,
   "metadata": {
    "ExecuteTime": {
     "end_time": "2021-08-12T01:25:48.726484Z",
     "start_time": "2021-08-12T01:25:47.211898Z"
    }
   },
   "outputs": [],
   "source": [
    "sc_gs_ad = sc.AnnData(sc_gene_scores)\n",
    "sc_gs_ad.X = csr_matrix(sc_gs_ad.X)\n",
    "sc_gs_ad.var['highly_variable'] = rna_ad.var['highly_variable']\n",
    "sc_gs_ad.obs['celltype'] = rna_ad.obs['celltype'][sc_gs_ad.obs_names]"
   ]
  },
  {
   "cell_type": "code",
   "execution_count": 57,
   "metadata": {
    "ExecuteTime": {
     "end_time": "2021-08-12T01:26:12.872933Z",
     "start_time": "2021-08-12T01:25:48.728374Z"
    }
   },
   "outputs": [],
   "source": [
    "sc.pp.pca(sc_gs_ad, n_comps=50, use_highly_variable=True)\n",
    "sc.pp.neighbors(sc_gs_ad)\n",
    "sc.tl.umap(sc_gs_ad)"
   ]
  },
  {
   "cell_type": "code",
   "execution_count": 58,
   "metadata": {
    "ExecuteTime": {
     "end_time": "2021-08-12T01:26:13.090522Z",
     "start_time": "2021-08-12T01:26:12.875594Z"
    }
   },
   "outputs": [
    {
     "data": {
      "image/png": "[encoded data removed]",
      "text/plain": [
       "<Figure size 492x400 with 1 Axes>"
      ]
     },
     "metadata": {},
     "output_type": "display_data"
    }
   ],
   "source": [
    "sc.pl.scatter(sc_gs_ad, basis='umap', color='celltype', frameon=False)"
   ]
  },
  {
   "cell_type": "markdown",
   "metadata": {},
   "source": [
    "### Save"
   ]
  },
  {
   "cell_type": "code",
   "execution_count": 60,
   "metadata": {
    "ExecuteTime": {
     "end_time": "2021-08-12T01:26:36.854806Z",
     "start_time": "2021-08-12T01:26:36.850359Z"
    }
   },
   "outputs": [
    {
     "data": {
      "text/plain": [
       "'/home/ec2-user/projects/metacells/data/CD34/Multiome/outs/'"
      ]
     },
     "execution_count": 60,
     "metadata": {},
     "output_type": "execute_result"
    }
   ],
   "source": [
    "out_dir"
   ]
  },
  {
   "cell_type": "code",
   "execution_count": 61,
   "metadata": {
    "ExecuteTime": {
     "end_time": "2021-08-12T01:26:37.307342Z",
     "start_time": "2021-08-12T01:26:37.002381Z"
    }
   },
   "outputs": [],
   "source": [
    "sc_gs_ad.write(out_dir + 'cd34_sc_gs.h5ad')\n",
    "meta_gs_ad.write(out_dir + 'cd34_meta_gs.h5ad')"
   ]
  },
  {
   "cell_type": "code",
   "execution_count": null,
   "metadata": {},
   "outputs": [],
   "source": []
  },
  {
   "cell_type": "markdown",
   "metadata": {
    "heading_collapsed": true
   },
   "source": [
    "##  Diffusion map comparison - Deprecate"
   ]
  },
  {
   "cell_type": "markdown",
   "metadata": {
    "hidden": true
   },
   "source": [
    "### Metacells"
   ]
  },
  {
   "cell_type": "code",
   "execution_count": 58,
   "metadata": {
    "ExecuteTime": {
     "end_time": "2021-05-10T17:23:48.427652Z",
     "start_time": "2021-05-10T17:23:48.064905Z"
    },
    "deletable": false,
    "editable": false,
    "hidden": true,
    "run_control": {
     "frozen": true
    }
   },
   "outputs": [
    {
     "name": "stdout",
     "output_type": "stream",
     "text": [
      "Determing nearest neighbor graph...\n"
     ]
    }
   ],
   "source": [
    "sc.pp.pca(rna_meta_ad)\n",
    "dm_res = palantir.utils.run_diffusion_maps(pd.DataFrame(rna_meta_ad.obsm['X_pca'], \n",
    "                                                       index=rna_meta_ad.obs_names), knn=10)\n",
    "rna_meta_dm_res = dm_res\n",
    "rna_meta_ms_data = palantir.utils.determine_multiscale_space(rna_meta_dm_res, n_eigs=10)\n"
   ]
  },
  {
   "cell_type": "code",
   "execution_count": 60,
   "metadata": {
    "ExecuteTime": {
     "end_time": "2021-05-10T17:24:48.109082Z",
     "start_time": "2021-05-10T17:24:47.956841Z"
    },
    "deletable": false,
    "editable": false,
    "hidden": true,
    "run_control": {
     "frozen": true
    }
   },
   "outputs": [
    {
     "name": "stdout",
     "output_type": "stream",
     "text": [
      "Determing nearest neighbor graph...\n"
     ]
    }
   ],
   "source": [
    "meta_gs_ad.var['highly_variable'] = False\n",
    "meta_gs_ad.var['highly_variable'][rna_ad.var_names] = rna_ad.var['highly_variable'].values\n",
    "\n",
    "sc.pp.pca(meta_gs_ad)\n",
    "dm_res = palantir.utils.run_diffusion_maps(pd.DataFrame(meta_gs_ad.obsm['X_pca'], \n",
    "                                                       index=meta_gs_ad.obs_names), knn=10)\n",
    "meta_gs_dm_res = dm_res\n",
    "meta_gs_ms_data = palantir.utils.determine_multiscale_space(meta_gs_dm_res, n_eigs=10)\n"
   ]
  },
  {
   "cell_type": "markdown",
   "metadata": {
    "hidden": true
   },
   "source": [
    "### Single cells"
   ]
  },
  {
   "cell_type": "code",
   "execution_count": 73,
   "metadata": {
    "ExecuteTime": {
     "end_time": "2021-05-10T17:29:43.168283Z",
     "start_time": "2021-05-10T17:29:43.050996Z"
    },
    "deletable": false,
    "editable": false,
    "hidden": true,
    "run_control": {
     "frozen": true
    }
   },
   "outputs": [],
   "source": [
    "dm_res = palantir.utils.run_diffusion_maps(rna_ad.obsp['DM_Kernel'])\n",
    "rna_sc_ms_data = palantir.utils.determine_multiscale_space(dm_res, n_eigs=10)\n",
    "rna_sc_ms_data.index = rna_ad.obs_names"
   ]
  },
  {
   "cell_type": "code",
   "execution_count": 74,
   "metadata": {
    "ExecuteTime": {
     "end_time": "2021-05-10T17:30:08.780845Z",
     "start_time": "2021-05-10T17:30:04.846812Z"
    },
    "deletable": false,
    "editable": false,
    "hidden": true,
    "run_control": {
     "frozen": true
    }
   },
   "outputs": [
    {
     "name": "stdout",
     "output_type": "stream",
     "text": [
      "Determing nearest neighbor graph...\n"
     ]
    }
   ],
   "source": [
    "sc_gs_ad.var['highly_variable'] = False\n",
    "sc_gs_ad.var['highly_variable'][rna_ad.var_names] = rna_ad.var['highly_variable'].values\n",
    "\n",
    "sc.pp.pca(sc_gs_ad)\n",
    "dm_res = palantir.utils.run_diffusion_maps(pd.DataFrame(sc_gs_ad.obsm['X_pca'], \n",
    "                                                       index=sc_gs_ad.obs_names), knn=10)\n",
    "sc_gs_dm_res = dm_res\n",
    "sc_gs_ms_data = palantir.utils.determine_multiscale_space(sc_gs_dm_res, n_eigs=10)\n"
   ]
  },
  {
   "cell_type": "markdown",
   "metadata": {
    "hidden": true
   },
   "source": [
    "### Comaprisons"
   ]
  },
  {
   "cell_type": "code",
   "execution_count": 125,
   "metadata": {
    "ExecuteTime": {
     "end_time": "2021-05-10T20:40:46.255350Z",
     "start_time": "2021-05-10T20:40:45.726141Z"
    },
    "deletable": false,
    "editable": false,
    "hidden": true,
    "run_control": {
     "frozen": true
    }
   },
   "outputs": [
    {
     "data": {
      "text/plain": [
       "<matplotlib.collections.PathCollection at 0x7f9835711588>"
      ]
     },
     "execution_count": 125,
     "metadata": {},
     "output_type": "execute_result"
    },
    {
     "data": {
      "image/png": "[encoded data removed]",
      "text/plain": [
       "<Figure size 600x300 with 2 Axes>"
      ]
     },
     "metadata": {},
     "output_type": "display_data"
    }
   ],
   "source": [
    "eig = 4\n",
    "\n",
    "fig = palantir.plot.FigureGrid(2, 2)\n",
    "\n",
    "ax = fig[0]\n",
    "ax.scatter(rna_meta_ms_data[eig], meta_gs_ms_data[eig], \n",
    "           s=20, color=ct_colors[rna_ad.obs['celltype'][rna_meta_ms_data.index]])\n",
    "\n",
    "ax = fig[1]\n",
    "ax.scatter(rna_sc_ms_data[eig], sc_gs_ms_data[eig], \n",
    "           s=1, color=ct_colors[rna_ad.obs['celltype'][rna_sc_ms_data.index]])\n"
   ]
  },
  {
   "cell_type": "code",
   "execution_count": 99,
   "metadata": {
    "ExecuteTime": {
     "end_time": "2021-05-10T17:34:35.196604Z",
     "start_time": "2021-05-10T17:34:34.888566Z"
    },
    "deletable": false,
    "editable": false,
    "hidden": true,
    "run_control": {
     "frozen": true
    }
   },
   "outputs": [
    {
     "data": {
      "text/html": [
       "<div>\n",
       "<style scoped>\n",
       "    .dataframe tbody tr th:only-of-type {\n",
       "        vertical-align: middle;\n",
       "    }\n",
       "\n",
       "    .dataframe tbody tr th {\n",
       "        vertical-align: top;\n",
       "    }\n",
       "\n",
       "    .dataframe thead th {\n",
       "        text-align: right;\n",
       "    }\n",
       "</style>\n",
       "<table border=\"1\" class=\"dataframe\">\n",
       "  <thead>\n",
       "    <tr style=\"text-align: right;\">\n",
       "      <th></th>\n",
       "      <th>0</th>\n",
       "      <th>1</th>\n",
       "      <th>2</th>\n",
       "      <th>3</th>\n",
       "      <th>4</th>\n",
       "      <th>5</th>\n",
       "      <th>6</th>\n",
       "      <th>7</th>\n",
       "      <th>8</th>\n",
       "    </tr>\n",
       "  </thead>\n",
       "  <tbody>\n",
       "    <tr>\n",
       "      <th>0</th>\n",
       "      <td>-0.995247</td>\n",
       "      <td>0.004178</td>\n",
       "      <td>0.022472</td>\n",
       "      <td>0.026935</td>\n",
       "      <td>0.017783</td>\n",
       "      <td>0.009299</td>\n",
       "      <td>-0.000742</td>\n",
       "      <td>-0.026251</td>\n",
       "      <td>0.007772</td>\n",
       "    </tr>\n",
       "    <tr>\n",
       "      <th>1</th>\n",
       "      <td>-0.004441</td>\n",
       "      <td>-0.962776</td>\n",
       "      <td>-0.004814</td>\n",
       "      <td>0.152202</td>\n",
       "      <td>0.034820</td>\n",
       "      <td>-0.028014</td>\n",
       "      <td>0.095236</td>\n",
       "      <td>-0.066747</td>\n",
       "      <td>-0.065716</td>\n",
       "    </tr>\n",
       "    <tr>\n",
       "      <th>2</th>\n",
       "      <td>0.012824</td>\n",
       "      <td>0.028458</td>\n",
       "      <td>0.924635</td>\n",
       "      <td>0.316804</td>\n",
       "      <td>-0.124392</td>\n",
       "      <td>-0.017053</td>\n",
       "      <td>-0.114308</td>\n",
       "      <td>-0.005083</td>\n",
       "      <td>-0.013041</td>\n",
       "    </tr>\n",
       "    <tr>\n",
       "      <th>3</th>\n",
       "      <td>-0.046331</td>\n",
       "      <td>-0.178791</td>\n",
       "      <td>0.317861</td>\n",
       "      <td>-0.846592</td>\n",
       "      <td>0.332396</td>\n",
       "      <td>0.084380</td>\n",
       "      <td>-0.112515</td>\n",
       "      <td>0.038046</td>\n",
       "      <td>0.042095</td>\n",
       "    </tr>\n",
       "    <tr>\n",
       "      <th>4</th>\n",
       "      <td>0.022708</td>\n",
       "      <td>0.114661</td>\n",
       "      <td>0.120383</td>\n",
       "      <td>-0.078531</td>\n",
       "      <td>0.230074</td>\n",
       "      <td>-0.647769</td>\n",
       "      <td>0.641504</td>\n",
       "      <td>-0.150913</td>\n",
       "      <td>0.024312</td>\n",
       "    </tr>\n",
       "    <tr>\n",
       "      <th>5</th>\n",
       "      <td>0.029076</td>\n",
       "      <td>0.040317</td>\n",
       "      <td>0.099567</td>\n",
       "      <td>0.084893</td>\n",
       "      <td>0.262868</td>\n",
       "      <td>0.710374</td>\n",
       "      <td>0.558509</td>\n",
       "      <td>0.030445</td>\n",
       "      <td>-0.141222</td>\n",
       "    </tr>\n",
       "    <tr>\n",
       "      <th>6</th>\n",
       "      <td>-0.001152</td>\n",
       "      <td>0.040892</td>\n",
       "      <td>-0.040261</td>\n",
       "      <td>0.309398</td>\n",
       "      <td>0.862207</td>\n",
       "      <td>-0.077343</td>\n",
       "      <td>-0.332432</td>\n",
       "      <td>0.049493</td>\n",
       "      <td>0.021553</td>\n",
       "    </tr>\n",
       "    <tr>\n",
       "      <th>7</th>\n",
       "      <td>0.013400</td>\n",
       "      <td>0.027294</td>\n",
       "      <td>0.049298</td>\n",
       "      <td>-0.001397</td>\n",
       "      <td>-0.043699</td>\n",
       "      <td>-0.011503</td>\n",
       "      <td>0.146029</td>\n",
       "      <td>0.558116</td>\n",
       "      <td>0.514776</td>\n",
       "    </tr>\n",
       "    <tr>\n",
       "      <th>8</th>\n",
       "      <td>0.047392</td>\n",
       "      <td>-0.023076</td>\n",
       "      <td>0.017680</td>\n",
       "      <td>-0.052011</td>\n",
       "      <td>-0.015297</td>\n",
       "      <td>-0.134308</td>\n",
       "      <td>0.004869</td>\n",
       "      <td>0.632403</td>\n",
       "      <td>-0.563120</td>\n",
       "    </tr>\n",
       "  </tbody>\n",
       "</table>\n",
       "</div>"
      ],
      "text/plain": [
       "          0         1         2         3         4         5         6  \\\n",
       "0 -0.995247  0.004178  0.022472  0.026935  0.017783  0.009299 -0.000742   \n",
       "1 -0.004441 -0.962776 -0.004814  0.152202  0.034820 -0.028014  0.095236   \n",
       "2  0.012824  0.028458  0.924635  0.316804 -0.124392 -0.017053 -0.114308   \n",
       "3 -0.046331 -0.178791  0.317861 -0.846592  0.332396  0.084380 -0.112515   \n",
       "4  0.022708  0.114661  0.120383 -0.078531  0.230074 -0.647769  0.641504   \n",
       "5  0.029076  0.040317  0.099567  0.084893  0.262868  0.710374  0.558509   \n",
       "6 -0.001152  0.040892 -0.040261  0.309398  0.862207 -0.077343 -0.332432   \n",
       "7  0.013400  0.027294  0.049298 -0.001397 -0.043699 -0.011503  0.146029   \n",
       "8  0.047392 -0.023076  0.017680 -0.052011 -0.015297 -0.134308  0.004869   \n",
       "\n",
       "          7         8  \n",
       "0 -0.026251  0.007772  \n",
       "1 -0.066747 -0.065716  \n",
       "2 -0.005083 -0.013041  \n",
       "3  0.038046  0.042095  \n",
       "4 -0.150913  0.024312  \n",
       "5  0.030445 -0.141222  \n",
       "6  0.049493  0.021553  \n",
       "7  0.558116  0.514776  \n",
       "8  0.632403 -0.563120  "
      ]
     },
     "execution_count": 99,
     "metadata": {},
     "output_type": "execute_result"
    },
    {
     "data": {
      "image/png": "[encoded data removed]",
      "text/plain": [
       "<Figure size 400x400 with 2 Axes>"
      ]
     },
     "metadata": {},
     "output_type": "display_data"
    }
   ],
   "source": [
    "cors = 1 - pairwise_distances(rna_meta_ms_data.values.T, \n",
    "                   meta_gs_ms_data.values.T, metric='correlation')\n",
    "sns.heatmap(np.abs(cors), \n",
    "           cmap=matplotlib.cm.Blues)\n",
    "pd.DataFrame(cors)"
   ]
  },
  {
   "cell_type": "code",
   "execution_count": 100,
   "metadata": {
    "ExecuteTime": {
     "end_time": "2021-05-10T17:34:44.973890Z",
     "start_time": "2021-05-10T17:34:44.668272Z"
    },
    "deletable": false,
    "editable": false,
    "hidden": true,
    "run_control": {
     "frozen": true
    }
   },
   "outputs": [
    {
     "data": {
      "text/html": [
       "<div>\n",
       "<style scoped>\n",
       "    .dataframe tbody tr th:only-of-type {\n",
       "        vertical-align: middle;\n",
       "    }\n",
       "\n",
       "    .dataframe tbody tr th {\n",
       "        vertical-align: top;\n",
       "    }\n",
       "\n",
       "    .dataframe thead th {\n",
       "        text-align: right;\n",
       "    }\n",
       "</style>\n",
       "<table border=\"1\" class=\"dataframe\">\n",
       "  <thead>\n",
       "    <tr style=\"text-align: right;\">\n",
       "      <th></th>\n",
       "      <th>0</th>\n",
       "      <th>1</th>\n",
       "      <th>2</th>\n",
       "      <th>3</th>\n",
       "      <th>4</th>\n",
       "      <th>5</th>\n",
       "      <th>6</th>\n",
       "      <th>7</th>\n",
       "      <th>8</th>\n",
       "    </tr>\n",
       "  </thead>\n",
       "  <tbody>\n",
       "    <tr>\n",
       "      <th>0</th>\n",
       "      <td>0.930354</td>\n",
       "      <td>0.172469</td>\n",
       "      <td>0.065248</td>\n",
       "      <td>-0.073626</td>\n",
       "      <td>-0.019328</td>\n",
       "      <td>0.076089</td>\n",
       "      <td>-0.046467</td>\n",
       "      <td>-0.035060</td>\n",
       "      <td>-0.005011</td>\n",
       "    </tr>\n",
       "    <tr>\n",
       "      <th>1</th>\n",
       "      <td>0.115413</td>\n",
       "      <td>-0.768371</td>\n",
       "      <td>0.011932</td>\n",
       "      <td>-0.399182</td>\n",
       "      <td>0.083961</td>\n",
       "      <td>-0.082154</td>\n",
       "      <td>-0.092324</td>\n",
       "      <td>-0.102756</td>\n",
       "      <td>0.012037</td>\n",
       "    </tr>\n",
       "    <tr>\n",
       "      <th>2</th>\n",
       "      <td>0.162974</td>\n",
       "      <td>-0.368789</td>\n",
       "      <td>-0.199438</td>\n",
       "      <td>0.623791</td>\n",
       "      <td>0.054076</td>\n",
       "      <td>-0.030764</td>\n",
       "      <td>-0.026575</td>\n",
       "      <td>0.337266</td>\n",
       "      <td>-0.130248</td>\n",
       "    </tr>\n",
       "    <tr>\n",
       "      <th>3</th>\n",
       "      <td>0.009375</td>\n",
       "      <td>0.170552</td>\n",
       "      <td>-0.812911</td>\n",
       "      <td>-0.203984</td>\n",
       "      <td>0.119618</td>\n",
       "      <td>0.012265</td>\n",
       "      <td>-0.059244</td>\n",
       "      <td>0.035446</td>\n",
       "      <td>-0.025543</td>\n",
       "    </tr>\n",
       "    <tr>\n",
       "      <th>4</th>\n",
       "      <td>0.001121</td>\n",
       "      <td>0.067189</td>\n",
       "      <td>0.115458</td>\n",
       "      <td>-0.188257</td>\n",
       "      <td>-0.472508</td>\n",
       "      <td>-0.279328</td>\n",
       "      <td>-0.069655</td>\n",
       "      <td>0.295247</td>\n",
       "      <td>-0.123511</td>\n",
       "    </tr>\n",
       "    <tr>\n",
       "      <th>5</th>\n",
       "      <td>0.035638</td>\n",
       "      <td>-0.027109</td>\n",
       "      <td>-0.033166</td>\n",
       "      <td>-0.099844</td>\n",
       "      <td>-0.081310</td>\n",
       "      <td>-0.150698</td>\n",
       "      <td>0.144473</td>\n",
       "      <td>0.118392</td>\n",
       "      <td>-0.223863</td>\n",
       "    </tr>\n",
       "    <tr>\n",
       "      <th>6</th>\n",
       "      <td>-0.007002</td>\n",
       "      <td>-0.031425</td>\n",
       "      <td>-0.113499</td>\n",
       "      <td>0.132710</td>\n",
       "      <td>-0.322746</td>\n",
       "      <td>-0.207030</td>\n",
       "      <td>-0.093694</td>\n",
       "      <td>-0.120103</td>\n",
       "      <td>0.171325</td>\n",
       "    </tr>\n",
       "    <tr>\n",
       "      <th>7</th>\n",
       "      <td>0.024885</td>\n",
       "      <td>-0.117888</td>\n",
       "      <td>0.107740</td>\n",
       "      <td>0.099059</td>\n",
       "      <td>-0.091471</td>\n",
       "      <td>-0.042720</td>\n",
       "      <td>-0.010444</td>\n",
       "      <td>-0.061696</td>\n",
       "      <td>0.085421</td>\n",
       "    </tr>\n",
       "    <tr>\n",
       "      <th>8</th>\n",
       "      <td>0.012757</td>\n",
       "      <td>0.024810</td>\n",
       "      <td>0.056919</td>\n",
       "      <td>-0.052344</td>\n",
       "      <td>-0.006095</td>\n",
       "      <td>-0.041476</td>\n",
       "      <td>-0.021257</td>\n",
       "      <td>0.047352</td>\n",
       "      <td>-0.048834</td>\n",
       "    </tr>\n",
       "  </tbody>\n",
       "</table>\n",
       "</div>"
      ],
      "text/plain": [
       "          0         1         2         3         4         5         6  \\\n",
       "0  0.930354  0.172469  0.065248 -0.073626 -0.019328  0.076089 -0.046467   \n",
       "1  0.115413 -0.768371  0.011932 -0.399182  0.083961 -0.082154 -0.092324   \n",
       "2  0.162974 -0.368789 -0.199438  0.623791  0.054076 -0.030764 -0.026575   \n",
       "3  0.009375  0.170552 -0.812911 -0.203984  0.119618  0.012265 -0.059244   \n",
       "4  0.001121  0.067189  0.115458 -0.188257 -0.472508 -0.279328 -0.069655   \n",
       "5  0.035638 -0.027109 -0.033166 -0.099844 -0.081310 -0.150698  0.144473   \n",
       "6 -0.007002 -0.031425 -0.113499  0.132710 -0.322746 -0.207030 -0.093694   \n",
       "7  0.024885 -0.117888  0.107740  0.099059 -0.091471 -0.042720 -0.010444   \n",
       "8  0.012757  0.024810  0.056919 -0.052344 -0.006095 -0.041476 -0.021257   \n",
       "\n",
       "          7         8  \n",
       "0 -0.035060 -0.005011  \n",
       "1 -0.102756  0.012037  \n",
       "2  0.337266 -0.130248  \n",
       "3  0.035446 -0.025543  \n",
       "4  0.295247 -0.123511  \n",
       "5  0.118392 -0.223863  \n",
       "6 -0.120103  0.171325  \n",
       "7 -0.061696  0.085421  \n",
       "8  0.047352 -0.048834  "
      ]
     },
     "execution_count": 100,
     "metadata": {},
     "output_type": "execute_result"
    },
    {
     "data": {
      "image/png": "[encoded data removed]",
      "text/plain": [
       "<Figure size 400x400 with 2 Axes>"
      ]
     },
     "metadata": {},
     "output_type": "display_data"
    }
   ],
   "source": [
    "cors = 1 - pairwise_distances(rna_sc_ms_data.values.T, \n",
    "                   sc_gs_ms_data.values.T, metric='correlation')\n",
    "sns.heatmap(np.abs(cors), \n",
    "           cmap=matplotlib.cm.Blues)\n",
    "pd.DataFrame(cors)"
   ]
  },
  {
   "cell_type": "markdown",
   "metadata": {
    "hidden": true
   },
   "source": [
    "### Save"
   ]
  },
  {
   "cell_type": "code",
   "execution_count": 126,
   "metadata": {
    "ExecuteTime": {
     "end_time": "2021-05-10T20:42:04.730465Z",
     "start_time": "2021-05-10T20:42:04.727074Z"
    },
    "deletable": false,
    "editable": false,
    "hidden": true,
    "run_control": {
     "frozen": true
    }
   },
   "outputs": [],
   "source": [
    "import pickle"
   ]
  },
  {
   "cell_type": "code",
   "execution_count": 128,
   "metadata": {
    "ExecuteTime": {
     "end_time": "2021-05-10T20:44:11.311153Z",
     "start_time": "2021-05-10T20:44:11.304361Z"
    },
    "deletable": false,
    "editable": false,
    "hidden": true,
    "run_control": {
     "frozen": true
    }
   },
   "outputs": [],
   "source": [
    "with open(out_dir + 'dm_res.p', 'wb') as p:\n",
    "    pickle.dump((rna_meta_ms_data, meta_gs_ms_data, \n",
    "                rna_sc_ms_data, sc_gs_ms_data), p)"
   ]
  },
  {
   "cell_type": "code",
   "execution_count": null,
   "metadata": {
    "deletable": false,
    "editable": false,
    "hidden": true,
    "run_control": {
     "frozen": true
    }
   },
   "outputs": [],
   "source": []
  },
  {
   "cell_type": "code",
   "execution_count": null,
   "metadata": {
    "hidden": true
   },
   "outputs": [],
   "source": []
  },
  {
   "cell_type": "code",
   "execution_count": null,
   "metadata": {
    "hidden": true
   },
   "outputs": [],
   "source": []
  },
  {
   "cell_type": "markdown",
   "metadata": {},
   "source": [
    "# SCRATCH"
   ]
  },
  {
   "cell_type": "raw",
   "metadata": {},
   "source": []
  },
  {
   "cell_type": "code",
   "execution_count": null,
   "metadata": {},
   "outputs": [],
   "source": []
  }
 ],
 "metadata": {
  "hide_input": false,
  "kernelspec": {
   "display_name": "Python 3",
   "language": "python",
   "name": "python3"
  },
  "language_info": {
   "codemirror_mode": {
    "name": "ipython",
    "version": 3
   },
   "file_extension": ".py",
   "mimetype": "text/x-python",
   "name": "python",
   "nbconvert_exporter": "python",
   "pygments_lexer": "ipython3",
   "version": "3.7.4"
  },
  "toc": {
   "base_numbering": 1,
   "nav_menu": {},
   "number_sections": true,
   "sideBar": true,
   "skip_h1_title": false,
   "title_cell": "Table of Contents",
   "title_sidebar": "Contents",
   "toc_cell": false,
   "toc_position": {
    "height": "calc(100% - 180px)",
    "left": "10px",
    "top": "150px",
    "width": "246px"
   },
   "toc_section_display": true,
   "toc_window_display": true
  }
 },
 "nbformat": 4,
 "nbformat_minor": 2
}
